{
 "cells": [
  {
   "cell_type": "markdown",
   "metadata": {},
   "source": [
    "### Quantum Master Equation\n",
    "The evolution of a density matrix $\\rho$ of a quantum system, describing the an open quantum system is given by the Master Equation. \n",
    "\n",
    "$$ \\frac{\\partial \\rho}{\\partial t} = -i[H,\\rho] +\\sum_{j=1}^{N_{j}}\\kappa \\left(c_{j}\\rho L_{j}^{\\dagger}-\\frac{1}{2}\\{c_{j}^{\\dagger}L_{j},\\rho\\}\\right) \\tag{1}$$\n",
    "\n",
    "where, \n",
    "- $c_{j}$ is called the Jump operators/Collapse operators which models the interaction between the system and environment, \n",
    "- $H$ is the Hamiltonian of the system. \n",
    "\n",
    "The equation (**1**) gives the time evolution of the open quantum systems when the *interaction between the system and environment is very weak*.\n"
   ]
  },
  {
   "cell_type": "markdown",
   "metadata": {},
   "source": [
    "**Linblad Map**\n",
    "\n",
    "$\\mathcal{L}$ is called the Linbladian of the quantum system/Linblad Map. The Linblad Map is defined as:\n",
    "\n",
    "$$\\mathcal{L[O]}=-i[H,\\mathcal{O}] +\\sum_{j=1}^{N_{j}} \\kappa  \\left(c_{j}\\mathcal{O} c_{j}^{\\dagger}-\\frac{1}{2}\\{c_{j}^{\\dagger}c_{j},\\mathcal{O}\\}\\right)$$\n",
    "\n",
    "The Linblad map is composed of two parts:\n",
    "\n",
    "- $\\mathcal{L_{C}}=-i[H,\\mathcal{O}]$ governs the coherent dynamics. (_Equivalent to equation of motion of an operator in Heisenberg's picture._)\n",
    "- $\\mathcal{L_{D}}=\\sum_{j=1}^{N_{j}} \\kappa  \\left(c_{j}\\mathcal{O} c_{j}^{\\dagger}-\\frac{1}{2}\\{c_{j}^{\\dagger}c_{j},\\mathcal{O}\\}\\right)$ governs the dissipative dynamics. Dissipation leads to a loss of coherence or relaxation toward a steady state.\n"
   ]
  },
  {
   "cell_type": "markdown",
   "metadata": {},
   "source": [
    "\n",
    "**Properties of the Linblad Map**\n",
    "- Linblad Map is completely positive and trace preserving map (CPTP Map). \n",
    "  \n",
    "    - Completely Positive Maps preserves the positivity of matrices \n",
    "        - _symmetric matrices with eigeneigenvalsues greater than zero_.\n",
    "    - Trace Preservation ensures that input and output matrices have unit norm \n",
    "        - _important since we are working with density matrix whose norm has to be preveserved while applying maps._\n",
    "\n",
    "**Diagonalization of Linbladian Maps**\n",
    "\n",
    "Assuming Linbladian Maps to be diagonalizable, we can arrive at an eigenvalue equation:\n",
    "$$ L[r_k] = \\lambda_k r_k \\tag{2}$$\n",
    "where, \n",
    "\n",
    "- $r_k$ is known as the right eigenmatrice.\n",
    "- $\\lambda_k$ is the complex eigeneigeneigeneigenvalsssue. \n",
    "(_since the Linbladian is non-Hermitian in general_)\n",
    "\n",
    "Note:\n",
    "\n",
    "_The positivity of Linbladian ensures that,_\n",
    "-  _if $\\lambda_{k}$ is an eigenvalue then $\\lambda_{k}^{*}$ will be an eigenvalue._ (proof?)\n",
    "- _if $\\lambda_{k}$ is real, then $r_{k}$ can be chosen to be Hermitian._ (proof?)"
   ]
  },
  {
   "cell_type": "markdown",
   "metadata": {},
   "source": [
    "#### Example - 1: Two Level Open Quantum Systems\n",
    "\n",
    "Consider a single qubit system of Hamiltonian,\n",
    "$$H = \\Delta\\hat{S_z} - \\Omega\\hat{S_x}$$\n",
    "\n",
    "Let the system be interacting with the environment and the dissipation is given by $c = \\kappa \\hat{S_{-}}$, where $\\kappa$ is the interaction strength.\n",
    "\n",
    "\n"
   ]
  },
  {
   "cell_type": "code",
   "execution_count": 1,
   "metadata": {},
   "outputs": [],
   "source": [
    "import qutip as qt\n",
    "from utils import *\n",
    "import numpy as np\n",
    "from IPython.display import Math,display\n",
    "\n",
    "import matplotlib.pyplot as plt\n"
   ]
  },
  {
   "cell_type": "code",
   "execution_count": 2,
   "metadata": {},
   "outputs": [
    {
     "name": "stdout",
     "output_type": "stream",
     "text": [
      "Linbladian of the system \n",
      "\n"
     ]
    },
    {
     "data": {
      "text/latex": [
       "$\\displaystyle \\begin{bmatrix}\n",
       "-1+0j & 0-0.5j & 0+0.5j & 0+0j \\\\\n",
       "0-0.5j & -0.5-1j & 0+0j & 0+0.5j \\\\\n",
       "0+0.5j & 0+0j & -0.5+1j & 0-0.5j \\\\\n",
       "1+0j & 0+0.5j & 0-0.5j & 0+0j \\\\\n",
       "\\end{bmatrix}$"
      ],
      "text/plain": [
       "<IPython.core.display.Math object>"
      ]
     },
     "metadata": {},
     "output_type": "display_data"
    },
    {
     "name": "stdout",
     "output_type": "stream",
     "text": [
      "Eigenvalues \n",
      " [-0.7580558724784723, (-0.6209720637607636-1.3866977525296753j), (-0.620972063760763+1.3866977525296744j), 0]\n"
     ]
    }
   ],
   "source": [
    "\n",
    "# Pauli Operators\n",
    "sx = 0.5*qt.operators.sigmax()\n",
    "sy = 0.5*qt.operators.sigmay()\n",
    "sz = 0.5*qt.operators.sigmaz()\n",
    "I =  qt.operators.identity(2)\n",
    "\n",
    "# jump operators \n",
    "sm = qt.operators.sigmam() # spin-lowering operators\n",
    "kappa = 1\n",
    "c_ops = kappa*sm\n",
    "\n",
    "# Hamiltonian\n",
    "delta = -1\n",
    "omega = 1 \n",
    "ham = delta*sz+omega*sx\n",
    "\n",
    "# Generating Linbladian\n",
    "Linbladian = qt.liouvillian(ham,c_ops) \n",
    "\n",
    "print(\"Linbladian of the system \\n\")\n",
    "display(Math(qobj_to_latex(Linbladian)))\n",
    "\n",
    "eigenvals, eigenmat = Linbladian.eigenstates()\n",
    "\n",
    "\n",
    "#eigenmat = process_qobjs(eigenmat)\n",
    "rks = [np.reshape(eigenmat[i],(2,2)) for i in range(len(eigenmat))]\n",
    "eigenvals = process_qobjs(eigenvals)\n",
    "\n",
    "print(\"Eigenvalues \\n\",eigenvals)\n",
    "# print(\"Eigenmatrix-1 \\n\",np.reshape(eigenmat[0],(2,2)))\n",
    "# print(\"Eigenmatrix-2 \\n\",np.reshape(eigenmat[1],(2,2)))\n",
    "# print(\"Eigenmatrix-3 \\n\",np.reshape(eigenmat[2],(2,2)))\n",
    "# print(\"Eigenmatrix-4 \\n\",np.reshape(eigenmat[3],(2,2)))\n",
    "      "
   ]
  },
  {
   "cell_type": "code",
   "execution_count": 3,
   "metadata": {},
   "outputs": [
    {
     "data": {
      "text/plain": [
       "array([Quantum object: dims = [[[2], [2]], [1]], shape = (4, 1), type = operator-ket\n",
       "       Qobj data =\n",
       "       [[ 0.507992  +0.j        ]\n",
       "        [-0.47627547+0.12290568j]\n",
       "        [-0.47627547-0.12290568j]\n",
       "        [-0.507992  +0.j        ]]                                                  ,\n",
       "       Quantum object: dims = [[[2], [2]], [1]], shape = (4, 1), type = operator-ket\n",
       "       Qobj data =\n",
       "       [[ 0.3319465 -0.10384403j]\n",
       "        [ 0.85841332+0.j        ]\n",
       "        [-0.14092519+0.03636657j]\n",
       "        [-0.3319465 +0.10384403j]]                                                  ,\n",
       "       Quantum object: dims = [[[2], [2]], [1]], shape = (4, 1), type = operator-ket\n",
       "       Qobj data =\n",
       "       [[ 0.3319465 +0.10384403j]\n",
       "        [-0.14092519-0.03636657j]\n",
       "        [ 0.85841332+0.j        ]\n",
       "        [-0.3319465 -0.10384403j]]                                                  ,\n",
       "       Quantum object: dims = [[[2], [2]], [1]], shape = (4, 1), type = operator-ket\n",
       "       Qobj data =\n",
       "       [[0.14586499+0.j        ]\n",
       "        [0.29172998+0.14586499j]\n",
       "        [0.29172998-0.14586499j]\n",
       "        [0.87518995+0.j        ]]                                                   ],\n",
       "      dtype=object)"
      ]
     },
     "execution_count": 3,
     "metadata": {},
     "output_type": "execute_result"
    }
   ],
   "source": [
    "eigenmat"
   ]
  },
  {
   "cell_type": "markdown",
   "metadata": {},
   "source": [
    "- The eigenvalues of the Linbladian always have non-positive real part $Re(\\lambda_k)<0$.  (Positivity of Maps)\n",
    "- Atleast one of the eigenvalue to be zero. (Trace preserving by Maps)   "
   ]
  },
  {
   "cell_type": "markdown",
   "metadata": {},
   "source": [
    "**Dual Map of Linbladian**\n",
    "\n",
    "We can define a dual map of Linbladian called the adjoint Linblad Map, which implements the evolution of the observables:\n",
    "\n",
    "$$\\mathcal{L^{+}[O]}=-i[H,\\mathcal{O}] +\\sum_{j=1}^{N_{j}}\\kappa \\left(c_{j}^{\\dagger}\\mathcal{O} c_{j}-\\frac{1}{2}\\{\\mathcal{O},c_{j}^{\\dagger}c_{j}\\}\\right)$$\n",
    "\n",
    "This dual map $\\mathcal{L^{+}}$ can be diagonalized by the left eigenmatrices $l_k$ as:\n",
    "$$\\mathcal{L^{+}}[l_k] = \\lambda_k l_k$$ \n",
    "\n",
    "The left eigenmatrices $l_k$ are in principle different from right eigenmatrices $r_k$, but they still form a basis for the space of matrices  $Tr(l_k r_h) = \\delta_{k,h}$. \n"
   ]
  },
  {
   "cell_type": "code",
   "execution_count": 4,
   "metadata": {},
   "outputs": [],
   "source": [
    "eigenvals2, eigenmat2 = Linbladian.dag().eigenstates()\n",
    "\n",
    "eigenmat2 = process_qobjs(eigenmat2)\n",
    "lks = [np.reshape(eigenmat2[i],(2,2)) for i in range(len(eigenmat2))] # need to multiply with normalization constant \n",
    "eigenvals2 = process_qobjs(eigenvals2)\n",
    "#display(Math(r'$\\text{trace}(l_2 r_1)$'), np.trace(np.dot(lks[1],rks[3])))\n",
    "\n",
    "#print('Left Eigenmatrix for eigenvalue=0 \\n',lks[3])"
   ]
  },
  {
   "cell_type": "markdown",
   "metadata": {},
   "source": [
    "#### Dynamics of Open Quantum Systems\n",
    "\n",
    "The quantum master equation (eqn *1*) governs the open quantum system dynamics and can be written in terms of the Linblad Map $\\mathcal{L}$.\n",
    "$$ \\dot{\\rho_t} = \\mathcal{L}[\\rho_t] \\tag{3}$$\n",
    "\n",
    "The solution to the eqn. *3* gives the state of the system at time t. $$\\rho_{t} = e^{t\\mathcal{L}}[\\rho_0]$$\n",
    "\n",
    "The system interacting with environment will undergo dissipation and in time it will loses it quantum coherence approproaching thermal/steady state $\\rho_{ss}\\rightarrow \\lim_{t\\rightarrow \\infty}\\rho_t$. "
   ]
  },
  {
   "cell_type": "markdown",
   "metadata": {},
   "source": [
    "**Spectral Decomposition**\n",
    "\n",
    "The spectral decomposition of $\\mathcal{L}$ allow us to write the dynamics of any initial density matrix as:\n",
    "$$e^{t\\mathcal{L}}[\\rho_0] = \\sum_{k=1}^{d^{2}} e^{t\\lambda_k} Tr(l_k \\rho_0)r_k \\tag{4}$$\n",
    "\n",
    "where, $d$ is the dimension of the Hilbert space.\n",
    "\n",
    "Let $r_1$ is the right eigenmatrix corresponding to eigenvalue $\\lambda_{1} = 0$. Since the left eigenmatrix corresponding to $\\lambda_1$ is Identity $l_1 = \\mathbb{I}$, one has $Tr(r_1)=1$. Then equation 4 can be rewritten as,\n",
    "$$e^{t\\mathcal{L}}[\\rho_0] = r_1+\\sum_{k=2}^{d^{2}} e^{t\\lambda_k} Tr(l_k \\rho_0)r_k \\tag{5}$$\n",
    "\n",
    "\n",
    "From the above expression, we can see that the state of the system asymptotically approaches $r_1$ when time $t\\rightarrow \\infty$. Thus, $r_1$ denotes the steady state solution. "
   ]
  },
  {
   "cell_type": "code",
   "execution_count": 5,
   "metadata": {},
   "outputs": [
    {
     "name": "stdout",
     "output_type": "stream",
     "text": [
      "steady state \n",
      " [[0.14285714+0.j         0.28571429-0.14285714j]\n",
      " [0.28571429+0.14285714j 0.85714286+0.j        ]]\n",
      "\n",
      "\n",
      "right eigenmatrix of eigenvalue=0\n",
      " [[0.14586499+0.j         0.29172998-0.14586499j]\n",
      " [0.29172998+0.14586499j 0.87518995+0.j        ]]\n"
     ]
    }
   ],
   "source": [
    "steady_state = qt.steadystate(Linbladian).full()\n",
    "r1 = rks[3]\n",
    "\n",
    "print('steady state \\n',steady_state)\n",
    "print('\\n')\n",
    "print('right eigenmatrix of eigenvalue=0\\n',np.transpose(r1))"
   ]
  },
  {
   "cell_type": "markdown",
   "metadata": {},
   "source": [
    "The decomposition shows that matrices $r_k$ are nothing but the excitation modes of the system, each one is characterized by its decay rate $|Re(\\lambda_k)|$. We assume the order of $\\lambda_k$ in such a way that $|Re(\\lambda_2)| \\leq |Re(\\lambda_3)|\\leq \\cdots \\leq |Re(\\lambda_m)|$ and **further assume that the eigenvalue $\\lambda_2$ is real and unique** (not always true). \n",
    "\n",
    "In this case, the time scale for relaxation is given by; $$\\tau = \\frac{1}{|\\lambda_2|}$$ and $r_2$ is in fact the slowest decaying mode of the Markovian open quantum dynamics."
   ]
  },
  {
   "cell_type": "code",
   "execution_count": 6,
   "metadata": {},
   "outputs": [
    {
     "name": "stdout",
     "output_type": "stream",
     "text": [
      "lambda_2 = \n",
      " (-0.6209720637607633+1.3866977525296742j)\n",
      "l_2 = \n",
      " [[ 0.3414142 +0.31507231j  0.81668356+0.j        ]\n",
      " [-0.13407444-0.0345987j  -0.29020519+0.11748052j]]\n"
     ]
    },
    {
     "data": {
      "text/latex": [
       "$\\displaystyle \\text{trace}(l_2 r_1)$"
      ],
      "text/plain": [
       "<IPython.core.display.Math object>"
      ]
     },
     "metadata": {},
     "output_type": "display_data"
    },
    {
     "data": {
      "text/plain": [
       "(5.551115123125783e-17-2.7755575615628914e-17j)"
      ]
     },
     "metadata": {},
     "output_type": "display_data"
    }
   ],
   "source": [
    "indx = np.argsort(abs(np.array(eigenvals2).real))[1]\n",
    "print(f'lambda_2 = \\n',eigenvals2[indx])\n",
    "\n",
    "l2 = lks[indx]\n",
    "\n",
    "print('l_2 = \\n',l2)\n",
    "\n",
    "display(Math(r'$\\text{trace}(l_2 r_1)$'), np.trace(np.dot(l2,r1)))"
   ]
  },
  {
   "cell_type": "markdown",
   "metadata": {},
   "source": [
    "### Mpemba Effect\n",
    "\n",
    "- A generic initial state overlap with all the decaying modes. Thus, the time scale of relaxation depends upon slowest decaying mode $\\tau = \\frac{1}{|\\lambda_2|}$.\n",
    "\n",
    "- However, looking at equation 5, if $Tr(l_2\\rho_0)$ is zero, then time scale of relaxation depends upon the decay rate of $r_3$. The time scale of relaxation will be of the order $\\tau = \\frac{1}{|\\lambda_3|}$.\n",
    "\n",
    "- If we are able to prepare an state $\\rho_m$ such that $Tr(l_2\\rho_m) = 0$, then we can achieve acceleration to thermalization, similar to the Mpemba effect.\n",
    "\n",
    "- Thus Mpemba effect can be induced if there always exists a unitary U that transforms an arbitrary $\\rho_0 \\xrightarrow{U} \\rho_m$.\n",
    "\n",
    "$$ Tr(l_2\\rho_m)= Tr(l_2 U\\rho_0 U^{\\dagger})=0 $$ "
   ]
  },
  {
   "cell_type": "markdown",
   "metadata": {},
   "source": [
    "**Form of the Mpemba Unitary**\n",
    "\n",
    "- Consider the initial state to be $\\rho_0 = |0\\rangle \\langle 0|$.\n",
    "\n",
    "- If the eigenvalue $\\lambda_2$ which correspond to the *slowest decaying mode is real* and *non-degenerate* then the left-hand eigenmatrix $l_2$ is hermitian and can be spectrally decomposed as,\n",
    "$$l_2 = \\sum_{m=1}^{D}\\alpha_{m}|\\phi_{m}\\rangle\\langle \\phi_{m}| \\tag{6}$$\n",
    "\n",
    "- If one of the eigenvalues is zero, let's say $\\alpha_1=0$, then we can consider a unitary that rotates the initial state $|0\\rangle$ onto the corresponding eigenstate $|\\phi_1\\rangle$, such that $\\langle\\phi_{1}|U|0\\rangle = 1$.\n",
    "\n",
    "- In general, we cannot always say that one of the eigenvalue to be zero, but a unitary which satisfies this condition can neverthless be constructed.\n",
    "\n",
    "    - Underlying the construction of unitary is the observation that among the eigenvalues $\\alpha_m$ some are positive and some negative.\n",
    "    $$ tr(l_2r_1) = 0 = \\sum_{m=1}^{D}\\alpha_m \\langle \\phi_m|r_1|\\phi_m\\rangle$$\n",
    "\n",
    "    $r_1$ denotes the stationary/steady state and is a positive operator i.e, **$\\langle \\phi_m|r_1|\\phi_m\\rangle =0$, it follows that there are both positive and negeative $\\alpha_m$**.\n",
    "\n",
    "    - Without loss of generality we assume that $\\alpha_1 <0 $ and $\\alpha_2>0$, then the Unitary is of this form;\n",
    "    $$ U(s) = \\exp[-is(|\\phi_1\\rangle\\langle\\phi_2|+|\\phi_2\\rangle\\langle\\phi_1|)]R$$\n",
    "    with $R$ being also a unitary operator such that $R|0\\rangle = |\\phi_1\\rangle$ and $s= arctan(\\sqrt\\frac{-\\alpha_1}{\\alpha_2})$. "
   ]
  },
  {
   "cell_type": "code",
   "execution_count": 7,
   "metadata": {},
   "outputs": [
    {
     "data": {
      "text/plain": [
       "array([-0.07392024+0.04473507j,  0.12512925+0.38781775j])"
      ]
     },
     "execution_count": 7,
     "metadata": {},
     "output_type": "execute_result"
    }
   ],
   "source": [
    "l2vals,l2vecs = Qobj(l2).eigenstates()\n",
    "l2vals"
   ]
  },
  {
   "cell_type": "markdown",
   "metadata": {},
   "source": [
    "In the above example, we have one of the eigen values to be close to zero, if we transform the intial state to corresponding eigenvector we can achieve acceleration towards the stationary state.\n"
   ]
  },
  {
   "cell_type": "code",
   "execution_count": 8,
   "metadata": {},
   "outputs": [
    {
     "name": "stdout",
     "output_type": "stream",
     "text": [
      "mpemba_unitary \n",
      " [[ 0.85491674+0.j          0.        +0.j        ]\n",
      " [-0.43477839-0.28299312j  0.        +0.j        ]]\n"
     ]
    }
   ],
   "source": [
    "# let initial state be |0>\n",
    "init_state = qt.tensor([qt.ket('0')])\n",
    "\n",
    "# state to be transformed\n",
    "phi_0 = l2vecs[0]\n",
    "phi_0 = qt.Qobj(phi_0)\n",
    "phi_0.dims = init_state.dims\n",
    "\n",
    "# unitary construction\n",
    "U=np.zeros((2,2),dtype=complex)\n",
    "U[:,0]+=phi_0.full().flatten()\n",
    "print('mpemba_unitary \\n', U)\n"
   ]
  },
  {
   "cell_type": "code",
   "execution_count": 9,
   "metadata": {},
   "outputs": [],
   "source": [
    "# solving master equation\n",
    "\n",
    "final_state = qt.steadystate(ham,[c_ops]) # steady state solution \n",
    "\n",
    "tlist = -1*omega*np.linspace(0, 20, 100)\n",
    "medata = qt.mesolve(ham, init_state, tlist, [c_ops], []) # initial state  = |0>\n",
    "qmpedata = qt.mesolve(ham, phi_0, tlist, [c_ops], []) # Mpemba unitary rotated state"
   ]
  },
  {
   "cell_type": "code",
   "execution_count": 10,
   "metadata": {},
   "outputs": [
    {
     "data": {
      "image/png": "[encoded data removed]",
      "text/plain": [
       "<Figure size 640x480 with 1 Axes>"
      ]
     },
     "metadata": {},
     "output_type": "display_data"
    }
   ],
   "source": [
    "# calculation of Hilbert Distances\n",
    "\n",
    "hilbert_distance = []\n",
    "qmpe_dist = []\n",
    "\n",
    "for state in medata.states:\n",
    "  dis = qt.hilbert_dist(state,final_state)\n",
    "  hilbert_distance.append(dis)\n",
    "\n",
    "for state in qmpedata.states:\n",
    "  dis = qt.hilbert_dist(state,final_state)\n",
    "  qmpe_dist.append(dis)\n",
    "\n",
    "plt.plot(tlist,hilbert_distance,label=r'$\\rho_0$')\n",
    "plt.plot(tlist,qmpe_dist,label=r'$U\\rho_0U^{\\dagger}$')\n",
    "plt.xlabel('time')\n",
    "plt.ylabel('hilbert distance')\n",
    "plt.legend()\n",
    "plt.show()"
   ]
  },
  {
   "cell_type": "markdown",
   "metadata": {},
   "source": [
    "Here we were not able observe Mpemba effect since $\\lambda_2 \\notin \\mathbb{R}$."
   ]
  },
  {
   "cell_type": "markdown",
   "metadata": {},
   "source": [
    "### Acceleration to Stationary State in Quantum Ising Model"
   ]
  },
  {
   "cell_type": "markdown",
   "metadata": {},
   "source": [
    "$$ H = \\Omega S_x - \\Delta S_z + \\frac{V}{N} S_z^{2}$$ \n",
    "\n",
    "The parameters chosen are $\\Delta=-1$, $V=3$, $\\kappa=1$ (all in units of $\\Omega$)."
   ]
  },
  {
   "cell_type": "code",
   "execution_count": 11,
   "metadata": {},
   "outputs": [],
   "source": [
    "def hamiltonian_ising(N,omega,delta,V):\n",
    "  sx = 0.5*qt.operators.sigmax()\n",
    "  #sy = 0.5*qt.operators.sigmay()\n",
    "  sz = 0.5*qt.operators.sigmaz()\n",
    "  I = qt.operators.identity(2)\n",
    "\n",
    "  ising_ham = qt.tensor([I*0]*N)\n",
    "  for i in range(N):\n",
    "    hz = qt.tensor([sz if j==i else I for j in range(N)])\n",
    "    hx = qt.tensor([sx if j==i else I for j in range(N)])\n",
    "    ising_ham += -1*delta*hz+omega*hx\n",
    "    for j in range(i + 1, N):\n",
    "        hzz = qt.tensor([sz if k == i or k == j else I for k in range(N)]) # assume obc\n",
    "        ising_ham += (V/N)*hzz\n",
    "  \n",
    "  return(ising_ham)"
   ]
  },
  {
   "cell_type": "code",
   "execution_count": 76,
   "metadata": {},
   "outputs": [],
   "source": [
    "# Hamiltonian\n",
    "omega = np.pi\n",
    "N = 5\n",
    "delta = -1*omega\n",
    "V = 3*omega\n",
    "hamiltonian=hamiltonian_ising(N,omega,delta,V)\n",
    "\n",
    "# collapse operator\n",
    "kappa = 1\n",
    "c_ops = [qt.tensor([sm if i==j  else I for j in range(N)]) for i in range(N)]\n",
    "c_ops = [np.sqrt(kappa) * c_op for c_op in c_ops]"
   ]
  },
  {
   "cell_type": "code",
   "execution_count": 77,
   "metadata": {},
   "outputs": [],
   "source": [
    "# Linbladian\n",
    "L = qt.liouvillian(hamiltonian, c_ops)\n",
    "L_dag = qt.liouvillian(hamiltonian, c_ops).dag()"
   ]
  },
  {
   "cell_type": "code",
   "execution_count": 78,
   "metadata": {},
   "outputs": [
    {
     "name": "stdout",
     "output_type": "stream",
     "text": [
      "eigen values\n",
      " [-4.52488251+0.j         -4.069693  -7.26504897j -4.069693  -7.26504897j\n",
      " ... -0.80651698+4.49220493j -0.73479962+0.j\n",
      "  0.        +0.j        ]\n"
     ]
    }
   ],
   "source": [
    "# diagonalization using qutip\n",
    "val,mat = L_dag.eigenstates()\n",
    "tol = 1e-8\n",
    "real_vals = np.where(np.abs(val.imag)<tol,val.real,val)\n",
    "real_vals = np.where(np.abs(real_vals.real)<tol,real_vals.imag,real_vals)\n",
    "print('eigen values\\n', real_vals)"
   ]
  },
  {
   "cell_type": "code",
   "execution_count": 79,
   "metadata": {},
   "outputs": [
    {
     "name": "stdout",
     "output_type": "stream",
     "text": [
      "[-0.06776188  0.02906667  0.04249446  0.04249446  0.04249446  0.04249446\n",
      "  0.11849191  0.13073343  0.13073343  0.13073343  0.13073343  0.13214113\n",
      "  0.13214113  0.13214113  0.13214113  0.13214113  0.19926228  0.19994071\n",
      "  0.19994071  0.19994071  0.19994071  0.20285887  0.20285887  0.20285887\n",
      "  0.20285887  0.20285887  0.25245196  0.2558314   0.2558314   0.2558314\n",
      "  0.2558314   0.30048906]\n"
     ]
    }
   ],
   "source": [
    "l2indx = np.argsort(abs(real_vals))[1]\n",
    "l2 = mat[l2indx].full().reshape(2**N,2**N)\n",
    "\n",
    "L2 = qt.Qobj(np.round(l2,3))\n",
    "alphas,phis = L2.eigenstates()\n",
    "\n",
    "print(alphas)"
   ]
  },
  {
   "cell_type": "code",
   "execution_count": 80,
   "metadata": {},
   "outputs": [
    {
     "data": {
      "text/latex": [
       "Quantum object: dims = [[2, 2, 2, 2, 2], [1]], shape = (32, 1), type = ket $ \\\\ \\left(\\begin{matrix}(0.082+0.069j)\\\\(0.186-0.210j)\\\\(-0.090+0.126j)\\\\(0.199+0.059j)\\\\(0.147-0.034j)\\\\\\vdots\\\\(-0.009-0.132j)\\\\(0.025-0.054j)\\\\(-0.139+0.170j)\\\\(0.131-0.140j)\\\\(-0.048+0.044j)\\\\\\end{matrix}\\right)$"
      ],
      "text/plain": [
       "Quantum object: dims = [[2, 2, 2, 2, 2], [1]], shape = (32, 1), type = ket\n",
       "Qobj data =\n",
       "[[ 0.08213557+0.06865909j]\n",
       " [ 0.18623962-0.21011483j]\n",
       " [-0.08983334+0.12637672j]\n",
       " [ 0.19853897+0.05854721j]\n",
       " [ 0.14749902-0.03361819j]\n",
       " [ 0.05601631-0.01583844j]\n",
       " [ 0.07212638+0.0389155j ]\n",
       " [ 0.1941602 -0.12200578j]\n",
       " [-0.18458479-0.17348733j]\n",
       " [ 0.20519545+0.04515011j]\n",
       " [-0.06022576+0.17462033j]\n",
       " [ 0.02387009-0.19116556j]\n",
       " [ 0.05766192-0.17614702j]\n",
       " [ 0.1707507 -0.06603388j]\n",
       " [-0.17844792+0.12123899j]\n",
       " [-0.01555761-0.00961907j]\n",
       " [-0.08089772-0.16335919j]\n",
       " [-0.09206594+0.15154238j]\n",
       " [-0.05617274+0.01432961j]\n",
       " [ 0.18520638-0.07419284j]\n",
       " [ 0.06970881-0.19027753j]\n",
       " [-0.06995894-0.15775382j]\n",
       " [ 0.19507356-0.15755541j]\n",
       " [-0.1806568 -0.08640593j]\n",
       " [ 0.13402268+0.00787206j]\n",
       " [-0.00075536-0.09127757j]\n",
       " [ 0.12127105-0.17376558j]\n",
       " [-0.00887905-0.1317284j ]\n",
       " [ 0.02456425-0.05436914j]\n",
       " [-0.13877189+0.16968601j]\n",
       " [ 0.13119534-0.13978695j]\n",
       " [-0.04768725+0.04429561j]]"
      ]
     },
     "execution_count": 80,
     "metadata": {},
     "output_type": "execute_result"
    }
   ],
   "source": [
    "# init_state = qt.tensor([qt.ket('0')]*N)\n",
    "# init_state\n",
    "\n",
    "init_state =  qt.rand_ket(2**N)\n",
    "init_state.dims = [[2]*N,[1]]\n",
    "init_state"
   ]
  },
  {
   "cell_type": "code",
   "execution_count": 81,
   "metadata": {},
   "outputs": [
    {
     "data": {
      "text/plain": [
       "0.9010104782601808"
      ]
     },
     "execution_count": 81,
     "metadata": {},
     "output_type": "execute_result"
    }
   ],
   "source": [
    "phi1 = phis[0]\n",
    "alpha1 = abs(alphas[0])\n",
    "\n",
    "phi2 = phis[2]\n",
    "alpha2 = abs(alphas[2])\n",
    "\n",
    "s = np.arctan(np.sqrt(alpha1/alpha2))\n",
    "s"
   ]
  },
  {
   "cell_type": "code",
   "execution_count": 82,
   "metadata": {},
   "outputs": [],
   "source": [
    "phi1.dims = init_state.dims\n",
    "phi2.dims = init_state.dims"
   ]
  },
  {
   "cell_type": "code",
   "execution_count": 83,
   "metadata": {},
   "outputs": [
    {
     "data": {
      "text/latex": [
       "Quantum object: dims = [[2, 2, 2, 2, 2], [1]], shape = (32, 1), type = ket $ \\\\ \\left(\\begin{matrix}0.013\\\\(-0.045-6.428\\times10^{-04}j)\\\\(-0.045-6.428\\times10^{-04}j)\\\\(0.100+0.019j)\\\\(-0.045-6.428\\times10^{-04}j)\\\\\\vdots\\\\(0.264+0.110j)\\\\(-0.183-0.056j)\\\\(0.264+0.110j)\\\\(0.264+0.110j)\\\\(-0.304-0.133j)\\\\\\end{matrix}\\right)$"
      ],
      "text/plain": [
       "Quantum object: dims = [[2, 2, 2, 2, 2], [1]], shape = (32, 1), type = ket\n",
       "Qobj data =\n",
       "[[ 0.01266836+0.j        ]\n",
       " [-0.04530191-0.00064284j]\n",
       " [-0.04530191-0.00064284j]\n",
       " [ 0.10006642+0.01934566j]\n",
       " [-0.04530191-0.00064284j]\n",
       " [ 0.10006642+0.01934566j]\n",
       " [ 0.10006642+0.01934566j]\n",
       " [-0.18290828-0.05628331j]\n",
       " [-0.04530191-0.00064284j]\n",
       " [ 0.10006642+0.01934566j]\n",
       " [ 0.10006642+0.01934566j]\n",
       " [-0.18290828-0.05628331j]\n",
       " [ 0.10006642+0.01934566j]\n",
       " [-0.18290828-0.05628331j]\n",
       " [-0.18290828-0.05628331j]\n",
       " [ 0.26447094+0.10954984j]\n",
       " [-0.04530191-0.00064284j]\n",
       " [ 0.10006642+0.01934566j]\n",
       " [ 0.10006642+0.01934566j]\n",
       " [-0.18290828-0.05628331j]\n",
       " [ 0.10006642+0.01934566j]\n",
       " [-0.18290828-0.05628331j]\n",
       " [-0.18290828-0.05628331j]\n",
       " [ 0.26447094+0.10954984j]\n",
       " [ 0.10006642+0.01934566j]\n",
       " [-0.18290828-0.05628331j]\n",
       " [-0.18290828-0.05628331j]\n",
       " [ 0.26447094+0.10954984j]\n",
       " [-0.18290828-0.05628331j]\n",
       " [ 0.26447094+0.10954984j]\n",
       " [ 0.26447094+0.10954984j]\n",
       " [-0.30351452-0.13272863j]]"
      ]
     },
     "execution_count": 83,
     "metadata": {},
     "output_type": "execute_result"
    }
   ],
   "source": [
    "phi1"
   ]
  },
  {
   "cell_type": "code",
   "execution_count": 84,
   "metadata": {},
   "outputs": [
    {
     "data": {
      "text/latex": [
       "Quantum object: dims = [[2, 2, 2, 2, 2], [2, 2, 2, 2, 2]], shape = (32, 32), type = oper, isherm = False $ \\\\ \\left(\\begin{matrix}(0.001-8.698\\times10^{-04}j) & (0.002+0.003j) & (-0.001-0.002j) & (0.003-7.417\\times10^{-04}j) & (0.002+4.259\\times10^{-04}j) & \\cdots & (-1.125\\times10^{-04}+0.002j) & (3.112\\times10^{-04}+6.888\\times10^{-04}j) & (-0.002-0.002j) & (0.002+0.002j) & (-6.041\\times10^{-04}-5.612\\times10^{-04}j)\\\\(-0.004+0.003j) & (-0.008-0.010j) & (0.004+0.006j) & (-0.009+0.003j) & (-0.007-0.002j) & \\cdots & (4.869\\times10^{-04}-0.006j) & (-0.001-0.002j) & (0.006+0.008j) & (-0.006-0.006j) & (0.002+0.002j)\\\\(-0.004+0.003j) & (-0.008-0.010j) & (0.004+0.006j) & (-0.009+0.003j) & (-0.007-0.002j) & \\cdots & (4.869\\times10^{-04}-0.006j) & (-0.001-0.002j) & (0.006+0.008j) & (-0.006-0.006j) & (0.002+0.002j)\\\\(0.010-0.005j) & (0.015+0.025j) & (-0.007-0.014j) & (0.021-0.002j) & (0.014+0.006j) & \\cdots & (-0.003+0.013j) & (0.001+0.006j) & (-0.011-0.020j) & (0.010+0.017j) & (-0.004-0.005j)\\\\(-0.004+0.003j) & (-0.008-0.010j) & (0.004+0.006j) & (-0.009+0.003j) & (-0.007-0.002j) & \\cdots & (4.869\\times10^{-04}-0.006j) & (-0.001-0.002j) & (0.006+0.008j) & (-0.006-0.006j) & (0.002+0.002j)\\\\\\vdots & \\vdots & \\vdots & \\vdots & \\vdots & \\ddots & \\vdots & \\vdots & \\vdots & \\vdots & \\vdots\\\\(0.029-0.009j) & (0.026+0.076j) & (-0.010-0.043j) & (0.059+0.006j) & (0.035+0.025j) & \\cdots & (-0.017+0.034j) & (5.404\\times10^{-04}+0.017j) & (-0.018-0.060j) & (0.019+0.051j) & (-0.008-0.017j)\\\\(-0.019+0.008j) & (-0.022-0.049j) & (0.009+0.028j) & (-0.040-4.657\\times10^{-04}j) & (-0.025-0.014j) & \\cdots & (0.009-0.024j) & (-0.001-0.011j) & (0.016+0.039j) & (-0.016-0.033j) & (0.006+0.011j)\\\\(0.029-0.009j) & (0.026+0.076j) & (-0.010-0.043j) & (0.059+0.006j) & (0.035+0.025j) & \\cdots & (-0.017+0.034j) & (5.404\\times10^{-04}+0.017j) & (-0.018-0.060j) & (0.019+0.051j) & (-0.008-0.017j)\\\\(0.029-0.009j) & (0.026+0.076j) & (-0.010-0.043j) & (0.059+0.006j) & (0.035+0.025j) & \\cdots & (-0.017+0.034j) & (5.404\\times10^{-04}+0.017j) & (-0.018-0.060j) & (0.019+0.051j) & (-0.008-0.017j)\\\\(-0.034+0.010j) & (-0.029-0.088j) & (0.010+0.050j) & (-0.068-0.009j) & (-0.040-0.030j) & \\cdots & (0.020-0.039j) & (-2.393\\times10^{-04}-0.020j) & (0.020+0.070j) & (-0.021-0.060j) & (0.009+0.020j)\\\\\\end{matrix}\\right)$"
      ],
      "text/plain": [
       "Quantum object: dims = [[2, 2, 2, 2, 2], [2, 2, 2, 2, 2]], shape = (32, 32), type = oper, isherm = False\n",
       "Qobj data =\n",
       "[[ 0.00104052-0.0008698j   0.00235935+0.00266181j -0.00113804-0.00160099j\n",
       "  ... -0.00175801-0.00214964j  0.00166203+0.00177087j\n",
       "  -0.00060412-0.00056115j]\n",
       " [-0.00376503+0.00305759j -0.00830194-0.00963832j  0.00398838+0.00578286j\n",
       "  ...  0.00617755+0.00777631j -0.00585354-0.00641695j\n",
       "   0.00213185+0.00203733j]\n",
       " [-0.00376503+0.00305759j -0.00830194-0.00963832j  0.00398838+0.00578286j\n",
       "  ...  0.00617755+0.00777631j -0.00585354-0.00641695j\n",
       "   0.00213185+0.00203733j]\n",
       " ...\n",
       " [ 0.02924406-0.0091604j   0.02623692+0.07597179j -0.00991376-0.0432642j\n",
       "  ... -0.01811206-0.06007946j  0.01938372+0.05134201j\n",
       "  -0.00775932-0.01693903j]\n",
       " [ 0.02924406-0.0091604j   0.02623692+0.07597179j -0.00991376-0.0432642j\n",
       "  ... -0.01811206-0.06007946j  0.01938372+0.05134201j\n",
       "  -0.00775932-0.01693903j]\n",
       " [-0.03404237+0.00993729j -0.02863818-0.08849223j  0.01049191+0.05028063j\n",
       "  ...  0.01959709+0.06992117j -0.02126596-0.05984075j\n",
       "   0.00859448+0.01977383j]]"
      ]
     },
     "execution_count": 84,
     "metadata": {},
     "output_type": "execute_result"
    }
   ],
   "source": [
    "# R=np.zeros((2**N,2**N),dtype=complex)\n",
    "# R[:,0]+=phi1.full().flatten()\n",
    "# R = qt.Qobj(R)\n",
    "\n",
    "R = phi1*init_state.dag()\n",
    "R"
   ]
  },
  {
   "cell_type": "code",
   "execution_count": 85,
   "metadata": {},
   "outputs": [
    {
     "data": {
      "text/latex": [
       "Quantum object: dims = [[2, 2, 2, 2, 2], [2, 2, 2, 2, 2]], shape = (32, 32), type = oper, isherm = False $ \\\\ \\left(\\begin{matrix}(6.460\\times10^{-04}-5.400\\times10^{-04}j) & (0.001+0.002j) & (-7.065\\times10^{-04}-9.939\\times10^{-04}j) & (0.002-4.605\\times10^{-04}j) & (0.001+2.644\\times10^{-04}j) & \\cdots & (-6.983\\times10^{-05}+0.001j) & (1.932\\times10^{-04}+4.276\\times10^{-04}j) & (-0.001-0.001j) & (0.001+0.001j) & (-3.750\\times10^{-04}-3.484\\times10^{-04}j)\\\\(-0.001+0.002j) & (-0.007-0.004j) & (0.003+0.002j) & (-0.004+0.003j) & (-0.004+5.350\\times10^{-04}j) & \\cdots & (-0.001-0.003j) & (-0.001-0.001j) & (0.005+0.003j) & (-0.005-0.002j) & (0.002+6.609\\times10^{-04}j)\\\\(-0.003+0.003j) & (-0.008-0.007j) & (0.004+0.004j) & (-0.007+0.003j) & (-0.005-6.181\\times10^{-04}j) & \\cdots & (-2.089\\times10^{-04}-0.005j) & (-0.001-0.002j) & (0.006+0.006j) & (-0.005-0.005j) & (0.002+0.001j)\\\\(0.005-0.007j) & (0.020+0.013j) & (-0.010-0.008j) & (0.015-0.009j) & (0.013-6.264\\times10^{-04}j) & \\cdots & (0.002+0.011j) & (0.003+0.004j) & (-0.015-0.011j) & (0.014+0.008j) & (-0.005-0.003j)\\\\(-0.003+0.004j) & (-0.011-0.007j) & (0.005+0.005j) & (-0.008+0.005j) & (-0.007+3.610\\times10^{-05}j) & \\cdots & (-9.824\\times10^{-04}-0.006j) & (-0.002-0.002j) & (0.008+0.006j) & (-0.007-0.005j) & (0.003+0.001j)\\\\\\vdots & \\vdots & \\vdots & \\vdots & \\vdots & \\ddots & \\vdots & \\vdots & \\vdots & \\vdots & \\vdots\\\\(0.005+0.009j) & (-0.022+0.013j) & (0.013-0.006j) & (0.002+0.019j) & (-0.006+0.013j) & \\cdots & (-0.012-0.003j) & (-0.005+0.001j) & (0.018-0.009j) & (-0.015+0.009j) & (0.005-0.004j)\\\\(-0.012-0.004j) & (0.009-0.033j) & (-0.007+0.017j) & (-0.019-0.016j) & (-0.006-0.017j) & \\cdots & (0.014-0.008j) & (0.004-0.006j) & (-0.008+0.025j) & (0.006-0.022j) & (-0.001+0.008j)\\\\(0.012+3.920\\times10^{-04}j) & (-1.380\\times10^{-04}+0.031j) & (0.002-0.017j) & (0.020+0.010j) & (0.010+0.014j) & \\cdots & (-0.010+0.010j) & (-0.002+0.006j) & (0.001-0.024j) & (5.032\\times10^{-04}+0.021j) & (-6.584\\times10^{-04}-0.007j)\\\\(0.023+0.003j) & (-0.006+0.062j) & (0.007-0.034j) & (0.040+0.023j) & (0.017+0.029j) & \\cdots & (-0.023+0.019j) & (-0.005+0.012j) & (0.006-0.048j) & (-0.003+0.042j) & (-9.788\\times10^{-05}-0.014j)\\\\(-0.021+0.006j) & (-0.018-0.055j) & (0.007+0.031j) & (-0.042-0.005j) & (-0.025-0.018j) & \\cdots & (0.013-0.024j) & (-1.485\\times10^{-04}-0.012j) & (0.012+0.043j) & (-0.013-0.037j) & (0.005+0.012j)\\\\\\end{matrix}\\right)$"
      ],
      "text/plain": [
       "Quantum object: dims = [[2, 2, 2, 2, 2], [2, 2, 2, 2, 2]], shape = (32, 32), type = oper, isherm = False\n",
       "Qobj data =\n",
       "[[ 6.45975610e-04-0.00053999j  1.46472773e-03+0.0016525j\n",
       "  -7.06516568e-04-0.00099392j ... -1.09140600e-03-0.00133454j\n",
       "   1.03181829e-03+0.00109939j -3.75048235e-04-0.00034837j]\n",
       " [-1.40959672e-03+0.0024778j  -6.60301178e-03-0.00350724j\n",
       "   3.41807232e-03+0.00231608j ...  5.04230190e-03+0.00294074j\n",
       "  -4.57482811e-03-0.00226541j  1.60219921e-03+0.00066092j]\n",
       " [-2.68026029e-03+0.00280021j -7.54477352e-03-0.00681398j\n",
       "   3.73964285e-03+0.00418736j ...  5.67444981e-03+0.00554955j\n",
       "  -5.28186585e-03-0.00450401j  1.89373484e-03+0.0014027j ]\n",
       " ...\n",
       " [ 1.17129867e-02+0.00039203j -1.37970687e-04+0.03073712j\n",
       "   1.89309018e-03-0.01686831j ...  1.06063375e-03-0.02397391j\n",
       "   5.03243944e-04+0.02098126j -6.58367927e-04-0.00709476j]\n",
       " [ 2.34998868e-02+0.00281421j -5.59266741e-03+0.06182224j\n",
       "   6.72594819e-03-0.03361335j ...  6.27966256e-03-0.04805445j\n",
       "  -2.61549875e-03+0.04230337j -9.78771288e-05-0.01438919j]\n",
       " [-2.11341176e-02+0.00616925j -1.77790984e-02-0.05493758j\n",
       "   6.51356939e-03+0.03121512j ...  1.21662308e-02+0.04340833j\n",
       "  -1.32022932e-02-0.03715022j  5.33560739e-03+0.01227595j]]"
      ]
     },
     "execution_count": 85,
     "metadata": {},
     "output_type": "execute_result"
    }
   ],
   "source": [
    "arg =(-s*1j)*(phi1*phi2.dag()+phi2*phi1.dag())\n",
    "Us = arg.expm()\n",
    "R.dims = Us.dims\n",
    "U = Us*R\n",
    "U"
   ]
  },
  {
   "cell_type": "code",
   "execution_count": 92,
   "metadata": {},
   "outputs": [],
   "source": [
    "# solving master equation\n",
    "final_state = qt.steadystate(hamiltonian,c_ops) # steady state solution \n",
    "\n",
    "tlist = omega*np.linspace(0, 4, 5000)\n",
    "medata = qt.mesolve(hamiltonian, init_state, tlist, c_ops, []) # initial state  = |0>\n",
    "qmpedata = qt.mesolve(hamiltonian, U*init_state, tlist, c_ops, []) # Mpemba unitary rotated state"
   ]
  },
  {
   "cell_type": "code",
   "execution_count": 93,
   "metadata": {},
   "outputs": [
    {
     "data": {
      "image/png": "[encoded data removed]",
      "text/plain": [
       "<Figure size 640x480 with 1 Axes>"
      ]
     },
     "metadata": {},
     "output_type": "display_data"
    }
   ],
   "source": [
    "# calculation of Hilbert Distances\n",
    "\n",
    "hilbert_distance = []\n",
    "qmpe_dist = []\n",
    "\n",
    "#hs_max = np.sqrt(2 *(1-1/(2**N)))\n",
    "\n",
    "for state in medata.states:\n",
    "\n",
    "  dis = (np.trace((state-final_state)**2))**(1/2)\n",
    "  #dis=qt.hilbert_dist(state,final_state)\n",
    "  hilbert_distance.append(dis)\n",
    "\n",
    "for state in qmpedata.states:\n",
    "  #dis = qt.hilbert_dist(state,final_state)\n",
    "  dis = (np.trace((state-final_state)**2))**(1/2)\n",
    "  qmpe_dist.append(dis)\n",
    "\n",
    "plt.yscale('log')\n",
    "plt.plot(tlist,hilbert_distance,label=r'$\\rho_0$')\n",
    "plt.plot(tlist,qmpe_dist,label=r'$U\\rho_0U^{\\dagger}$')\n",
    "plt.xlabel(f'$\\Omega t$')\n",
    "plt.ylabel('hilbert distance')\n",
    "plt.legend()\n",
    "plt.show()"
   ]
  },
  {
   "cell_type": "code",
   "execution_count": null,
   "metadata": {},
   "outputs": [],
   "source": []
  }
 ],
 "metadata": {
  "kernelspec": {
   "display_name": "qc",
   "language": "python",
   "name": "python3"
  },
  "language_info": {
   "codemirror_mode": {
    "name": "ipython",
    "version": 3
   },
   "file_extension": ".py",
   "mimetype": "text/x-python",
   "name": "python",
   "nbconvert_exporter": "python",
   "pygments_lexer": "ipython3",
   "version": "3.10.12"
  }
 },
 "nbformat": 4,
 "nbformat_minor": 4
}
