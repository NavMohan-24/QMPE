{
 "cells": [
  {
   "cell_type": "markdown",
   "metadata": {},
   "source": [
    "### Quantum Master Equation\n",
    "The evolution of a density matrix $\\rho$ of a quantum system, describing the an open quantum system is given by the Master Equation. \n",
    "\n",
    "$$ \\frac{\\partial \\rho}{\\partial t} = -i[H,\\rho] +\\sum_{j=1}^{N_{j}}\\kappa \\left(c_{j}\\rho L_{j}^{\\dagger}-\\frac{1}{2}\\{c_{j}^{\\dagger}L_{j},\\rho\\}\\right) \\tag{1}$$\n",
    "\n",
    "where, \n",
    "- $c_{j}$ is called the Jump operators/Collapse operators which models the interaction between the system and environment, \n",
    "- $H$ is the Hamiltonian of the system. \n",
    "\n",
    "The equation (**1**) gives the time evolution of the open quantum systems when the *interaction between the system and environment is very weak*.\n"
   ]
  },
  {
   "cell_type": "markdown",
   "metadata": {},
   "source": [
    "**Linblad Map**\n",
    "\n",
    "$\\mathcal{L}$ is called the Linbladian of the quantum system/Linblad Map. The Linblad Map is defined as:\n",
    "\n",
    "$$\\mathcal{L[O]}=-i[H,\\mathcal{O}] +\\sum_{j=1}^{N_{j}} \\kappa  \\left(c_{j}\\mathcal{O} c_{j}^{\\dagger}-\\frac{1}{2}\\{c_{j}^{\\dagger}c_{j},\\mathcal{O}\\}\\right)$$\n",
    "\n",
    "The Linblad map is composed of two parts:\n",
    "\n",
    "- $\\mathcal{L_{C}}=-i[H,\\mathcal{O}]$ governs the coherent dynamics. (_Equivalent to equation of motion of an operator in Heisenberg's picture._)\n",
    "- $\\mathcal{L_{D}}=\\sum_{j=1}^{N_{j}} \\kappa  \\left(c_{j}\\mathcal{O} c_{j}^{\\dagger}-\\frac{1}{2}\\{c_{j}^{\\dagger}c_{j},\\mathcal{O}\\}\\right)$ governs the dissipative dynamics. Dissipation leads to a loss of coherence or relaxation toward a steady state.\n"
   ]
  },
  {
   "cell_type": "markdown",
   "metadata": {},
   "source": [
    "\n",
    "**Properties of the Linblad Map**\n",
    "- Linblad Map is completely positive and trace preserving map (CPTP Map). \n",
    "  \n",
    "    - Completely Positive Maps preserves the positivity of matrices \n",
    "        - _symmetric matrices with eigeneigenvalsues greater than zero_.\n",
    "    - Trace Preservation ensures that input and output matrices have unit norm \n",
    "        - _important since we are working with density matrix whose norm has to be preveserved while applying maps._\n",
    "\n",
    "**Diagonalization of Linbladian Maps**\n",
    "\n",
    "Assuming Linbladian Maps to be diagonalizable, we can arrive at an eigenvalue equation:\n",
    "$$ L[r_k] = \\lambda_k r_k \\tag{2}$$\n",
    "where, \n",
    "\n",
    "- $r_k$ is known as the right eigenmatrice.\n",
    "- $\\lambda_k$ is the complex eigeneigeneigeneigenvalsssue. \n",
    "(_since the Linbladian is non-Hermitian in general_)\n",
    "\n",
    "Note:\n",
    "\n",
    "_The positivity of Linbladian ensures that,_\n",
    "-  _if $\\lambda_{k}$ is an eigenvalue then $\\lambda_{k}^{*}$ will be an eigenvalue._ (proof?)\n",
    "- _if $\\lambda_{k}$ is real, then $r_{k}$ can be chosen to be Hermitian._ (proof?)"
   ]
  },
  {
   "cell_type": "markdown",
   "metadata": {},
   "source": [
    "#### Example - 1: Two Level Open Quantum Systems\n",
    "\n",
    "Consider a single qubit system of Hamiltonian,\n",
    "$$H = \\Delta\\hat{S_z} - \\Omega\\hat{S_x}$$\n",
    "\n",
    "Let the system be interacting with the environment and the dissipation is given by $c = \\kappa \\hat{S_{-}}$, where $\\kappa$ is the interaction strength.\n",
    "\n",
    "\n"
   ]
  },
  {
   "cell_type": "code",
   "execution_count": 1,
   "metadata": {},
   "outputs": [],
   "source": [
    "import qutip as qt\n",
    "from utils import *\n",
    "import numpy as np\n",
    "from IPython.display import Math,display\n",
    "\n",
    "import matplotlib.pyplot as plt\n"
   ]
  },
  {
   "cell_type": "code",
   "execution_count": 2,
   "metadata": {},
   "outputs": [
    {
     "name": "stdout",
     "output_type": "stream",
     "text": [
      "Linbladian of the system \n",
      "\n"
     ]
    },
    {
     "data": {
      "text/latex": [
       "$\\displaystyle \\begin{bmatrix}\n",
       "-1+0j & 0-0.5j & 0+0.5j & 0+0j \\\\\n",
       "0-0.5j & -0.5-1j & 0+0j & 0+0.5j \\\\\n",
       "0+0.5j & 0+0j & -0.5+1j & 0-0.5j \\\\\n",
       "1+0j & 0+0.5j & 0-0.5j & 0+0j \\\\\n",
       "\\end{bmatrix}$"
      ],
      "text/plain": [
       "<IPython.core.display.Math object>"
      ]
     },
     "metadata": {},
     "output_type": "display_data"
    },
    {
     "name": "stdout",
     "output_type": "stream",
     "text": [
      "Eigenvalues \n",
      " [-0.7580558724784723, (-0.6209720637607636-1.3866977525296753j), (-0.620972063760763+1.3866977525296744j), 0]\n"
     ]
    }
   ],
   "source": [
    "\n",
    "# Pauli Operators\n",
    "sx = 0.5*qt.operators.sigmax()\n",
    "sy = 0.5*qt.operators.sigmay()\n",
    "sz = 0.5*qt.operators.sigmaz()\n",
    "I =  qt.operators.identity(2)\n",
    "\n",
    "# jump operators \n",
    "sm = qt.operators.sigmam() # spin-lowering operators\n",
    "kappa = 1\n",
    "c_ops = kappa*sm\n",
    "\n",
    "# Hamiltonian\n",
    "delta = -1\n",
    "omega = 1 \n",
    "ham = delta*sz+omega*sx\n",
    "\n",
    "# Generating Linbladian\n",
    "Linbladian = qt.liouvillian(ham,c_ops) \n",
    "\n",
    "print(\"Linbladian of the system \\n\")\n",
    "display(Math(qobj_to_latex(Linbladian)))\n",
    "\n",
    "eigenvals, eigenmat = Linbladian.eigenstates()\n",
    "\n",
    "\n",
    "#eigenmat = process_qobjs(eigenmat)\n",
    "rks = [np.reshape(eigenmat[i],(2,2)) for i in range(len(eigenmat))]\n",
    "eigenvals = process_qobjs(eigenvals)\n",
    "\n",
    "print(\"Eigenvalues \\n\",eigenvals)\n",
    "# print(\"Eigenmatrix-1 \\n\",np.reshape(eigenmat[0],(2,2)))\n",
    "# print(\"Eigenmatrix-2 \\n\",np.reshape(eigenmat[1],(2,2)))\n",
    "# print(\"Eigenmatrix-3 \\n\",np.reshape(eigenmat[2],(2,2)))\n",
    "# print(\"Eigenmatrix-4 \\n\",np.reshape(eigenmat[3],(2,2)))\n",
    "      "
   ]
  },
  {
   "cell_type": "code",
   "execution_count": 3,
   "metadata": {},
   "outputs": [
    {
     "data": {
      "text/plain": [
       "array([Quantum object: dims = [[[2], [2]], [1]], shape = (4, 1), type = operator-ket\n",
       "       Qobj data =\n",
       "       [[ 0.507992  +0.j        ]\n",
       "        [-0.47627547+0.12290568j]\n",
       "        [-0.47627547-0.12290568j]\n",
       "        [-0.507992  +0.j        ]]                                                  ,\n",
       "       Quantum object: dims = [[[2], [2]], [1]], shape = (4, 1), type = operator-ket\n",
       "       Qobj data =\n",
       "       [[ 0.3319465 -0.10384403j]\n",
       "        [ 0.85841332+0.j        ]\n",
       "        [-0.14092519+0.03636657j]\n",
       "        [-0.3319465 +0.10384403j]]                                                  ,\n",
       "       Quantum object: dims = [[[2], [2]], [1]], shape = (4, 1), type = operator-ket\n",
       "       Qobj data =\n",
       "       [[ 0.3319465 +0.10384403j]\n",
       "        [-0.14092519-0.03636657j]\n",
       "        [ 0.85841332+0.j        ]\n",
       "        [-0.3319465 -0.10384403j]]                                                  ,\n",
       "       Quantum object: dims = [[[2], [2]], [1]], shape = (4, 1), type = operator-ket\n",
       "       Qobj data =\n",
       "       [[0.14586499+0.j        ]\n",
       "        [0.29172998+0.14586499j]\n",
       "        [0.29172998-0.14586499j]\n",
       "        [0.87518995+0.j        ]]                                                   ],\n",
       "      dtype=object)"
      ]
     },
     "execution_count": 3,
     "metadata": {},
     "output_type": "execute_result"
    }
   ],
   "source": [
    "eigenmat"
   ]
  },
  {
   "cell_type": "markdown",
   "metadata": {},
   "source": [
    "- The eigenvalues of the Linbladian always have non-positive real part $Re(\\lambda_k)<0$.  (Positivity of Maps)\n",
    "- Atleast one of the eigenvalue to be zero. (Trace preserving by Maps)   "
   ]
  },
  {
   "cell_type": "markdown",
   "metadata": {},
   "source": [
    "**Dual Map of Linbladian**\n",
    "\n",
    "We can define a dual map of Linbladian called the adjoint Linblad Map, which implements the evolution of the observables:\n",
    "\n",
    "$$\\mathcal{L^{+}[O]}=-i[H,\\mathcal{O}] +\\sum_{j=1}^{N_{j}}\\kappa \\left(c_{j}^{\\dagger}\\mathcal{O} c_{j}-\\frac{1}{2}\\{\\mathcal{O},c_{j}^{\\dagger}c_{j}\\}\\right)$$\n",
    "\n",
    "This dual map $\\mathcal{L^{+}}$ can be diagonalized by the left eigenmatrices $l_k$ as:\n",
    "$$\\mathcal{L^{+}}[l_k] = \\lambda_k l_k$$ \n",
    "\n",
    "The left eigenmatrices $l_k$ are in principle different from right eigenmatrices $r_k$, but they still form a basis for the space of matrices  $Tr(l_k r_h) = \\delta_{k,h}$. \n"
   ]
  },
  {
   "cell_type": "code",
   "execution_count": 4,
   "metadata": {},
   "outputs": [],
   "source": [
    "eigenvals2, eigenmat2 = Linbladian.dag().eigenstates()\n",
    "\n",
    "eigenmat2 = process_qobjs(eigenmat2)\n",
    "lks = [np.reshape(eigenmat2[i],(2,2)) for i in range(len(eigenmat2))] # need to multiply with normalization constant \n",
    "eigenvals2 = process_qobjs(eigenvals2)\n",
    "#display(Math(r'$\\text{trace}(l_2 r_1)$'), np.trace(np.dot(lks[1],rks[3])))\n",
    "\n",
    "#print('Left Eigenmatrix for eigenvalue=0 \\n',lks[3])"
   ]
  },
  {
   "cell_type": "markdown",
   "metadata": {},
   "source": [
    "#### Dynamics of Open Quantum Systems\n",
    "\n",
    "The quantum master equation (eqn *1*) governs the open quantum system dynamics and can be written in terms of the Linblad Map $\\mathcal{L}$.\n",
    "$$ \\dot{\\rho_t} = \\mathcal{L}[\\rho_t] \\tag{3}$$\n",
    "\n",
    "The solution to the eqn. *3* gives the state of the system at time t. $$\\rho_{t} = e^{t\\mathcal{L}}[\\rho_0]$$\n",
    "\n",
    "The system interacting with environment will undergo dissipation and in time it will loses it quantum coherence approproaching thermal/steady state $\\rho_{ss}\\rightarrow \\lim_{t\\rightarrow \\infty}\\rho_t$. "
   ]
  },
  {
   "cell_type": "markdown",
   "metadata": {},
   "source": [
    "**Spectral Decomposition**\n",
    "\n",
    "The spectral decomposition of $\\mathcal{L}$ allow us to write the dynamics of any initial density matrix as:\n",
    "$$e^{t\\mathcal{L}}[\\rho_0] = \\sum_{k=1}^{d^{2}} e^{t\\lambda_k} Tr(l_k \\rho_0)r_k \\tag{4}$$\n",
    "\n",
    "where, $d$ is the dimension of the Hilbert space.\n",
    "\n",
    "Let $r_1$ is the right eigenmatrix corresponding to eigenvalue $\\lambda_{1} = 0$. Since the left eigenmatrix corresponding to $\\lambda_1$ is Identity $l_1 = \\mathbb{I}$, one has $Tr(r_1)=1$. Then equation 4 can be rewritten as,\n",
    "$$e^{t\\mathcal{L}}[\\rho_0] = r_1+\\sum_{k=2}^{d^{2}} e^{t\\lambda_k} Tr(l_k \\rho_0)r_k \\tag{5}$$\n",
    "\n",
    "\n",
    "From the above expression, we can see that the state of the system asymptotically approaches $r_1$ when time $t\\rightarrow \\infty$. Thus, $r_1$ denotes the steady state solution. "
   ]
  },
  {
   "cell_type": "code",
   "execution_count": 5,
   "metadata": {},
   "outputs": [
    {
     "name": "stdout",
     "output_type": "stream",
     "text": [
      "steady state \n",
      " [[0.14285714+0.j         0.28571429-0.14285714j]\n",
      " [0.28571429+0.14285714j 0.85714286+0.j        ]]\n",
      "\n",
      "\n",
      "right eigenmatrix of eigenvalue=0\n",
      " [[0.14586499+0.j         0.29172998-0.14586499j]\n",
      " [0.29172998+0.14586499j 0.87518995+0.j        ]]\n"
     ]
    }
   ],
   "source": [
    "steady_state = qt.steadystate(Linbladian).full()\n",
    "r1 = rks[3]\n",
    "\n",
    "print('steady state \\n',steady_state)\n",
    "print('\\n')\n",
    "print('right eigenmatrix of eigenvalue=0\\n',np.transpose(r1))"
   ]
  },
  {
   "cell_type": "markdown",
   "metadata": {},
   "source": [
    "The decomposition shows that matrices $r_k$ are nothing but the excitation modes of the system, each one is characterized by its decay rate $|Re(\\lambda_k)|$. We assume the order of $\\lambda_k$ in such a way that $|Re(\\lambda_2)| \\leq |Re(\\lambda_3)|\\leq \\cdots \\leq |Re(\\lambda_m)|$ and **further assume that the eigenvalue $\\lambda_2$ is real and unique** (not always true). \n",
    "\n",
    "In this case, the time scale for relaxation is given by; $$\\tau = \\frac{1}{|\\lambda_2|}$$ and $r_2$ is in fact the slowest decaying mode of the Markovian open quantum dynamics."
   ]
  },
  {
   "cell_type": "code",
   "execution_count": 6,
   "metadata": {},
   "outputs": [
    {
     "name": "stdout",
     "output_type": "stream",
     "text": [
      "lambda_2 = \n",
      " (-0.6209720637607633+1.3866977525296742j)\n",
      "l_2 = \n",
      " [[ 0.3414142 +0.31507231j  0.81668356+0.j        ]\n",
      " [-0.13407444-0.0345987j  -0.29020519+0.11748052j]]\n"
     ]
    },
    {
     "data": {
      "text/latex": [
       "$\\displaystyle \\text{trace}(l_2 r_1)$"
      ],
      "text/plain": [
       "<IPython.core.display.Math object>"
      ]
     },
     "metadata": {},
     "output_type": "display_data"
    },
    {
     "data": {
      "text/plain": [
       "(5.551115123125783e-17-2.7755575615628914e-17j)"
      ]
     },
     "metadata": {},
     "output_type": "display_data"
    }
   ],
   "source": [
    "indx = np.argsort(abs(np.array(eigenvals2).real))[1]\n",
    "print(f'lambda_2 = \\n',eigenvals2[indx])\n",
    "\n",
    "l2 = lks[indx]\n",
    "\n",
    "print('l_2 = \\n',l2)\n",
    "\n",
    "display(Math(r'$\\text{trace}(l_2 r_1)$'), np.trace(np.dot(l2,r1)))"
   ]
  },
  {
   "cell_type": "markdown",
   "metadata": {},
   "source": [
    "### Mpemba Effect\n",
    "\n",
    "- A generic initial state overlap with all the decaying modes. Thus, the time scale of relaxation depends upon slowest decaying mode $\\tau = \\frac{1}{|\\lambda_2|}$.\n",
    "\n",
    "- However, looking at equation 5, if $Tr(l_2\\rho_0)$ is zero, then time scale of relaxation depends upon the decay rate of $r_3$. The time scale of relaxation will be of the order $\\tau = \\frac{1}{|\\lambda_3|}$.\n",
    "\n",
    "- If we are able to prepare an state $\\rho_m$ such that $Tr(l_2\\rho_m) = 0$, then we can achieve acceleration to thermalization, similar to the Mpemba effect.\n",
    "\n",
    "- Thus Mpemba effect can be induced if there always exists a unitary U that transforms an arbitrary $\\rho_0 \\xrightarrow{U} \\rho_m$.\n",
    "\n",
    "$$ Tr(l_2\\rho_m)= Tr(l_2 U\\rho_0 U^{\\dagger})=0 $$ "
   ]
  },
  {
   "cell_type": "markdown",
   "metadata": {},
   "source": [
    "**Form of the Mpemba Unitary**\n",
    "\n",
    "- Consider the initial state to be $\\rho_0 = |0\\rangle \\langle 0|$.\n",
    "\n",
    "- If the eigenvalue $\\lambda_2$ which correspond to the *slowest decaying mode is real* and *non-degenerate* then the left-hand eigenmatrix $l_2$ is hermitian and can be spectrally decomposed as,\n",
    "$$l_2 = \\sum_{m=1}^{D}\\alpha_{m}|\\phi_{m}\\rangle\\langle \\phi_{m}| \\tag{6}$$\n",
    "\n",
    "- If one of the eigenvalues is zero, let's say $\\alpha_1=0$, then we can consider a unitary that rotates the initial state $|0\\rangle$ onto the corresponding eigenstate $|\\phi_1\\rangle$, such that $\\langle\\phi_{1}|U|0\\rangle = 1$.\n",
    "\n",
    "- In general, we cannot always say that one of the eigenvalue to be zero, but a unitary which satisfies this condition can neverthless be constructed.\n",
    "\n",
    "    - Underlying the construction of unitary is the observation that among the eigenvalues $\\alpha_m$ some are positive and some negative.\n",
    "    $$ tr(l_2r_1) = 0 = \\sum_{m=1}^{D}\\alpha_m \\langle \\phi_m|r_1|\\phi_m\\rangle$$\n",
    "\n",
    "    $r_1$ denotes the stationary/steady state and is a positive operator i.e, **$\\langle \\phi_m|r_1|\\phi_m\\rangle =0$, it follows that there are both positive and negeative $\\alpha_m$**.\n",
    "\n",
    "    - Without loss of generality we assume that $\\alpha_1 <0 $ and $\\alpha_2>0$, then the Unitary is of this form;\n",
    "    $$ U(s) = \\exp[-is(|\\phi_1\\rangle\\langle\\phi_2|+|\\phi_2\\rangle\\langle\\phi_1|)]R$$\n",
    "    with $R$ being also a unitary operator such that $R|0\\rangle = |\\phi_1\\rangle$ and $s= arctan(\\sqrt\\frac{-\\alpha_1}{\\alpha_2})$. "
   ]
  },
  {
   "cell_type": "code",
   "execution_count": 7,
   "metadata": {},
   "outputs": [
    {
     "data": {
      "text/plain": [
       "array([-0.07392024+0.04473507j,  0.12512925+0.38781775j])"
      ]
     },
     "execution_count": 7,
     "metadata": {},
     "output_type": "execute_result"
    }
   ],
   "source": [
    "l2vals,l2vecs = Qobj(l2).eigenstates()\n",
    "l2vals"
   ]
  },
  {
   "cell_type": "markdown",
   "metadata": {},
   "source": [
    "In the above example, we have one of the eigen values to be close to zero, if we transform the intial state to corresponding eigenvector we can achieve acceleration towards the stationary state.\n"
   ]
  },
  {
   "cell_type": "code",
   "execution_count": 8,
   "metadata": {},
   "outputs": [
    {
     "name": "stdout",
     "output_type": "stream",
     "text": [
      "mpemba_unitary \n",
      " [[ 0.85491674+0.j          0.        +0.j        ]\n",
      " [-0.43477839-0.28299312j  0.        +0.j        ]]\n"
     ]
    }
   ],
   "source": [
    "# let initial state be |0>\n",
    "init_state = qt.tensor([qt.ket('0')])\n",
    "\n",
    "# state to be transformed\n",
    "phi_0 = l2vecs[0]\n",
    "phi_0 = qt.Qobj(phi_0)\n",
    "phi_0.dims = init_state.dims\n",
    "\n",
    "# unitary construction\n",
    "U=np.zeros((2,2),dtype=complex)\n",
    "U[:,0]+=phi_0.full().flatten()\n",
    "print('mpemba_unitary \\n', U)\n"
   ]
  },
  {
   "cell_type": "code",
   "execution_count": 9,
   "metadata": {},
   "outputs": [],
   "source": [
    "# solving master equation\n",
    "\n",
    "final_state = qt.steadystate(ham,[c_ops]) # steady state solution \n",
    "\n",
    "tlist = -1*omega*np.linspace(0, 20, 100)\n",
    "medata = qt.mesolve(ham, init_state, tlist, [c_ops], []) # initial state  = |0>\n",
    "qmpedata = qt.mesolve(ham, phi_0, tlist, [c_ops], []) # Mpemba unitary rotated state"
   ]
  },
  {
   "cell_type": "code",
   "execution_count": 10,
   "metadata": {},
   "outputs": [
    {
     "data": {
      "image/png": "[encoded data removed]",
      "text/plain": [
       "<Figure size 640x480 with 1 Axes>"
      ]
     },
     "metadata": {},
     "output_type": "display_data"
    }
   ],
   "source": [
    "# calculation of Hilbert Distances\n",
    "\n",
    "hilbert_distance = []\n",
    "qmpe_dist = []\n",
    "\n",
    "for state in medata.states:\n",
    "  dis = qt.hilbert_dist(state,final_state)\n",
    "  hilbert_distance.append(dis)\n",
    "\n",
    "for state in qmpedata.states:\n",
    "  dis = qt.hilbert_dist(state,final_state)\n",
    "  qmpe_dist.append(dis)\n",
    "\n",
    "plt.plot(tlist,hilbert_distance,label=r'$\\rho_0$')\n",
    "plt.plot(tlist,qmpe_dist,label=r'$U\\rho_0U^{\\dagger}$')\n",
    "plt.xlabel('time')\n",
    "plt.ylabel('hilbert distance')\n",
    "plt.legend()\n",
    "plt.show()"
   ]
  },
  {
   "cell_type": "markdown",
   "metadata": {},
   "source": [
    "Here we were not able observe Mpemba effect since $\\lambda_2 \\notin \\mathbb{R}$."
   ]
  },
  {
   "cell_type": "markdown",
   "metadata": {},
   "source": [
    "### Acceleration to Stationary State in Quantum Ising Model"
   ]
  },
  {
   "cell_type": "markdown",
   "metadata": {},
   "source": [
    "$$ H = \\Omega S_x - \\Delta S_z + \\frac{V}{N} S_z^{2}$$ \n",
    "\n",
    "The parameters chosen are $\\Delta=-1$, $V=3$, $\\kappa=1$ (all in units of $\\Omega$)."
   ]
  },
  {
   "cell_type": "code",
   "execution_count": 11,
   "metadata": {},
   "outputs": [],
   "source": [
    "def hamiltonian_ising(N,omega,delta,V):\n",
    "  sx = 0.5*qt.operators.sigmax()\n",
    "  #sy = 0.5*qt.operators.sigmay()\n",
    "  sz = 0.5*qt.operators.sigmaz()\n",
    "  I = qt.operators.identity(2)\n",
    "\n",
    "  ising_ham = qt.tensor([I*0]*N)\n",
    "  for i in range(N):\n",
    "    hz = qt.tensor([sz if j==i else I for j in range(N)])\n",
    "    hx = qt.tensor([sx if j==i else I for j in range(N)])\n",
    "    ising_ham += -1*delta*hz+omega*hx\n",
    "    for j in range(i + 1, N):\n",
    "        hzz = qt.tensor([sz if k == i or k == j else I for k in range(N)]) # assume obc\n",
    "        ising_ham += (V/N)*hzz\n",
    "  \n",
    "  return(ising_ham)"
   ]
  },
  {
   "cell_type": "code",
   "execution_count": 12,
   "metadata": {},
   "outputs": [],
   "source": [
    "# Hamiltonian\n",
    "omega = 3*np.pi\n",
    "N = 5\n",
    "delta = -1*omega\n",
    "V = 3*omega\n",
    "hamiltonian=hamiltonian_ising(N,omega,delta,V)\n",
    "\n",
    "# collapse operator\n",
    "kappa = 1\n",
    "c_ops = [qt.tensor([sm if i==j  else I for j in range(N)]) for i in range(N)]\n",
    "c_ops = [np.sqrt(kappa) * c_op for c_op in c_ops]"
   ]
  },
  {
   "cell_type": "code",
   "execution_count": 13,
   "metadata": {},
   "outputs": [],
   "source": [
    "# Linbladian\n",
    "L = qt.liouvillian(hamiltonian, c_ops)\n",
    "L_dag = qt.liouvillian(hamiltonian, c_ops).dag()"
   ]
  },
  {
   "cell_type": "code",
   "execution_count": 14,
   "metadata": {},
   "outputs": [
    {
     "name": "stdout",
     "output_type": "stream",
     "text": [
      "eigen values\n",
      " [-4.52239758 +0.j         -4.06361412+21.79843478j\n",
      " -4.06361412+21.79843478j ... -0.9485314  +9.47256589j\n",
      " -0.73891291 +0.j          0.         +0.j        ]\n"
     ]
    }
   ],
   "source": [
    "# diagonalization using qutip\n",
    "val,mat = L_dag.eigenstates()\n",
    "tol = 1e-8\n",
    "real_vals = np.where(np.abs(val.imag)<tol,val.real,val)\n",
    "real_vals = np.where(np.abs(real_vals.real)<tol,real_vals.imag,real_vals)\n",
    "print('eigen values\\n', real_vals)"
   ]
  },
  {
   "cell_type": "code",
   "execution_count": 15,
   "metadata": {},
   "outputs": [
    {
     "name": "stdout",
     "output_type": "stream",
     "text": [
      "[-0.06749593  0.02812008  0.04372526  0.04372526  0.04372526  0.04372526\n",
      "  0.11885402  0.13041663  0.13041663  0.13041663  0.13041663  0.13243934\n",
      "  0.13243934  0.13243934  0.13243934  0.13243934  0.1997812   0.1997812\n",
      "  0.1997812   0.1997812   0.19990084  0.20256066  0.20256066  0.20256066\n",
      "  0.20256066  0.20256066  0.24872656  0.25407691  0.25407691  0.25407691\n",
      "  0.25407691  0.30289442]\n"
     ]
    }
   ],
   "source": [
    "l2indx = np.argsort(abs(real_vals))[1]\n",
    "l2 = mat[l2indx].full().reshape(2**N,2**N)\n",
    "\n",
    "L2 = qt.Qobj(np.round(l2,3))\n",
    "alphas,phis = L2.eigenstates()\n",
    "\n",
    "print(alphas)"
   ]
  },
  {
   "cell_type": "code",
   "execution_count": 16,
   "metadata": {},
   "outputs": [
    {
     "data": {
      "text/latex": [
       "Quantum object: dims = [[2, 2, 2, 2, 2], [1, 1, 1, 1, 1]], shape = (32, 1), type = ket $ \\\\ \\left(\\begin{matrix}1.0\\\\0.0\\\\0.0\\\\0.0\\\\0.0\\\\\\vdots\\\\0.0\\\\0.0\\\\0.0\\\\0.0\\\\0.0\\\\\\end{matrix}\\right)$"
      ],
      "text/plain": [
       "Quantum object: dims = [[2, 2, 2, 2, 2], [1, 1, 1, 1, 1]], shape = (32, 1), type = ket\n",
       "Qobj data =\n",
       "[[1.]\n",
       " [0.]\n",
       " [0.]\n",
       " [0.]\n",
       " [0.]\n",
       " [0.]\n",
       " [0.]\n",
       " [0.]\n",
       " [0.]\n",
       " [0.]\n",
       " [0.]\n",
       " [0.]\n",
       " [0.]\n",
       " [0.]\n",
       " [0.]\n",
       " [0.]\n",
       " [0.]\n",
       " [0.]\n",
       " [0.]\n",
       " [0.]\n",
       " [0.]\n",
       " [0.]\n",
       " [0.]\n",
       " [0.]\n",
       " [0.]\n",
       " [0.]\n",
       " [0.]\n",
       " [0.]\n",
       " [0.]\n",
       " [0.]\n",
       " [0.]\n",
       " [0.]]"
      ]
     },
     "execution_count": 16,
     "metadata": {},
     "output_type": "execute_result"
    }
   ],
   "source": [
    "init_state = qt.tensor([qt.ket('0')]*N)\n",
    "init_state"
   ]
  },
  {
   "cell_type": "code",
   "execution_count": 17,
   "metadata": {},
   "outputs": [
    {
     "data": {
      "text/plain": [
       "0.893091063110587"
      ]
     },
     "execution_count": 17,
     "metadata": {},
     "output_type": "execute_result"
    }
   ],
   "source": [
    "phi1 = phis[0]\n",
    "alpha1 = abs(alphas[0])\n",
    "\n",
    "phi2 = phis[2]\n",
    "alpha2 = abs(alphas[2])\n",
    "\n",
    "s = np.arctan(np.sqrt(alpha1/alpha2))\n",
    "s"
   ]
  },
  {
   "cell_type": "code",
   "execution_count": 18,
   "metadata": {},
   "outputs": [],
   "source": [
    "phi1.dims = init_state.dims\n",
    "phi2.dims = init_state.dims"
   ]
  },
  {
   "cell_type": "code",
   "execution_count": 19,
   "metadata": {},
   "outputs": [
    {
     "data": {
      "text/latex": [
       "Quantum object: dims = [[2, 2, 2, 2, 2], [2, 2, 2, 2, 2]], shape = (32, 32), type = oper, isherm = False $ \\\\ \\left(\\begin{matrix}0.006 & 0.0 & 0.0 & 0.0 & 0.0 & \\cdots & 0.0 & 0.0 & 0.0 & 0.0 & 0.0\\\\(-0.027+4.723\\times10^{-04}j) & 0.0 & 0.0 & 0.0 & 0.0 & \\cdots & 0.0 & 0.0 & 0.0 & 0.0 & 0.0\\\\(-0.042+0.007j) & 0.0 & 0.0 & 0.0 & 0.0 & \\cdots & 0.0 & 0.0 & 0.0 & 0.0 & 0.0\\\\(0.110-0.019j) & 0.0 & 0.0 & 0.0 & 0.0 & \\cdots & 0.0 & 0.0 & 0.0 & 0.0 & 0.0\\\\(0.021-0.009j) & 0.0 & 0.0 & 0.0 & 0.0 & \\cdots & 0.0 & 0.0 & 0.0 & 0.0 & 0.0\\\\\\vdots & \\vdots & \\vdots & \\vdots & \\vdots & \\ddots & \\vdots & \\vdots & \\vdots & \\vdots & \\vdots\\\\(0.591+0.070j) & 0.0 & 0.0 & 0.0 & 0.0 & \\cdots & 0.0 & 0.0 & 0.0 & 0.0 & 0.0\\\\(-0.002-0.079j) & 0.0 & 0.0 & 0.0 & 0.0 & \\cdots & 0.0 & 0.0 & 0.0 & 0.0 & 0.0\\\\(0.008+0.103j) & 0.0 & 0.0 & 0.0 & 0.0 & \\cdots & 0.0 & 0.0 & 0.0 & 0.0 & 0.0\\\\(0.154+0.071j) & 0.0 & 0.0 & 0.0 & 0.0 & \\cdots & 0.0 & 0.0 & 0.0 & 0.0 & 0.0\\\\(-0.206-0.056j) & 0.0 & 0.0 & 0.0 & 0.0 & \\cdots & 0.0 & 0.0 & 0.0 & 0.0 & 0.0\\\\\\end{matrix}\\right)$"
      ],
      "text/plain": [
       "Quantum object: dims = [[2, 2, 2, 2, 2], [2, 2, 2, 2, 2]], shape = (32, 32), type = oper, isherm = False\n",
       "Qobj data =\n",
       "[[ 0.00614222+0.j          0.        +0.j          0.        +0.j\n",
       "  ...  0.        +0.j          0.        +0.j\n",
       "   0.        +0.j        ]\n",
       " [-0.02704206+0.00047233j  0.        +0.j          0.        +0.j\n",
       "  ...  0.        +0.j          0.        +0.j\n",
       "   0.        +0.j        ]\n",
       " [-0.04238939+0.00698089j  0.        +0.j          0.        +0.j\n",
       "  ...  0.        +0.j          0.        +0.j\n",
       "   0.        +0.j        ]\n",
       " ...\n",
       " [ 0.00795112+0.10251589j  0.        +0.j          0.        +0.j\n",
       "  ...  0.        +0.j          0.        +0.j\n",
       "   0.        +0.j        ]\n",
       " [ 0.15371837+0.07124884j  0.        +0.j          0.        +0.j\n",
       "  ...  0.        +0.j          0.        +0.j\n",
       "   0.        +0.j        ]\n",
       " [-0.20646564-0.05610345j  0.        +0.j          0.        +0.j\n",
       "  ...  0.        +0.j          0.        +0.j\n",
       "   0.        +0.j        ]]"
      ]
     },
     "execution_count": 19,
     "metadata": {},
     "output_type": "execute_result"
    }
   ],
   "source": [
    "R=np.zeros((2**N,2**N),dtype=complex)\n",
    "R[:,0]+=phi1.full().flatten()\n",
    "R = qt.Qobj(R)\n",
    "\n",
    "arg =(-s*1j)*(phi1*phi2.dag()+phi2*phi1.dag())\n",
    "Us = arg.expm()\n",
    "R.dims = Us.dims\n",
    "U = Us*R\n",
    "U"
   ]
  },
  {
   "cell_type": "code",
   "execution_count": 20,
   "metadata": {},
   "outputs": [],
   "source": [
    "# solving master equation\n",
    "final_state = qt.steadystate(hamiltonian,c_ops) # steady state solution \n",
    "\n",
    "tlist = omega*np.linspace(0, 2, 5000)\n",
    "medata = qt.mesolve(hamiltonian, init_state, tlist, c_ops, []) # initial state  = |0>\n",
    "qmpedata = qt.mesolve(hamiltonian, U*init_state, tlist, c_ops, []) # Mpemba unitary rotated state"
   ]
  },
  {
   "cell_type": "code",
   "execution_count": 21,
   "metadata": {},
   "outputs": [
    {
     "name": "stderr",
     "output_type": "stream",
     "text": [
      "c:\\Users\\navan\\anaconda3\\envs\\qc\\lib\\site-packages\\matplotlib\\cbook.py:1762: ComplexWarning: Casting complex values to real discards the imaginary part\n",
      "  return math.isfinite(val)\n",
      "c:\\Users\\navan\\anaconda3\\envs\\qc\\lib\\site-packages\\matplotlib\\cbook.py:1398: ComplexWarning: Casting complex values to real discards the imaginary part\n",
      "  return np.asarray(x, float)\n"
     ]
    },
    {
     "data": {
      "image/png": "[encoded data removed]",
      "text/plain": [
       "<Figure size 640x480 with 1 Axes>"
      ]
     },
     "metadata": {},
     "output_type": "display_data"
    }
   ],
   "source": [
    "# calculation of Hilbert Distances\n",
    "\n",
    "hilbert_distance = []\n",
    "qmpe_dist = []\n",
    "\n",
    "#hs_max = np.sqrt(2 *(1-1/(2**N)))\n",
    "\n",
    "for state in medata.states:\n",
    "\n",
    "  dis = (np.trace((state-final_state)**2))**(1/2)\n",
    "  #dis=qt.hilbert_dist(state,final_state)\n",
    "  hilbert_distance.append(dis)\n",
    "\n",
    "for state in qmpedata.states:\n",
    "  #dis = qt.hilbert_dist(state,final_state)\n",
    "  dis = (np.trace((state-final_state)**2))**(1/2)\n",
    "  qmpe_dist.append(dis)\n",
    "\n",
    "plt.yscale('log')\n",
    "plt.plot(tlist,hilbert_distance,label=r'$\\rho_0$')\n",
    "plt.plot(tlist,qmpe_dist,label=r'$U\\rho_0U^{\\dagger}$')\n",
    "plt.xlabel(f'$\\Omega t$')\n",
    "plt.ylabel('hilbert distance')\n",
    "plt.legend()\n",
    "plt.show()"
   ]
  },
  {
   "cell_type": "code",
   "execution_count": null,
   "metadata": {},
   "outputs": [],
   "source": []
  }
 ],
 "metadata": {
  "kernelspec": {
   "display_name": "qc",
   "language": "python",
   "name": "python3"
  },
  "language_info": {
   "codemirror_mode": {
    "name": "ipython",
    "version": 3
   },
   "file_extension": ".py",
   "mimetype": "text/x-python",
   "name": "python",
   "nbconvert_exporter": "python",
   "pygments_lexer": "ipython3",
   "version": "3.10.12"
  }
 },
 "nbformat": 4,
 "nbformat_minor": 4
}
