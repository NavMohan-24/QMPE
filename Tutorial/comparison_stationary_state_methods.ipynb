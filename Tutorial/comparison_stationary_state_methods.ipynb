{
 "cells": [
  {
   "cell_type": "code",
   "execution_count": 1,
   "metadata": {},
   "outputs": [],
   "source": [
    "import qutip as qt\n",
    "from utils import *\n",
    "import numpy as np\n",
    "from IPython.display import Math,display\n",
    "\n",
    "from scipy.optimize import minimize\n",
    "import matplotlib.pyplot as plt\n",
    "from qutip import ket2dm"
   ]
  },
  {
   "cell_type": "markdown",
   "metadata": {},
   "source": [
    "### Acceleration to Stationary State in Quantum Ising Model"
   ]
  },
  {
   "cell_type": "markdown",
   "metadata": {},
   "source": [
    "$$ H = \\Omega S_x - \\Delta S_z + \\frac{V}{N} S_z^{2}$$ \n",
    "\n",
    "The parameters chosen are $\\Delta=-1$, $V=3$, $\\kappa=1$ (all in units of $\\Omega$)."
   ]
  },
  {
   "cell_type": "code",
   "execution_count": 2,
   "metadata": {},
   "outputs": [],
   "source": [
    "# Pauli Operators\n",
    "sx = 0.5*qt.operators.sigmax()\n",
    "sy = 0.5*qt.operators.sigmay()\n",
    "sz = 0.5*qt.operators.sigmaz()\n",
    "I =  qt.operators.identity(2)\n",
    "\n",
    "# jump operators \n",
    "sm = qt.operators.sigmam() # spin-lowering operators\n",
    "kappa = 1\n",
    "c_ops = kappa*sm"
   ]
  },
  {
   "cell_type": "code",
   "execution_count": 3,
   "metadata": {},
   "outputs": [],
   "source": [
    "def hamiltonian_ising(N,omega,delta,V):\n",
    "  sx = 0.5*qt.operators.sigmax()\n",
    "  #sy = 0.5*qt.operators.sigmay()\n",
    "  sz = 0.5*qt.operators.sigmaz()\n",
    "  I = qt.operators.identity(2)\n",
    "\n",
    "  ising_ham = qt.tensor([I*0]*N)\n",
    "  for i in range(N):\n",
    "    hz = qt.tensor([sz if j==i else I for j in range(N)])\n",
    "    hx = qt.tensor([sx if j==i else I for j in range(N)])\n",
    "    ising_ham += -1*delta*hz+omega*hx\n",
    "    for j in range(i + 1, N):\n",
    "        hzz = qt.tensor([sz if k == i or k == j else I for k in range(N)]) # assume obc\n",
    "        ising_ham += (V/N)*hzz\n",
    "  \n",
    "  return(ising_ham)"
   ]
  },
  {
   "cell_type": "code",
   "execution_count": 4,
   "metadata": {},
   "outputs": [],
   "source": [
    "# Hamiltonian\n",
    "omega = np.pi\n",
    "N = 5\n",
    "delta = -1*omega\n",
    "V = 3*omega\n",
    "hamiltonian=hamiltonian_ising(N,omega,delta,V)\n",
    "\n",
    "# collapse operator\n",
    "kappa = 1\n",
    "c_ops = [qt.tensor([sm if i==j  else I for j in range(N)]) for i in range(N)]\n",
    "c_ops = [np.sqrt(kappa) * c_op for c_op in c_ops]"
   ]
  },
  {
   "cell_type": "code",
   "execution_count": 5,
   "metadata": {},
   "outputs": [],
   "source": [
    "# Linbladian\n",
    "L = qt.liouvillian(hamiltonian, c_ops)\n",
    "L_dag = qt.liouvillian(hamiltonian, c_ops).dag()"
   ]
  },
  {
   "cell_type": "code",
   "execution_count": 6,
   "metadata": {},
   "outputs": [
    {
     "name": "stdout",
     "output_type": "stream",
     "text": [
      "eigen values\n",
      " [-4.52488251+0.j         -4.069693  -7.26504897j -4.069693  -7.26504897j\n",
      " ... -0.80651698+4.49220493j -0.73479962+0.j\n",
      "  0.        +0.j        ]\n"
     ]
    }
   ],
   "source": [
    "# diagonalization using qutip\n",
    "val,mat = L_dag.eigenstates()\n",
    "tol = 1e-8\n",
    "real_vals = np.where(np.abs(val.imag)<tol,val.real,val)\n",
    "real_vals = np.where(np.abs(real_vals.real)<tol,real_vals.imag,real_vals)\n",
    "print('eigen values\\n', real_vals)"
   ]
  },
  {
   "cell_type": "code",
   "execution_count": 7,
   "metadata": {},
   "outputs": [
    {
     "name": "stdout",
     "output_type": "stream",
     "text": [
      "[-0.06776188  0.02906667  0.04249446  0.04249446  0.04249446  0.04249446\n",
      "  0.11849191  0.13073343  0.13073343  0.13073343  0.13073343  0.13214113\n",
      "  0.13214113  0.13214113  0.13214113  0.13214113  0.19926228  0.19994071\n",
      "  0.19994071  0.19994071  0.19994071  0.20285887  0.20285887  0.20285887\n",
      "  0.20285887  0.20285887  0.25245196  0.2558314   0.2558314   0.2558314\n",
      "  0.2558314   0.30048906]\n"
     ]
    }
   ],
   "source": [
    "l2indx = np.argsort(abs(real_vals))[1]\n",
    "l2 = mat[l2indx].full().reshape(2**N,2**N)\n",
    "\n",
    "L2 = qt.Qobj(np.round(l2,3))\n",
    "alphas,phis = L2.eigenstates()\n",
    "\n",
    "print(alphas)"
   ]
  },
  {
   "cell_type": "code",
   "execution_count": 8,
   "metadata": {},
   "outputs": [
    {
     "data": {
      "text/latex": [
       "Quantum object: dims = [[2, 2, 2, 2, 2], [1]], shape = (32, 1), type = ket $ \\\\ \\left(\\begin{matrix}(0.049+0.211j)\\\\(-0.096+0.100j)\\\\(0.169+0.036j)\\\\(0.035+0.022j)\\\\(0.153+0.063j)\\\\\\vdots\\\\(-0.133+0.038j)\\\\(-0.032+0.184j)\\\\(-0.136+0.066j)\\\\(0.045+0.193j)\\\\(0.148-0.195j)\\\\\\end{matrix}\\right)$"
      ],
      "text/plain": [
       "Quantum object: dims = [[2, 2, 2, 2, 2], [1]], shape = (32, 1), type = ket\n",
       "Qobj data =\n",
       "[[ 0.04860857+0.21063209j]\n",
       " [-0.09581541+0.10009109j]\n",
       " [ 0.16856682+0.03613828j]\n",
       " [ 0.03489697+0.02152216j]\n",
       " [ 0.1531429 +0.06253835j]\n",
       " [ 0.19121353+0.0636207j ]\n",
       " [ 0.05222614+0.18935378j]\n",
       " [ 0.01828818+0.15445272j]\n",
       " [ 0.21809002+0.17600975j]\n",
       " [ 0.03215054+0.09531931j]\n",
       " [-0.00525736+0.16814385j]\n",
       " [ 0.00618233-0.04263844j]\n",
       " [ 0.081446  +0.04942796j]\n",
       " [-0.20053839+0.19107787j]\n",
       " [ 0.06252042-0.13917677j]\n",
       " [ 0.13577571-0.02791028j]\n",
       " [ 0.15543338-0.00689585j]\n",
       " [-0.05674809+0.06094033j]\n",
       " [-0.16033922-0.13405848j]\n",
       " [ 0.17855426-0.09728365j]\n",
       " [-0.04334013+0.02217671j]\n",
       " [ 0.02062704+0.11745716j]\n",
       " [-0.19070396+0.19041878j]\n",
       " [-0.19467879+0.01278262j]\n",
       " [ 0.07948402+0.01530076j]\n",
       " [ 0.14877047+0.11911289j]\n",
       " [-0.21471988+0.12735265j]\n",
       " [-0.13279347+0.03791033j]\n",
       " [-0.03183011+0.1838209j ]\n",
       " [-0.13634936+0.06634093j]\n",
       " [ 0.04474715+0.19289775j]\n",
       " [ 0.14796941-0.19542505j]]"
      ]
     },
     "execution_count": 8,
     "metadata": {},
     "output_type": "execute_result"
    }
   ],
   "source": [
    "# init_state = qt.tensor([qt.ket('0')]*N)\n",
    "# init_state\n",
    "\n",
    "init_state =  qt.rand_ket(2**N)\n",
    "init_state.dims = [[2]*N,[1]]\n",
    "init_state"
   ]
  },
  {
   "cell_type": "code",
   "execution_count": 9,
   "metadata": {},
   "outputs": [
    {
     "data": {
      "text/plain": [
       "0.9010104782601808"
      ]
     },
     "execution_count": 9,
     "metadata": {},
     "output_type": "execute_result"
    }
   ],
   "source": [
    "phi1 = phis[0]\n",
    "alpha1 = abs(alphas[0])\n",
    "\n",
    "phi2 = phis[2]\n",
    "alpha2 = abs(alphas[2])\n",
    "\n",
    "phi1.dims = init_state.dims\n",
    "phi2.dims = init_state.dims\n",
    "s = np.arctan(np.sqrt(alpha1/alpha2))\n",
    "s"
   ]
  },
  {
   "cell_type": "code",
   "execution_count": 10,
   "metadata": {},
   "outputs": [
    {
     "data": {
      "text/latex": [
       "Quantum object: dims = [[2, 2, 2, 2, 2], [2, 2, 2, 2, 2]], shape = (32, 32), type = oper, isherm = False $ \\\\ \\left(\\begin{matrix}(6.158\\times10^{-04}-0.003j) & (-0.001-0.001j) & (0.002-4.578\\times10^{-04}j) & (4.421\\times10^{-04}-2.727\\times10^{-04}j) & (0.002-7.923\\times10^{-04}j) & \\cdots & (-0.002-4.803\\times10^{-04}j) & (-4.032\\times10^{-04}-0.002j) & (-0.002-8.404\\times10^{-04}j) & (5.669\\times10^{-04}-0.002j) & (0.002+0.002j)\\\\(-0.002+0.010j) & (0.004+0.005j) & (-0.008+0.002j) & (-0.002+9.526\\times10^{-04}j) & (-0.007+0.003j) & \\cdots & (0.006+0.002j) & (0.001+0.008j) & (0.006+0.003j) & (-0.002+0.009j) & (-0.007-0.009j)\\\\(-0.002+0.010j) & (0.004+0.005j) & (-0.008+0.002j) & (-0.002+9.526\\times10^{-04}j) & (-0.007+0.003j) & \\cdots & (0.006+0.002j) & (0.001+0.008j) & (0.006+0.003j) & (-0.002+0.009j) & (-0.007-0.009j)\\\\(0.009-0.020j) & (-0.008-0.012j) & (0.018-3.552\\times10^{-04}j) & (0.004-0.001j) & (0.017-0.003j) & \\cdots & (-0.013-0.006j) & (3.710\\times10^{-04}-0.019j) & (-0.012-0.009j) & (0.008-0.018j) & (0.011+0.022j)\\\\(-0.002+0.010j) & (0.004+0.005j) & (-0.008+0.002j) & (-0.002+9.526\\times10^{-04}j) & (-0.007+0.003j) & \\cdots & (0.006+0.002j) & (0.001+0.008j) & (0.006+0.003j) & (-0.002+0.009j) & (-0.007-0.009j)\\\\\\vdots & \\vdots & \\vdots & \\vdots & \\vdots & \\ddots & \\vdots & \\vdots & \\vdots & \\vdots & \\vdots\\\\(0.036-0.050j) & (-0.014-0.037j) & (0.049+0.009j) & (0.012-0.002j) & (0.047+2.372\\times10^{-04}j) & \\cdots & (-0.031-0.025j) & (0.012-0.052j) & (-0.029-0.032j) & (0.033-0.046j) & (0.018+0.068j)\\\\(-0.021+0.036j) & (0.012+0.024j) & (-0.033-0.003j) & (-0.008+0.002j) & (-0.032+0.003j) & \\cdots & (0.022+0.014j) & (-0.005+0.035j) & (0.021+0.020j) & (-0.019+0.033j) & (-0.016-0.044j)\\\\(0.036-0.050j) & (-0.014-0.037j) & (0.049+0.009j) & (0.012-0.002j) & (0.047+2.372\\times10^{-04}j) & \\cdots & (-0.031-0.025j) & (0.012-0.052j) & (-0.029-0.032j) & (0.033-0.046j) & (0.018+0.068j)\\\\(0.036-0.050j) & (-0.014-0.037j) & (0.049+0.009j) & (0.012-0.002j) & (0.047+2.372\\times10^{-04}j) & \\cdots & (-0.031-0.025j) & (0.012-0.052j) & (-0.029-0.032j) & (0.033-0.046j) & (0.018+0.068j)\\\\(-0.043+0.057j) & (0.016+0.043j) & (-0.056-0.011j) & (-0.013+0.002j) & (-0.055-0.001j) & \\cdots & (0.035+0.029j) & (-0.015+0.060j) & (0.033+0.038j) & (-0.039+0.053j) & (-0.019-0.079j)\\\\\\end{matrix}\\right)$"
      ],
      "text/plain": [
       "Quantum object: dims = [[2, 2, 2, 2, 2], [2, 2, 2, 2, 2]], shape = (32, 32), type = oper, isherm = False\n",
       "Qobj data =\n",
       "[[ 0.00061579-0.00266836j -0.00121382-0.00126799j  0.00213547-0.00045781j\n",
       "  ... -0.00172732-0.00084043j  0.00056687-0.0024437j\n",
       "   0.00187453+0.00247572j]\n",
       " [-0.00233746+0.00951079j  0.00427628+0.00459591j -0.00765963+0.00152877j\n",
       "  ...  0.00613424+0.00309302j -0.00215113+0.00870987j\n",
       "  -0.00657767-0.00894825j]\n",
       " [-0.00233746+0.00951079j  0.00427628+0.00459591j -0.00765963+0.00152877j\n",
       "  ...  0.00613424+0.00309302j -0.00215113+0.00870987j\n",
       "  -0.00657767-0.00894825j]\n",
       " ...\n",
       " [ 0.03593026-0.05038101j -0.01437543-0.03696775j  0.04853997+0.00890894j\n",
       "  ... -0.02879281-0.0324823j   0.03296624-0.04611381j\n",
       "   0.01772483+0.06789427j]\n",
       " [ 0.03593026-0.05038101j -0.01437543-0.03696775j  0.04853997+0.00890894j\n",
       "  ... -0.02879281-0.0324823j   0.03296624-0.04611381j\n",
       "   0.01772483+0.06789427j]\n",
       " [-0.04271032+0.05747815j  0.01579642+0.04309655j -0.05595906-0.01140515j\n",
       "  ...  0.03257867+0.0382329j  -0.03918446+0.05260804j\n",
       "  -0.01897237-0.07895412j]]"
      ]
     },
     "execution_count": 10,
     "metadata": {},
     "output_type": "execute_result"
    }
   ],
   "source": [
    "R = phi1*init_state.dag()\n",
    "R"
   ]
  },
  {
   "cell_type": "code",
   "execution_count": 11,
   "metadata": {},
   "outputs": [
    {
     "data": {
      "text/latex": [
       "Quantum object: dims = [[2, 2, 2, 2, 2], [2, 2, 2, 2, 2]], shape = (32, 32), type = oper, isherm = False $ \\\\ \\left(\\begin{matrix}(3.823\\times10^{-04}-0.002j) & (-7.536\\times10^{-04}-7.872\\times10^{-04}j) & (0.001-2.842\\times10^{-04}j) & (2.745\\times10^{-04}-1.693\\times10^{-04}j) & (0.001-4.918\\times10^{-04}j) & \\cdots & (-0.001-2.982\\times10^{-04}j) & (-2.503\\times10^{-04}-0.001j) & (-0.001-5.218\\times10^{-04}j) & (3.519\\times10^{-04}-0.002j) & (0.001+0.002j)\\\\(7.491\\times10^{-04}+0.006j) & (0.003+0.002j) & (-0.004+0.002j) & (-6.701\\times10^{-04}+8.619\\times10^{-04}j) & (-0.003+0.003j) & \\cdots & (0.004-2.910\\times10^{-04}j) & (0.003+0.004j) & (0.004+3.851\\times10^{-04}j) & (6.802\\times10^{-04}+0.005j) & (-0.006-0.003j)\\\\(-9.043\\times10^{-04}+0.008j) & (0.004+0.003j) & (-0.006+0.002j) & (-0.001+9.145\\times10^{-04}j) & (-0.005+0.003j) & \\cdots & (0.005+8.315\\times10^{-04}j) & (0.002+0.006j) & (0.005+0.002j) & (-8.364\\times10^{-04}+0.007j) & (-0.006-0.006j)\\\\(-8.455\\times10^{-04}-0.018j) & (-0.010-0.006j) & (0.013-0.007j) & (0.002-0.003j) & (0.011-0.009j) & \\cdots & (-0.012-5.802\\times10^{-05}j) & (-0.007-0.014j) & (-0.013-0.002j) & (-7.555\\times10^{-04}-0.017j) & (0.016+0.013j)\\\\(2.454\\times10^{-05}+0.010j) & (0.005+0.003j) & (-0.007+0.003j) & (-0.001+0.001j) & (-0.006+0.004j) & \\cdots & (0.006+3.110\\times10^{-04}j) & (0.003+0.008j) & (0.007+0.002j) & (1.209\\times10^{-05}+0.009j) & (-0.009-0.007j)\\\\\\vdots & \\vdots & \\vdots & \\vdots & \\vdots & \\ddots & \\vdots & \\vdots & \\vdots & \\vdots & \\vdots\\\\(0.018+0.008j) & (0.011-0.007j) & (2.007\\times10^{-04}+0.016j) & (0.001+0.004j) & (0.003+0.015j) & \\cdots & (0.006-0.011j) & (0.017+4.681\\times10^{-04}j) & (0.009-0.011j) & (0.017+0.008j) & (-0.020+0.010j)\\\\(-0.025+0.009j) & (-0.004+0.016j) & (-0.015-0.015j) & (-0.004-0.002j) & (-0.016-0.012j) & \\cdots & (0.005+0.016j) & (-0.017+0.015j) & (0.002+0.018j) & (-0.023+0.008j) & (0.010-0.028j)\\\\(0.019-0.014j) & (-5.134\\times10^{-04}-0.015j) & (0.016+0.009j) & (0.004+7.907\\times10^{-04}j) & (0.017+0.006j) & \\cdots & (-0.008-0.013j) & (0.011-0.017j) & (-0.006-0.015j) & (0.018-0.012j) & (-0.002+0.027j)\\\\(0.041-0.024j) & (0.002-0.031j) & (0.031+0.022j) & (0.009+0.002j) & (0.033+0.015j) & \\cdots & (-0.014-0.027j) & (0.025-0.033j) & (-0.010-0.032j) & (0.038-0.022j) & (-0.009+0.053j)\\\\(-0.027+0.036j) & (0.010+0.027j) & (-0.035-0.007j) & (-0.008+0.001j) & (-0.034-8.351\\times10^{-04}j) & \\cdots & (0.022+0.018j) & (-0.009+0.037j) & (0.020+0.024j) & (-0.024+0.033j) & (-0.012-0.049j)\\\\\\end{matrix}\\right)$"
      ],
      "text/plain": [
       "Quantum object: dims = [[2, 2, 2, 2, 2], [2, 2, 2, 2, 2]], shape = (32, 32), type = oper, isherm = False\n",
       "Qobj data =\n",
       "[[ 0.00038229-0.00165657j -0.00075356-0.00078719j  0.00132574-0.00028422j\n",
       "  ... -0.00107235-0.00052175j  0.00035193-0.00151709j\n",
       "   0.00116374+0.00153697j]\n",
       " [ 0.00074905+0.00570737j  0.0033225 +0.00160462j -0.00386868+0.00247147j\n",
       "  ...  0.00401938+0.00038514j  0.00068022+0.00522898j\n",
       "  -0.00551147-0.00349719j]\n",
       " [-0.00090426+0.00777467j  0.00384947+0.00321746j -0.00592098+0.00197665j\n",
       "  ...  0.00517271+0.00184035j -0.00083645+0.00712101j\n",
       "  -0.00610868-0.00643888j]\n",
       " ...\n",
       " [ 0.0193388 -0.01363953j -0.00051342-0.01516005j  0.01639213+0.00935362j\n",
       "  ... -0.00628407-0.01536438j  0.01772942-0.01247426j\n",
       "  -0.00218864+0.02674541j]\n",
       " [ 0.04127011-0.0241j      0.00158841-0.03059229j  0.03136515+0.02165493j\n",
       "  ... -0.00998736-0.03200129j  0.03783038-0.02203367j\n",
       "  -0.00902856+0.05343594j]\n",
       " [-0.02651534+0.03568348j  0.0098067 +0.02675512j -0.0347404 -0.00708052j\n",
       "  ...  0.02022543+0.02373568j -0.02432642+0.03266003j\n",
       "  -0.01177839-0.04901615j]]"
      ]
     },
     "execution_count": 11,
     "metadata": {},
     "output_type": "execute_result"
    }
   ],
   "source": [
    "arg =(-s*1j)*(phi1*phi2.dag()+phi2*phi1.dag())\n",
    "Us = arg.expm()\n",
    "R.dims = Us.dims\n",
    "U = Us*R\n",
    "U"
   ]
  },
  {
   "cell_type": "code",
   "execution_count": 31,
   "metadata": {},
   "outputs": [],
   "source": [
    "def u(phi,theta,lamda):\n",
    "    u = ((1j/2)*phi*sz).expm()*((1j/2)*theta*sy).expm()*((1j/2)*lamda*sz).expm()\n",
    "    return(u)\n",
    "\n",
    "def Us(params):\n",
    "    phi,theta,lamda = params[:N], params[N:2*N],params[2*N:3*N]\n",
    "    gates = []\n",
    "    for i in range(N):\n",
    "        gates.append(u(phi[i],theta[i],lamda[i]))\n",
    "    U_s = qt.tensor(gates)\n",
    "    return U_s\n",
    "\n",
    "\n",
    "def chi(params):\n",
    "    U_s = Us(params)\n",
    "    Udag = U_s.dag()\n",
    "    rho_0 = ket2dm(init_state)\n",
    "    c = abs((L2*U_s*rho_0*Udag).tr())\n",
    "    return c\n",
    "\n",
    "epsilon = 1e-4\n",
    "def cost(params):\n",
    "    c = chi(params)\n",
    "    return c-epsilon"
   ]
  },
  {
   "cell_type": "code",
   "execution_count": 32,
   "metadata": {},
   "outputs": [
    {
     "name": "stdout",
     "output_type": "stream",
     "text": [
      "Iteration limit reached    (Exit mode 9)\n",
      "            Current function value: 0.1024235525325405\n",
      "            Iterations: 100\n",
      "            Function evaluations: 1600\n",
      "            Gradient evaluations: 100\n"
     ]
    }
   ],
   "source": [
    "initial_guess = np.concatenate([np.random.uniform(0, np.pi,N), np.random.uniform(0, 2*np.pi-0.001,N),np.random.uniform(0, np.pi,N)])\n",
    "\n",
    "bounds = [(0, np.pi)] * N + [(0, 2 * np.pi - 0.001)] * N + [(0, 2*np.pi)] * N\n",
    "\n",
    "# Perform optimization\n",
    "result = minimize(\n",
    "    chi,                 # Objective function\n",
    "    initial_guess,       # Initial  # Constraints\n",
    "    bounds=bounds,\n",
    "    method='SLSQP',\n",
    "    options={'disp': True},\n",
    "    tol = 1e-16\n",
    ")\n",
    "\n",
    "Uspin = Us(result.x)"
   ]
  },
  {
   "cell_type": "code",
   "execution_count": 33,
   "metadata": {},
   "outputs": [],
   "source": [
    "# solving master equation\n",
    "final_state = qt.steadystate(hamiltonian,c_ops) # steady state solution \n",
    "\n",
    "tlist = omega*np.linspace(0, 4, 5000)\n",
    "medata = qt.mesolve(hamiltonian, init_state, tlist, c_ops, []) # initial state  = |0>\n",
    "qmpedata = qt.mesolve(hamiltonian, U*init_state, tlist, c_ops, []) # Mpemba unitary rotated state\n",
    "gspindata = qt.mesolve(hamiltonian, Uspin*init_state, tlist, c_ops, [])"
   ]
  },
  {
   "cell_type": "code",
   "execution_count": 38,
   "metadata": {},
   "outputs": [
    {
     "name": "stderr",
     "output_type": "stream",
     "text": [
      "c:\\Users\\navan\\anaconda3\\envs\\qc\\lib\\site-packages\\matplotlib\\cbook.py:1762: ComplexWarning: Casting complex values to real discards the imaginary part\n",
      "  return math.isfinite(val)\n",
      "c:\\Users\\navan\\anaconda3\\envs\\qc\\lib\\site-packages\\matplotlib\\cbook.py:1398: ComplexWarning: Casting complex values to real discards the imaginary part\n",
      "  return np.asarray(x, float)\n"
     ]
    },
    {
     "data": {
      "image/png": "[encoded data removed]",
      "text/plain": [
       "<Figure size 640x480 with 1 Axes>"
      ]
     },
     "metadata": {},
     "output_type": "display_data"
    }
   ],
   "source": [
    "# calculation of Hilbert Distances\n",
    "\n",
    "hilbert_distance = []\n",
    "qmpe_dist = []\n",
    "gspin_dist = []\n",
    "\n",
    "for state in medata.states:\n",
    "  dis = (np.trace((state-final_state)**2))**(1/2)\n",
    "  hilbert_distance.append(dis)\n",
    "\n",
    "for state in qmpedata.states:\n",
    "  dis = (np.trace((state-final_state)**2))**(1/2)\n",
    "  qmpe_dist.append(dis)\n",
    "\n",
    "for state in gspindata.states:\n",
    "  dis = (np.trace((state-final_state)**2))**(1/2)\n",
    "  gspin_dist.append(dis)\n",
    "\n",
    "plt.yscale('log')\n",
    "plt.plot(tlist,hilbert_distance,label=r'$\\rho_0$')\n",
    "plt.plot(tlist,qmpe_dist,label=r'L2 orthogonal rotated')\n",
    "plt.plot(tlist,gspin_dist,color='black',label='global spin rotated')\n",
    "plt.xlabel(f'$\\Omega t$')\n",
    "plt.ylabel('hilbert distance')\n",
    "plt.legend()\n",
    "plt.show()"
   ]
  },
  {
   "cell_type": "code",
   "execution_count": null,
   "metadata": {},
   "outputs": [],
   "source": []
  }
 ],
 "metadata": {
  "kernelspec": {
   "display_name": "qc",
   "language": "python",
   "name": "python3"
  },
  "language_info": {
   "codemirror_mode": {
    "name": "ipython",
    "version": 3
   },
   "file_extension": ".py",
   "mimetype": "text/x-python",
   "name": "python",
   "nbconvert_exporter": "python",
   "pygments_lexer": "ipython3",
   "version": "3.10.12"
  }
 },
 "nbformat": 4,
 "nbformat_minor": 4
}
