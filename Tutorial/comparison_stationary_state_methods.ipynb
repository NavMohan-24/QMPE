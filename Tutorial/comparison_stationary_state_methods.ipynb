{
 "cells": [
  {
   "cell_type": "code",
   "execution_count": 1,
   "metadata": {},
   "outputs": [],
   "source": [
    "import qutip as qt\n",
    "from utils import *\n",
    "import numpy as np\n",
    "from IPython.display import Math,display\n",
    "\n",
    "from scipy.optimize import minimize\n",
    "import matplotlib.pyplot as plt\n",
    "from qutip import ket2dm"
   ]
  },
  {
   "cell_type": "markdown",
   "metadata": {},
   "source": [
    "### Acceleration to Stationary State in Quantum Ising Model"
   ]
  },
  {
   "cell_type": "markdown",
   "metadata": {},
   "source": [
    "$$ H = \\Omega S_x - \\Delta S_z + \\frac{V}{N} S_z^{2}$$ \n",
    "\n",
    "The parameters chosen are $\\Delta=-1$, $V=3$, $\\kappa=1$ (all in units of $\\Omega$)."
   ]
  },
  {
   "cell_type": "code",
   "execution_count": 2,
   "metadata": {},
   "outputs": [],
   "source": [
    "# Pauli Operators\n",
    "sx = 0.5*qt.operators.sigmax()\n",
    "sy = 0.5*qt.operators.sigmay()\n",
    "sz = 0.5*qt.operators.sigmaz()\n",
    "I =  qt.operators.identity(2)\n",
    "\n",
    "# jump operators \n",
    "sm = qt.operators.sigmam() # spin-lowering operators\n",
    "kappa = 1\n",
    "c_ops = kappa*sm"
   ]
  },
  {
   "cell_type": "code",
   "execution_count": 29,
   "metadata": {},
   "outputs": [],
   "source": [
    "def hamiltonian_ising(N,omega,delta,V):\n",
    "  sx = 0.5*qt.operators.sigmax()\n",
    "  #sy = 0.5*qt.operators.sigmay()\n",
    "  sz = 0.5*qt.operators.sigmaz()\n",
    "  I = qt.operators.identity(2)\n",
    "\n",
    "  ising_ham = qt.tensor([I*0]*N)\n",
    "  for i in range(N):\n",
    "    hz = qt.tensor([sz if j==i else I for j in range(N)])\n",
    "    hx = qt.tensor([sx if j==i else I for j in range(N)])\n",
    "    ising_ham += -1*delta*hz+omega*hx\n",
    "    for j in range(i + 1, N):\n",
    "        hzz = qt.tensor([sz if k == i or k == j else I for k in range(N)]) # assume obc\n",
    "        ising_ham += (V/N)*hzz\n",
    "  \n",
    "  return(ising_ham)"
   ]
  },
  {
   "cell_type": "code",
   "execution_count": 30,
   "metadata": {},
   "outputs": [],
   "source": [
    "# Hamiltonian\n",
    "omega = np.pi\n",
    "N = 5\n",
    "delta = -1*omega\n",
    "V = 3*omega\n",
    "hamiltonian=hamiltonian_ising(N,omega,delta,V)\n",
    "\n",
    "# collapse operator\n",
    "kappa = 1\n",
    "c_ops = [qt.tensor([sm if i==j  else I for j in range(N)]) for i in range(N)]\n",
    "c_ops = [np.sqrt(kappa) * c_op for c_op in c_ops]"
   ]
  },
  {
   "cell_type": "code",
   "execution_count": 31,
   "metadata": {},
   "outputs": [],
   "source": [
    "# Linbladian\n",
    "L = qt.liouvillian(hamiltonian, c_ops)\n",
    "L_dag = qt.liouvillian(hamiltonian, c_ops).dag()"
   ]
  },
  {
   "cell_type": "code",
   "execution_count": 32,
   "metadata": {},
   "outputs": [
    {
     "name": "stdout",
     "output_type": "stream",
     "text": [
      "eigen values\n",
      " [-4.52488251+0.j         -4.069693  -7.26504897j -4.069693  -7.26504897j\n",
      " ... -0.80651698+4.49220493j -0.73479962+0.j\n",
      "  0.        +0.j        ]\n"
     ]
    }
   ],
   "source": [
    "# diagonalization using qutip\n",
    "val,mat = L_dag.eigenstates()\n",
    "tol = 1e-8\n",
    "real_vals = np.where(np.abs(val.imag)<tol,val.real,val)\n",
    "real_vals = np.where(np.abs(real_vals.real)<tol,real_vals.imag,real_vals)\n",
    "print('eigen values\\n', real_vals)"
   ]
  },
  {
   "cell_type": "code",
   "execution_count": 33,
   "metadata": {},
   "outputs": [
    {
     "name": "stdout",
     "output_type": "stream",
     "text": [
      "[-0.06776188  0.02906667  0.04249446  0.04249446  0.04249446  0.04249446\n",
      "  0.11849191  0.13073343  0.13073343  0.13073343  0.13073343  0.13214113\n",
      "  0.13214113  0.13214113  0.13214113  0.13214113  0.19926228  0.19994071\n",
      "  0.19994071  0.19994071  0.19994071  0.20285887  0.20285887  0.20285887\n",
      "  0.20285887  0.20285887  0.25245196  0.2558314   0.2558314   0.2558314\n",
      "  0.2558314   0.30048906]\n"
     ]
    }
   ],
   "source": [
    "l2indx = np.argsort(abs(real_vals))[1]\n",
    "l2 = mat[l2indx].full().reshape(2**N,2**N)\n",
    "\n",
    "L2 = qt.Qobj(np.round(l2,3))\n",
    "alphas,phis = L2.eigenstates()\n",
    "\n",
    "print(alphas)"
   ]
  },
  {
   "cell_type": "code",
   "execution_count": 34,
   "metadata": {},
   "outputs": [
    {
     "data": {
      "text/latex": [
       "Quantum object: dims = [[2, 2, 2, 2, 2], [1]], shape = (32, 1), type = ket $ \\\\ \\left(\\begin{matrix}(0.040-0.003j)\\\\(-0.058-0.164j)\\\\(0.147-0.026j)\\\\(-0.167-0.185j)\\\\(-0.161-0.122j)\\\\\\vdots\\\\(0.005-0.067j)\\\\(-0.025-0.017j)\\\\(-0.186-0.158j)\\\\(-0.038+0.070j)\\\\(0.122-0.076j)\\\\\\end{matrix}\\right)$"
      ],
      "text/plain": [
       "Quantum object: dims = [[2, 2, 2, 2, 2], [1]], shape = (32, 1), type = ket\n",
       "Qobj data =\n",
       "[[ 3.99407247e-02-0.00287618j]\n",
       " [-5.75906732e-02-0.16405999j]\n",
       " [ 1.47209237e-01-0.02580776j]\n",
       " [-1.66517270e-01-0.1851282j ]\n",
       " [-1.61235918e-01-0.12232859j]\n",
       " [-1.90712246e-01+0.10327059j]\n",
       " [ 1.76308008e-01+0.17399853j]\n",
       " [-1.76302856e-01-0.10964413j]\n",
       " [-1.79850207e-01-0.15876948j]\n",
       " [-1.41349121e-01-0.17887708j]\n",
       " [-3.77235685e-02+0.09067009j]\n",
       " [ 1.19715684e-01+0.09339992j]\n",
       " [-1.42634939e-01+0.05257025j]\n",
       " [-9.35035867e-02+0.07425767j]\n",
       " [ 1.61155037e-01-0.07621147j]\n",
       " [-1.74879803e-01-0.0363571j ]\n",
       " [-5.94031314e-02+0.13879173j]\n",
       " [-1.94062020e-01+0.15243015j]\n",
       " [ 8.97127699e-03-0.03522952j]\n",
       " [-1.69677508e-01+0.13094251j]\n",
       " [-5.98692959e-02+0.02171981j]\n",
       " [ 6.32694800e-02+0.18730213j]\n",
       " [ 1.11707877e-01+0.03339141j]\n",
       " [-1.88520750e-01-0.1609537j ]\n",
       " [-9.86352304e-05+0.1525881j ]\n",
       " [ 1.75767722e-01+0.19177972j]\n",
       " [-8.70342981e-02-0.09051794j]\n",
       " [ 4.69874558e-03-0.0672451j ]\n",
       " [-2.46270131e-02-0.01716856j]\n",
       " [-1.86449508e-01-0.15831197j]\n",
       " [-3.83922642e-02+0.06952358j]\n",
       " [ 1.21813157e-01-0.07627169j]]"
      ]
     },
     "execution_count": 34,
     "metadata": {},
     "output_type": "execute_result"
    }
   ],
   "source": [
    "# init_state = qt.tensor([qt.ket('0')]*N)\n",
    "# init_state\n",
    "\n",
    "init_state =  qt.rand_ket(2**N)\n",
    "init_state.dims = [[2]*N,[1]]\n",
    "init_state"
   ]
  },
  {
   "cell_type": "code",
   "execution_count": 35,
   "metadata": {},
   "outputs": [
    {
     "data": {
      "text/plain": [
       "0.9010104782601808"
      ]
     },
     "execution_count": 35,
     "metadata": {},
     "output_type": "execute_result"
    }
   ],
   "source": [
    "phi1 = phis[0]\n",
    "alpha1 = abs(alphas[0])\n",
    "\n",
    "phi2 = phis[2]\n",
    "alpha2 = abs(alphas[2])\n",
    "\n",
    "phi1.dims = init_state.dims\n",
    "phi2.dims = init_state.dims\n",
    "s = np.arctan(np.sqrt(alpha1/alpha2))\n",
    "s"
   ]
  },
  {
   "cell_type": "code",
   "execution_count": 36,
   "metadata": {},
   "outputs": [
    {
     "data": {
      "text/latex": [
       "Quantum object: dims = [[2, 2, 2, 2, 2], [2, 2, 2, 2, 2]], shape = (32, 32), type = oper, isherm = False $ \\\\ \\left(\\begin{matrix}(5.060\\times10^{-04}+3.644\\times10^{-05}j) & (-7.296\\times10^{-04}+0.002j) & (0.002+3.269\\times10^{-04}j) & (-0.002+0.002j) & (-0.002+0.002j) & \\cdots & (5.953\\times10^{-05}+8.519\\times10^{-04}j) & (-3.120\\times10^{-04}+2.175\\times10^{-04}j) & (-0.002+0.002j) & (-4.864\\times10^{-04}-8.807\\times10^{-04}j) & (0.002+9.662\\times10^{-04}j)\\\\(-0.002-1.560\\times10^{-04}j) & (0.003-0.007j) & (-0.007-0.001j) & (0.008-0.008j) & (0.007-0.005j) & \\cdots & (-1.696\\times10^{-04}-0.003j) & (0.001-7.619\\times10^{-04}j) & (0.009-0.007j) & (0.002+0.003j) & (-0.005-0.004j)\\\\(-0.002-1.560\\times10^{-04}j) & (0.003-0.007j) & (-0.007-0.001j) & (0.008-0.008j) & (0.007-0.005j) & \\cdots & (-1.696\\times10^{-04}-0.003j) & (0.001-7.619\\times10^{-04}j) & (0.009-0.007j) & (0.002+0.003j) & (-0.005-0.004j)\\\\(0.004+0.001j) & (-0.009+0.015j) & (0.014+0.005j) & (-0.020+0.015j) & (-0.019+0.009j) & \\cdots & (-8.307\\times10^{-04}+0.007j) & (-0.003+0.001j) & (-0.022+0.012j) & (-0.002-0.008j) & (0.011+0.010j)\\\\(-0.002-1.560\\times10^{-04}j) & (0.003-0.007j) & (-0.007-0.001j) & (0.008-0.008j) & (0.007-0.005j) & \\cdots & (-1.696\\times10^{-04}-0.003j) & (0.001-7.619\\times10^{-04}j) & (0.009-0.007j) & (0.002+0.003j) & (-0.005-0.004j)\\\\\\vdots & \\vdots & \\vdots & \\vdots & \\vdots & \\ddots & \\vdots & \\vdots & \\vdots & \\vdots & \\vdots\\\\(0.010+0.005j) & (-0.033+0.037j) & (0.036+0.023j) & (-0.064+0.031j) & (-0.056+0.015j) & \\cdots & (-0.006+0.018j) & (-0.008+0.002j) & (-0.067+0.021j) & (-0.003-0.023j) & (0.024+0.034j)\\\\(-0.007-0.003j) & (0.020-0.027j) & (-0.025-0.013j) & (0.041-0.024j) & (0.036-0.013j) & \\cdots & (0.003-0.013j) & (0.005-0.002j) & (0.043-0.018j) & (0.003+0.015j) & (-0.018-0.021j)\\\\(0.010+0.005j) & (-0.033+0.037j) & (0.036+0.023j) & (-0.064+0.031j) & (-0.056+0.015j) & \\cdots & (-0.006+0.018j) & (-0.008+0.002j) & (-0.067+0.021j) & (-0.003-0.023j) & (0.024+0.034j)\\\\(0.010+0.005j) & (-0.033+0.037j) & (0.036+0.023j) & (-0.064+0.031j) & (-0.056+0.015j) & \\cdots & (-0.006+0.018j) & (-0.008+0.002j) & (-0.067+0.021j) & (-0.003-0.023j) & (0.024+0.034j)\\\\(-0.012-0.006j) & (0.039-0.042j) & (-0.041-0.027j) & (0.075-0.034j) & (0.065-0.016j) & \\cdots & (0.007-0.021j) & (0.010-0.002j) & (0.078-0.023j) & (0.002+0.026j) & (-0.027-0.039j)\\\\\\end{matrix}\\right)$"
      ],
      "text/plain": [
       "Quantum object: dims = [[2, 2, 2, 2, 2], [2, 2, 2, 2, 2]], shape = (32, 32), type = oper, isherm = False\n",
       "Qobj data =\n",
       "[[ 0.00050598+3.64364472e-05j -0.00072958+2.07837122e-03j\n",
       "   0.0018649 +3.26942090e-04j ... -0.00236201+2.00555321e-03j\n",
       "  -0.00048637-8.80749840e-04j  0.00154317+9.66237313e-04j]\n",
       " [-0.00180754-1.55971855e-04j  0.00271443-7.39520855e-03j\n",
       "  -0.00665227-1.26377317e-03j ...  0.00854829-7.05197640e-03j\n",
       "   0.00169455+3.17423087e-03j -0.00546934-3.53355946e-03j]\n",
       " [-0.00180754-1.55971855e-04j  0.00271443-7.39520855e-03j\n",
       "  -0.00665227-1.26377317e-03j ...  0.00854829-7.05197640e-03j\n",
       "   0.00169455+3.17423087e-03j -0.00546934-3.53355946e-03j]\n",
       " ...\n",
       " [ 0.01024808+5.13616501e-03j -0.0332038 +3.70800512e-02j\n",
       "   0.03610533+2.29521515e-02j ... -0.06665353+2.14434025e-02j\n",
       "  -0.00253734-2.25928331e-02j  0.02386049+3.35162567e-02j]\n",
       " [ 0.01024808+5.13616501e-03j -0.0332038 +3.70800512e-02j\n",
       "   0.03610533+2.29521515e-02j ... -0.06665353+2.14434025e-02j\n",
       "  -0.00253734-2.25928331e-02j  0.02386049+3.35162567e-02j]\n",
       " [-0.01174084-6.17423911e-03j  0.03925506-4.21506582e-02j\n",
       "  -0.04125471-2.73719118e-02j ...  0.07760266-2.33027936e-02j\n",
       "   0.00242484+2.61971690e-02j -0.02684863-3.93176586e-02j]]"
      ]
     },
     "execution_count": 36,
     "metadata": {},
     "output_type": "execute_result"
    }
   ],
   "source": [
    "R = phi1*init_state.dag()\n",
    "R"
   ]
  },
  {
   "cell_type": "code",
   "execution_count": 37,
   "metadata": {},
   "outputs": [
    {
     "data": {
      "text/latex": [
       "Quantum object: dims = [[2, 2, 2, 2, 2], [2, 2, 2, 2, 2]], shape = (32, 32), type = oper, isherm = False $ \\\\ \\left(\\begin{matrix}(3.141\\times10^{-04}+2.262\\times10^{-05}j) & (-4.529\\times10^{-04}+0.001j) & (0.001+2.030\\times10^{-04}j) & (-0.001+0.001j) & (-0.001+9.621\\times10^{-04}j) & \\cdots & (3.695\\times10^{-05}+5.289\\times10^{-04}j) & (-1.937\\times10^{-04}+1.350\\times10^{-04}j) & (-0.001+0.001j) & (-3.019\\times10^{-04}-5.468\\times10^{-04}j) & (9.580\\times10^{-04}+5.999\\times10^{-04}j)\\\\(-0.001+3.002\\times10^{-04}j) & (-9.123\\times10^{-05}-0.005j) & (-0.004+7.272\\times10^{-04}j) & (0.002-0.006j) & (0.003-0.005j) & \\cdots & (-7.435\\times10^{-04}-0.002j) & (4.545\\times10^{-04}-6.577\\times10^{-04}j) & (0.003-0.006j) & (0.002+0.001j) & (-0.004-7.683\\times10^{-04}j)\\\\(-0.001+5.672\\times10^{-05}j) & (0.001-0.006j) & (-0.005-3.382\\times10^{-04}j) & (0.005-0.007j) & (0.005-0.005j) & \\cdots & (-4.388\\times10^{-04}-0.002j) & (8.173\\times10^{-04}-7.166\\times10^{-04}j) & (0.006-0.006j) & (0.002+0.002j) & (-0.005-0.002j)\\\\(0.003-6.763\\times10^{-04}j) & (-9.467\\times10^{-04}+0.015j) & (0.013-0.001j) & (-0.009+0.019j) & (-0.010+0.014j) & \\cdots & (0.002+0.005j) & (-0.002+0.002j) & (-0.012+0.017j) & (-0.005-0.005j) & (0.012+0.003j)\\\\(-0.002+2.896\\times10^{-04}j) & (8.674\\times10^{-04}-0.008j) & (-0.007+3.840\\times10^{-04}j) & (0.006-0.010j) & (0.006-0.007j) & \\cdots & (-9.163\\times10^{-04}-0.003j) & (9.266\\times10^{-04}-0.001j) & (0.007-0.009j) & (0.002+0.003j) & (-0.006-0.002j)\\\\\\vdots & \\vdots & \\vdots & \\vdots & \\vdots & \\ddots & \\vdots & \\vdots & \\vdots & \\vdots & \\vdots\\\\(-9.894\\times10^{-04}+0.004j) & (-0.014-0.008j) & (-0.005+0.013j) & (-0.014-0.018j) & (-0.008-0.017j) & \\cdots & (-0.006-8.009\\times10^{-04}j) & (-0.001-0.003j) & (-0.011-0.020j) & (0.007-0.002j) & (-0.009+0.010j)\\\\(-0.002-0.004j) & (0.020-0.005j) & (-0.007-0.017j) & (0.030+0.005j) & (0.023+0.009j) & \\cdots & (0.007-0.005j) & (0.003+0.001j) & (0.028+0.009j) & (-0.005+0.008j) & (-1.060\\times10^{-04}-0.017j)\\\\(0.003+0.003j) & (-0.017+0.009j) & (0.010+0.013j) & (-0.027+0.003j) & (-0.022-0.002j) & \\cdots & (-0.005+0.006j) & (-0.003-3.964\\times10^{-04}j) & (-0.027-6.896\\times10^{-04}j) & (0.002-0.008j) & (0.004+0.015j)\\\\(0.006+0.007j) & (-0.035+0.016j) & (0.018+0.028j) & (-0.055+0.001j) & (-0.044-0.007j) & \\cdots & (-0.010+0.011j) & (-0.006-0.001j) & (-0.054-0.006j) & (0.005-0.017j) & (0.006+0.031j)\\\\(-0.007-0.004j) & (0.024-0.026j) & (-0.026-0.017j) & (0.047-0.021j) & (0.040-0.010j) & \\cdots & (0.005-0.013j) & (0.006-0.001j) & (0.048-0.014j) & (0.002+0.016j) & (-0.017-0.024j)\\\\\\end{matrix}\\right)$"
      ],
      "text/plain": [
       "Quantum object: dims = [[2, 2, 2, 2, 2], [2, 2, 2, 2, 2]], shape = (32, 32), type = oper, isherm = False\n",
       "Qobj data =\n",
       "[[ 3.14123745e-04+2.26204065e-05j -4.52936146e-04+1.29029051e-03j\n",
       "   1.15776359e-03+2.02971572e-04j ... -1.46637844e-03+1.24508377e-03j\n",
       "  -3.01945493e-04-5.46785456e-04j  9.58029810e-04+5.99857629e-04j]\n",
       " [-1.02319173e-03+3.00230131e-04j -9.12301250e-05-4.62918203e-03j\n",
       "  -3.91279911e-03+7.27184078e-04j ...  3.17695624e-03-5.68589442e-03j\n",
       "   1.60527345e-03+1.37685002e-03j -3.74922953e-03-7.68266828e-04j]\n",
       " [-1.44882105e-03+5.67196150e-05j  1.41430646e-03-6.13478807e-03j\n",
       "  -5.40091144e-03-3.38181278e-04j ...  6.07440258e-03-6.44485330e-03j\n",
       "   1.66045146e-03+2.34782621e-03j -4.68945629e-03-2.25602134e-03j]\n",
       " ...\n",
       " [ 3.04916198e-03+3.14966256e-03j -1.66727727e-02+9.18381271e-03j\n",
       "   1.01284250e-02+1.28495499e-02j ... -2.67678564e-02-6.89649858e-04j\n",
       "   1.94128154e-03-8.47492895e-03j  4.37318031e-03+1.51138227e-02j]\n",
       " [ 5.59057364e-03+6.86469012e-03j -3.51353152e-02+1.55956785e-02j\n",
       "   1.81574419e-02+2.76059585e-02j ... -5.37402955e-02-6.01633531e-03j\n",
       "   5.37153161e-03-1.67167014e-02j  6.18578812e-03+3.11667015e-02j]\n",
       " [-7.28892557e-03-3.83307949e-03j  2.43702545e-02-2.61678922e-02j\n",
       "  -2.56116727e-02-1.69929787e-02j ...  4.81771398e-02-1.44667964e-02j\n",
       "   1.50538474e-03+1.62636771e-02j -1.66681131e-02-2.44091148e-02j]]"
      ]
     },
     "execution_count": 37,
     "metadata": {},
     "output_type": "execute_result"
    }
   ],
   "source": [
    "arg =(-s*1j)*(phi1*phi2.dag()+phi2*phi1.dag())\n",
    "Us = arg.expm()\n",
    "R.dims = Us.dims\n",
    "U = Us*R\n",
    "U"
   ]
  },
  {
   "cell_type": "code",
   "execution_count": 43,
   "metadata": {},
   "outputs": [],
   "source": [
    "def u(phi,theta,lamda):\n",
    "    u = ((1j/2)*phi*sz).expm()*((1j/2)*theta*sy).expm()*((1j/2)*lamda*sz).expm()\n",
    "    return(u)\n",
    "\n",
    "def Us(params):\n",
    "    phi,theta,lamda = params[:N], params[N:2*N],params[2*N:3*N]\n",
    "    gates = []\n",
    "    for i in range(N):\n",
    "        gates.append(u(phi[i],theta[i],lamda[i]))\n",
    "    U_s = qt.tensor(gates)\n",
    "    return U_s\n",
    "\n",
    "\n",
    "def chi(params):\n",
    "    U_s = Us(params)\n",
    "    Udag = U_s.dag()\n",
    "    rho_0 = ket2dm(init_state)\n",
    "    L2.dims = U_s.dims\n",
    "    c = abs((L2*U_s*rho_0*Udag).tr())\n",
    "    return c\n",
    "\n",
    "epsilon = 1e-4\n",
    "def cost(params):\n",
    "    c = chi(params)\n",
    "    return abs(c-epsilon)"
   ]
  },
  {
   "cell_type": "code",
   "execution_count": 39,
   "metadata": {},
   "outputs": [],
   "source": [
    "def u(phi,theta):\n",
    "    u = ((1j/2)*phi*sz).expm()*((1j/2)*theta*sy).expm()\n",
    "    return(u)\n",
    "\n",
    "def Us(params):\n",
    "    phi,theta = params[:N], params[N:2*N]\n",
    "    gates = []\n",
    "    for i in range(N):\n",
    "        gates.append(u(phi[i],theta[i]))\n",
    "    U_s = qt.tensor(gates)\n",
    "    return U_s\n",
    "\n",
    "\n",
    "def chi(params):\n",
    "    U_s = Us(params)\n",
    "    Udag = U_s.dag()\n",
    "    rho_0 = ket2dm(init_state)\n",
    "    L2.dims = U_s.dims\n",
    "    c = abs((L2*U_s*rho_0*Udag).tr())\n",
    "    return c\n",
    "\n",
    "epsilon = 1e-4\n",
    "def cost(params):\n",
    "    c = chi(params)\n",
    "    return abs(c-epsilon)"
   ]
  },
  {
   "cell_type": "code",
   "execution_count": 44,
   "metadata": {},
   "outputs": [
    {
     "name": "stdout",
     "output_type": "stream",
     "text": [
      "Iteration limit reached    (Exit mode 9)\n",
      "            Current function value: 0.1051922961321366\n",
      "            Iterations: 100\n",
      "            Function evaluations: 1600\n",
      "            Gradient evaluations: 100\n"
     ]
    }
   ],
   "source": [
    "initial_guess = np.concatenate([np.random.uniform(0, np.pi,N), np.random.uniform(0, 2*np.pi-0.001,N),np.random.uniform(0, np.pi,N)])\n",
    "\n",
    "bounds = [(0, np.pi)] * N + [(0, 2 * np.pi - 0.001)] * N + [(0, 2*np.pi)] * N\n",
    "\n",
    "# Perform optimization\n",
    "result = minimize(\n",
    "    cost,                 # Objective function\n",
    "    initial_guess,       # Initial  # Constraints\n",
    "    bounds=bounds,\n",
    "    method='SLSQP',\n",
    "    options={'disp': True},\n",
    "    tol = 1e-16\n",
    ")\n",
    "\n",
    "Uspin = Us(result.x)"
   ]
  },
  {
   "cell_type": "code",
   "execution_count": 45,
   "metadata": {},
   "outputs": [],
   "source": [
    "# solving master equation\n",
    "final_state = qt.steadystate(hamiltonian,c_ops) # steady state solution \n",
    "\n",
    "tlist = omega*np.linspace(0, 4, 5000)\n",
    "medata = qt.mesolve(hamiltonian, init_state, tlist, c_ops, []) # initial state  = |0>\n",
    "qmpedata = qt.mesolve(hamiltonian, U*init_state, tlist, c_ops, []) # Mpemba unitary rotated state\n",
    "gspindata = qt.mesolve(hamiltonian, Uspin*init_state, tlist, c_ops, [])"
   ]
  },
  {
   "cell_type": "code",
   "execution_count": 46,
   "metadata": {},
   "outputs": [
    {
     "data": {
      "image/png": "[encoded data removed]",
      "text/plain": [
       "<Figure size 640x480 with 1 Axes>"
      ]
     },
     "metadata": {},
     "output_type": "display_data"
    }
   ],
   "source": [
    "# calculation of Hilbert Distances\n",
    "\n",
    "hilbert_distance = []\n",
    "qmpe_dist = []\n",
    "gspin_dist = []\n",
    "\n",
    "for state in medata.states:\n",
    "  dis = (np.trace((state-final_state)**2))**(1/2)\n",
    "  hilbert_distance.append(dis)\n",
    "\n",
    "for state in qmpedata.states:\n",
    "  dis = (np.trace((state-final_state)**2))**(1/2)\n",
    "  qmpe_dist.append(dis)\n",
    "\n",
    "for state in gspindata.states:\n",
    "  dis = (np.trace((state-final_state)**2))**(1/2)\n",
    "  gspin_dist.append(dis)\n",
    "\n",
    "plt.yscale('log')\n",
    "plt.plot(tlist,hilbert_distance,label=r'$\\rho_0$')\n",
    "plt.plot(tlist,qmpe_dist,label=r'L2 orthogonal rotated')\n",
    "plt.plot(tlist,gspin_dist,color='black',label='global spin rotated')\n",
    "plt.xlabel(f'$\\Omega t$')\n",
    "plt.ylabel('hilbert distance')\n",
    "plt.legend()\n",
    "plt.show()"
   ]
  },
  {
   "cell_type": "code",
   "execution_count": null,
   "metadata": {},
   "outputs": [],
   "source": []
  }
 ],
 "metadata": {
  "kernelspec": {
   "display_name": "qc",
   "language": "python",
   "name": "python3"
  },
  "language_info": {
   "codemirror_mode": {
    "name": "ipython",
    "version": 3
   },
   "file_extension": ".py",
   "mimetype": "text/x-python",
   "name": "python",
   "nbconvert_exporter": "python",
   "pygments_lexer": "ipython3",
   "version": "3.10.12"
  }
 },
 "nbformat": 4,
 "nbformat_minor": 4
}
