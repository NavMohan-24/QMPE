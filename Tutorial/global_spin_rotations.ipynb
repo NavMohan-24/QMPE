{
 "cells": [
  {
   "cell_type": "code",
   "execution_count": 1,
   "metadata": {},
   "outputs": [],
   "source": [
    "import qutip as qt\n",
    "from utils import *\n",
    "import numpy as np\n",
    "from IPython.display import Math,display\n",
    "from scipy.optimize import minimize\n",
    "import matplotlib.pyplot as plt\n",
    "from qutip import ket2dm"
   ]
  },
  {
   "cell_type": "code",
   "execution_count": 2,
   "metadata": {},
   "outputs": [],
   "source": [
    "\n",
    "# Pauli Operators\n",
    "sx = 0.5*qt.operators.sigmax()\n",
    "sy = 0.5*qt.operators.sigmay()\n",
    "sz = 0.5*qt.operators.sigmaz()\n",
    "I =  qt.operators.identity(2)"
   ]
  },
  {
   "cell_type": "code",
   "execution_count": 3,
   "metadata": {},
   "outputs": [],
   "source": [
    "def hamiltonian_ising(N,omega,delta,V):\n",
    "  sx = 0.5*qt.operators.sigmax()\n",
    "  #sy = 0.5*qt.operators.sigmay()\n",
    "  sz = 0.5*qt.operators.sigmaz()\n",
    "  I = qt.operators.identity(2)\n",
    "\n",
    "  ising_ham = qt.tensor([I*0]*N)\n",
    "  for i in range(N):\n",
    "    hz = qt.tensor([sz if j==i else I for j in range(N)])\n",
    "    hx = qt.tensor([sx if j==i else I for j in range(N)])\n",
    "    ising_ham += 1*delta*hz+omega*hx\n",
    "    for j in range(i + 1, N):\n",
    "        hzz = qt.tensor([sz if k == i or k == j else I for k in range(N)]) # assume obc\n",
    "        ising_ham += (V/abs(i-j))*hzz\n",
    "  \n",
    "  return(ising_ham)"
   ]
  },
  {
   "cell_type": "code",
   "execution_count": 4,
   "metadata": {},
   "outputs": [],
   "source": [
    "# Hamiltonian (of boltzmann machines)\n",
    "omega = np.pi/4\n",
    "N = 5\n",
    "delta = 1\n",
    "V =  5*omega\n",
    "hamiltonian=hamiltonian_ising(N,omega,delta,V)\n",
    "\n",
    "# jump operators \n",
    "sm = qt.operators.sigmam() # spin-lowering operators\n",
    "\n",
    "\n",
    "# collapse operator\n",
    "kappa = 1\n",
    "c_ops = [qt.tensor([sm if i==j  else I for j in range(N)]) for i in range(N)]\n",
    "c_ops = [np.sqrt(kappa/4) * c_op for c_op in c_ops]"
   ]
  },
  {
   "cell_type": "code",
   "execution_count": 5,
   "metadata": {},
   "outputs": [
    {
     "data": {
      "text/latex": [
       "Quantum object: dims = [[2, 2, 2, 2, 2], [2, 2, 2, 2, 2]], shape = (32, 32), type = oper, isherm = True $ \\\\ \\left(\\begin{matrix}8.800 & 0.393 & 0.393 & 0.0 & 0.393 & \\cdots & 0.0 & 0.0 & 0.0 & 0.0 & 0.0\\\\0.393 & 3.709 & 0.0 & 0.393 & 0.0 & \\cdots & 0.0 & 0.0 & 0.0 & 0.0 & 0.0\\\\0.393 & 0.0 & 2.236 & 0.393 & 0.0 & \\cdots & 0.0 & 0.0 & 0.0 & 0.0 & 0.0\\\\0.0 & 0.393 & 0.393 & 1.073 & 0.0 & \\cdots & 0.0 & 0.0 & 0.0 & 0.0 & 0.0\\\\0.393 & 0.0 & 0.0 & 0.0 & 1.909 & \\cdots & 0.0 & 0.0 & 0.0 & 0.0 & 0.0\\\\\\vdots & \\vdots & \\vdots & \\vdots & \\vdots & \\ddots & \\vdots & \\vdots & \\vdots & \\vdots & \\vdots\\\\0.0 & 0.0 & 0.0 & 0.0 & 0.0 & \\cdots & -1.091 & 0.0 & 0.0 & 0.0 & 0.393\\\\0.0 & 0.0 & 0.0 & 0.0 & 0.0 & \\cdots & 0.0 & 0.073 & 0.393 & 0.393 & 0.0\\\\0.0 & 0.0 & 0.0 & 0.0 & 0.0 & \\cdots & 0.0 & 0.393 & -0.764 & 0.0 & 0.393\\\\0.0 & 0.0 & 0.0 & 0.0 & 0.0 & \\cdots & 0.0 & 0.393 & 0.0 & 0.709 & 0.393\\\\0.0 & 0.0 & 0.0 & 0.0 & 0.0 & \\cdots & 0.393 & 0.0 & 0.393 & 0.393 & 3.800\\\\\\end{matrix}\\right)$"
      ],
      "text/plain": [
       "Quantum object: dims = [[2, 2, 2, 2, 2], [2, 2, 2, 2, 2]], shape = (32, 32), type = oper, isherm = True\n",
       "Qobj data =\n",
       "[[ 8.79954777  0.39269908  0.39269908 ...  0.          0.\n",
       "   0.        ]\n",
       " [ 0.39269908  3.70893233  0.         ...  0.          0.\n",
       "   0.        ]\n",
       " [ 0.39269908  0.          2.23631078 ...  0.          0.\n",
       "   0.        ]\n",
       " ...\n",
       " [ 0.          0.          0.         ... -0.76368922  0.\n",
       "   0.39269908]\n",
       " [ 0.          0.          0.         ...  0.          0.70893233\n",
       "   0.39269908]\n",
       " [ 0.          0.          0.         ...  0.39269908  0.39269908\n",
       "   3.79954777]]"
      ]
     },
     "execution_count": 5,
     "metadata": {},
     "output_type": "execute_result"
    }
   ],
   "source": [
    "hamiltonian"
   ]
  },
  {
   "cell_type": "code",
   "execution_count": 6,
   "metadata": {},
   "outputs": [],
   "source": [
    "# Linbladian\n",
    "L = qt.liouvillian(hamiltonian, c_ops)\n",
    "L_dag = qt.liouvillian(hamiltonian, c_ops).dag()"
   ]
  },
  {
   "cell_type": "code",
   "execution_count": 10,
   "metadata": {},
   "outputs": [
    {
     "name": "stdout",
     "output_type": "stream",
     "text": [
      "eigen values\n",
      " [ 0.        +0.j         -0.11346457+0.j         -0.16982951-4.83210667j]\n"
     ]
    }
   ],
   "source": [
    "# diagonalization using qutip\n",
    "val,mat = L_dag.eigenstates(sort='high',eigvals=3)\n",
    "tol = 1e-8\n",
    "real_vals = np.where(np.abs(val.imag)<tol,val.real,val)\n",
    "real_vals = np.where(np.abs(real_vals.real)<tol,real_vals.imag,real_vals)\n",
    "print('eigen values\\n', real_vals)\n",
    "\n",
    "l2indx = np.argsort(abs(real_vals))[1]\n",
    "l2 = mat[l2indx].full().reshape(2**N,2**N)"
   ]
  },
  {
   "cell_type": "raw",
   "metadata": {
    "vscode": {
     "languageId": "raw"
    }
   },
   "source": [
    "L2 = qt.Qobj(np.round(l2,3))\n",
    "alphas,phis = L2.eigenstates()\n",
    "\n",
    "print(alphas)"
   ]
  },
  {
   "cell_type": "code",
   "execution_count": 11,
   "metadata": {},
   "outputs": [
    {
     "data": {
      "text/latex": [
       "Quantum object: dims = [[2, 2, 2, 2, 2], [1, 1, 1, 1, 1]], shape = (32, 1), type = ket $ \\\\ \\left(\\begin{matrix}1.0\\\\0.0\\\\0.0\\\\0.0\\\\0.0\\\\\\vdots\\\\0.0\\\\0.0\\\\0.0\\\\0.0\\\\0.0\\\\\\end{matrix}\\right)$"
      ],
      "text/plain": [
       "Quantum object: dims = [[2, 2, 2, 2, 2], [1, 1, 1, 1, 1]], shape = (32, 1), type = ket\n",
       "Qobj data =\n",
       "[[1.]\n",
       " [0.]\n",
       " [0.]\n",
       " [0.]\n",
       " [0.]\n",
       " [0.]\n",
       " [0.]\n",
       " [0.]\n",
       " [0.]\n",
       " [0.]\n",
       " [0.]\n",
       " [0.]\n",
       " [0.]\n",
       " [0.]\n",
       " [0.]\n",
       " [0.]\n",
       " [0.]\n",
       " [0.]\n",
       " [0.]\n",
       " [0.]\n",
       " [0.]\n",
       " [0.]\n",
       " [0.]\n",
       " [0.]\n",
       " [0.]\n",
       " [0.]\n",
       " [0.]\n",
       " [0.]\n",
       " [0.]\n",
       " [0.]\n",
       " [0.]\n",
       " [0.]]"
      ]
     },
     "execution_count": 11,
     "metadata": {},
     "output_type": "execute_result"
    }
   ],
   "source": [
    "init_state = qt.tensor([qt.basis(2,0)]*N)\n",
    "# init_state =  qt.rand_ket(2**N)\n",
    "# init_state.dims = [[2]*N,[1]]\n",
    "init_state"
   ]
  },
  {
   "cell_type": "code",
   "execution_count": 12,
   "metadata": {},
   "outputs": [
    {
     "data": {
      "text/latex": [
       "Quantum object: dims = [[2, 2, 2, 2, 2], [2, 2, 2, 2, 2]], shape = (32, 32), type = oper, isherm = True $ \\\\ \\left(\\begin{matrix}1.0 & 0.0 & 0.0 & 0.0 & 0.0 & \\cdots & 0.0 & 0.0 & 0.0 & 0.0 & 0.0\\\\0.0 & 0.0 & 0.0 & 0.0 & 0.0 & \\cdots & 0.0 & 0.0 & 0.0 & 0.0 & 0.0\\\\0.0 & 0.0 & 0.0 & 0.0 & 0.0 & \\cdots & 0.0 & 0.0 & 0.0 & 0.0 & 0.0\\\\0.0 & 0.0 & 0.0 & 0.0 & 0.0 & \\cdots & 0.0 & 0.0 & 0.0 & 0.0 & 0.0\\\\0.0 & 0.0 & 0.0 & 0.0 & 0.0 & \\cdots & 0.0 & 0.0 & 0.0 & 0.0 & 0.0\\\\\\vdots & \\vdots & \\vdots & \\vdots & \\vdots & \\ddots & \\vdots & \\vdots & \\vdots & \\vdots & \\vdots\\\\0.0 & 0.0 & 0.0 & 0.0 & 0.0 & \\cdots & 0.0 & 0.0 & 0.0 & 0.0 & 0.0\\\\0.0 & 0.0 & 0.0 & 0.0 & 0.0 & \\cdots & 0.0 & 0.0 & 0.0 & 0.0 & 0.0\\\\0.0 & 0.0 & 0.0 & 0.0 & 0.0 & \\cdots & 0.0 & 0.0 & 0.0 & 0.0 & 0.0\\\\0.0 & 0.0 & 0.0 & 0.0 & 0.0 & \\cdots & 0.0 & 0.0 & 0.0 & 0.0 & 0.0\\\\0.0 & 0.0 & 0.0 & 0.0 & 0.0 & \\cdots & 0.0 & 0.0 & 0.0 & 0.0 & 0.0\\\\\\end{matrix}\\right)$"
      ],
      "text/plain": [
       "Quantum object: dims = [[2, 2, 2, 2, 2], [2, 2, 2, 2, 2]], shape = (32, 32), type = oper, isherm = True\n",
       "Qobj data =\n",
       "[[1. 0. 0. ... 0. 0. 0.]\n",
       " [0. 0. 0. ... 0. 0. 0.]\n",
       " [0. 0. 0. ... 0. 0. 0.]\n",
       " ...\n",
       " [0. 0. 0. ... 0. 0. 0.]\n",
       " [0. 0. 0. ... 0. 0. 0.]\n",
       " [0. 0. 0. ... 0. 0. 0.]]"
      ]
     },
     "execution_count": 12,
     "metadata": {},
     "output_type": "execute_result"
    }
   ],
   "source": [
    "rho_0 = ket2dm(init_state)\n",
    "rho_0"
   ]
  },
  {
   "cell_type": "code",
   "execution_count": 13,
   "metadata": {},
   "outputs": [],
   "source": [
    "l2mat = qt.Qobj(l2)\n",
    "l2mat.dims = rho_0.dims"
   ]
  },
  {
   "cell_type": "code",
   "execution_count": 14,
   "metadata": {},
   "outputs": [
    {
     "data": {
      "text/plain": [
       "0.22462664323238263"
      ]
     },
     "execution_count": 14,
     "metadata": {},
     "output_type": "execute_result"
    }
   ],
   "source": [
    "temp = l2mat*rho_0\n",
    "abs(temp.tr())"
   ]
  },
  {
   "cell_type": "markdown",
   "metadata": {},
   "source": [
    "## New Approach"
   ]
  },
  {
   "cell_type": "code",
   "execution_count": 17,
   "metadata": {},
   "outputs": [
    {
     "data": {
      "text/latex": [
       "Quantum object: dims = [[2, 2, 2, 2, 2], [2, 2, 2, 2, 2]], shape = (32, 32), type = oper, isherm = True $ \\\\ \\left(\\begin{matrix}5.937\\times10^{-06} & (-2.488\\times10^{-05}-1.111\\times10^{-05}j) & (-8.999\\times10^{-06}+4.046\\times10^{-06}j) & (-1.337\\times10^{-05}+1.273\\times10^{-05}j) & (-7.200\\times10^{-06}+4.679\\times10^{-06}j) & \\cdots & (-9.725\\times10^{-05}+1.582\\times10^{-04}j) & (-2.829\\times10^{-05}+4.218\\times10^{-05}j) & (-1.043\\times10^{-04}+1.699\\times10^{-04}j) & (-1.542\\times10^{-04}+2.452\\times10^{-04}j) & (-0.001+0.002j)\\\\(-2.488\\times10^{-05}+1.111\\times10^{-05}j) & 1.307\\times10^{-04} & (2.982\\times10^{-05}-3.518\\times10^{-05}j) & (2.512\\times10^{-05}-7.837\\times10^{-05}j) & (1.855\\times10^{-05}-3.096\\times10^{-05}j) & \\cdots & (1.138\\times10^{-04}-8.571\\times10^{-04}j) & (5.057\\times10^{-05}-2.467\\times10^{-04}j) & (1.139\\times10^{-04}-9.118\\times10^{-04}j) & (2.001\\times10^{-04}-0.001j) & (0.001-0.011j)\\\\(-8.999\\times10^{-06}-4.046\\times10^{-06}j) & (2.982\\times10^{-05}+3.518\\times10^{-05}j) & 3.111\\times10^{-05} & (-2.199\\times10^{-06}-2.998\\times10^{-05}j) & (1.486\\times10^{-05}-5.919\\times10^{-06}j) & \\cdots & (2.457\\times10^{-04}-1.317\\times10^{-04}j) & (7.552\\times10^{-05}-3.951\\times10^{-05}j) & (2.694\\times10^{-04}-1.612\\times10^{-04}j) & (3.747\\times10^{-04}-2.197\\times10^{-04}j) & (0.003-0.002j)\\\\(-1.337\\times10^{-05}-1.273\\times10^{-05}j) & (2.512\\times10^{-05}+7.837\\times10^{-05}j) & (-2.199\\times10^{-06}+2.998\\times10^{-05}j) & 2.094\\times10^{-04} & (3.504\\times10^{-05}+1.468\\times10^{-05}j) & \\cdots & (4.863\\times10^{-04}-2.500\\times10^{-04}j) & (1.465\\times10^{-04}-4.230\\times10^{-05}j) & (6.004\\times10^{-04}-2.564\\times10^{-04}j) & (8.543\\times10^{-04}-3.793\\times10^{-04}j) & (0.006-0.003j)\\\\(-7.200\\times10^{-06}-4.679\\times10^{-06}j) & (1.855\\times10^{-05}+3.096\\times10^{-05}j) & (1.486\\times10^{-05}+5.919\\times10^{-06}j) & (3.504\\times10^{-05}-1.468\\times10^{-05}j) & 2.750\\times10^{-05} & \\cdots & (2.137\\times10^{-04}-9.989\\times10^{-05}j) & (2.753\\times10^{-05}-3.319\\times10^{-05}j) & (2.180\\times10^{-04}-9.521\\times10^{-05}j) & (3.072\\times10^{-04}-1.337\\times10^{-04}j) & (0.003-0.001j)\\\\\\vdots & \\vdots & \\vdots & \\vdots & \\vdots & \\ddots & \\vdots & \\vdots & \\vdots & \\vdots & \\vdots\\\\(-9.725\\times10^{-05}-1.582\\times10^{-04}j) & (1.138\\times10^{-04}+8.571\\times10^{-04}j) & (2.457\\times10^{-04}+1.317\\times10^{-04}j) & (4.863\\times10^{-04}+2.500\\times10^{-04}j) & (2.137\\times10^{-04}+9.989\\times10^{-05}j) & \\cdots & 0.007 & (0.002+1.436\\times10^{-04}j) & (0.007+1.281\\times10^{-05}j) & (0.010+1.361\\times10^{-04}j) & (0.076-0.002j)\\\\(-2.829\\times10^{-05}-4.218\\times10^{-05}j) & (5.057\\times10^{-05}+2.467\\times10^{-04}j) & (7.552\\times10^{-05}+3.951\\times10^{-05}j) & (1.465\\times10^{-04}+4.230\\times10^{-05}j) & (2.753\\times10^{-05}+3.319\\times10^{-05}j) & \\cdots & (0.002-1.436\\times10^{-04}j) & 8.381\\times10^{-04} & (0.002-2.466\\times10^{-04}j) & (0.003-3.984\\times10^{-04}j) & (0.021-0.003j)\\\\(-1.043\\times10^{-04}-1.699\\times10^{-04}j) & (1.139\\times10^{-04}+9.118\\times10^{-04}j) & (2.694\\times10^{-04}+1.612\\times10^{-04}j) & (6.004\\times10^{-04}+2.564\\times10^{-04}j) & (2.180\\times10^{-04}+9.521\\times10^{-05}j) & \\cdots & (0.007-1.281\\times10^{-05}j) & (0.002+2.466\\times10^{-04}j) & 0.008 & (0.010+4.163\\times10^{-05}j) & (0.082-0.002j)\\\\(-1.542\\times10^{-04}-2.452\\times10^{-04}j) & (2.001\\times10^{-04}+0.001j) & (3.747\\times10^{-04}+2.197\\times10^{-04}j) & (8.543\\times10^{-04}+3.793\\times10^{-04}j) & (3.072\\times10^{-04}+1.337\\times10^{-04}j) & \\cdots & (0.010-1.361\\times10^{-04}j) & (0.003+3.984\\times10^{-04}j) & (0.010-4.163\\times10^{-05}j) & 0.016 & (0.120-0.005j)\\\\(-0.001-0.002j) & (0.001+0.011j) & (0.003+0.002j) & (0.006+0.003j) & (0.003+0.001j) & \\cdots & (0.076+0.002j) & (0.021+0.003j) & (0.082+0.002j) & (0.120+0.005j) & 0.939\\\\\\end{matrix}\\right)$"
      ],
      "text/plain": [
       "Quantum object: dims = [[2, 2, 2, 2, 2], [2, 2, 2, 2, 2]], shape = (32, 32), type = oper, isherm = True\n",
       "Qobj data =\n",
       "[[ 5.93669512e-06+0.00000000e+00j -2.48840251e-05-1.11095671e-05j\n",
       "  -8.99923217e-06+4.04558321e-06j ... -1.04257841e-04+1.69901936e-04j\n",
       "  -1.54207051e-04+2.45162322e-04j -1.14603784e-03+1.99540909e-03j]\n",
       " [-2.48840251e-05+1.11095671e-05j  1.30688330e-04+0.00000000e+00j\n",
       "   2.98201469e-05-3.51832920e-05j ...  1.13925426e-04-9.11769470e-04j\n",
       "   2.00143222e-04-1.35395538e-03j  1.08184467e-03-1.06805671e-02j]\n",
       " [-8.99923217e-06-4.04558321e-06j  2.98201469e-05+3.51832920e-05j\n",
       "   3.11061865e-05+0.00000000e+00j ...  2.69365535e-04-1.61208647e-04j\n",
       "   3.74704979e-04-2.19737648e-04j  3.03112206e-03-1.83126705e-03j]\n",
       " ...\n",
       " [-1.04257841e-04-1.69901936e-04j  1.13925426e-04+9.11769470e-04j\n",
       "   2.69365535e-04+1.61208647e-04j ...  7.69809620e-03+0.00000000e+00j\n",
       "   1.04771872e-02+4.16297113e-05j  8.19148348e-02-2.41026393e-03j]\n",
       " [-1.54207051e-04-2.45162322e-04j  2.00143222e-04+1.35395538e-03j\n",
       "   3.74704979e-04+2.19737648e-04j ...  1.04771872e-02-4.16297113e-05j\n",
       "   1.59441141e-02+0.00000000e+00j  1.19684407e-01-5.12852306e-03j]\n",
       " [-1.14603784e-03-1.99540909e-03j  1.08184467e-03+1.06805671e-02j\n",
       "   3.03112206e-03+1.83126705e-03j ...  8.19148348e-02+2.41026393e-03j\n",
       "   1.19684407e-01+5.12852306e-03j  9.39380717e-01+0.00000000e+00j]]"
      ]
     },
     "execution_count": 17,
     "metadata": {},
     "output_type": "execute_result"
    }
   ],
   "source": [
    "r0 = qt.steadystate(L)\n",
    "r0"
   ]
  },
  {
   "cell_type": "code",
   "execution_count": 30,
   "metadata": {},
   "outputs": [],
   "source": [
    "def u(phi,theta,lamda):\n",
    "    u = ((1j/2)*phi*sz).expm()*((1j/2)*theta*sy).expm()*((1j/2)*lamda*sz).expm()\n",
    "    return(u)\n",
    "\n",
    "def Us(params):\n",
    "    phi,theta,lamda = params[:N], params[N:2*N],params[2*N:3*N]\n",
    "    gates = []\n",
    "    for i in range(N):\n",
    "        gates.append(u(phi[i],theta[i],lamda[i]))\n",
    "    U = qt.tensor(gates)\n",
    "    return U\n",
    "\n",
    "\n",
    "def chi(params):\n",
    "    U = Us(params)\n",
    "    Udag = U.dag()\n",
    "    c = abs((l2mat*U*rho_0*Udag).tr())\n",
    "    #c = abs(qt.hilbert_dist(r0,U*rho_0*Udag))\n",
    "    return c\n",
    "\n",
    "epsilon = 1e-4\n",
    "def cost(params):\n",
    "    c = chi(params)\n",
    "    return abs(c-epsilon)"
   ]
  },
  {
   "cell_type": "code",
   "execution_count": 31,
   "metadata": {},
   "outputs": [
    {
     "name": "stdout",
     "output_type": "stream",
     "text": [
      "Optimization terminated successfully    (Exit mode 0)\n",
      "            Current function value: 0.005860564058367733\n",
      "            Iterations: 70\n",
      "            Function evaluations: 1104\n",
      "            Gradient evaluations: 69\n",
      "optimized parameters: [3.14159265 3.14159265 3.14159265 3.14159265 3.14159265 6.26096791\n",
      " 6.28218531 6.28218531 6.28218531 6.26096785 0.61603729 0.05892956\n",
      " 0.05138187 3.02796512 2.82757776]\n",
      "overlap with L2 mode: 0.005860564058367733\n"
     ]
    }
   ],
   "source": [
    "initial_guess = np.concatenate([np.random.uniform(0, np.pi,5), np.random.uniform(0, 2*np.pi-0.001,5),np.random.uniform(0, np.pi,5)])\n",
    "\n",
    "bounds = [(0, np.pi)] * 5 + [(0, 2 * np.pi - 0.001)] * 5 + [(0, 2*np.pi)] * 5\n",
    "\n",
    "# Perform optimization\n",
    "result = minimize(\n",
    "    cost,                 # Objective function\n",
    "    initial_guess,       # Initial  # Constraints\n",
    "    bounds=bounds,\n",
    "    method='SLSQP',\n",
    "    options={'disp': True},\n",
    "    tol = 1e-16\n",
    ")\n",
    "\n",
    "print(\"optimized parameters:\",result.x)\n",
    "print(\"overlap with L2 mode:\",result.fun)"
   ]
  },
  {
   "cell_type": "code",
   "execution_count": 32,
   "metadata": {},
   "outputs": [
    {
     "name": "stdout",
     "output_type": "stream",
     "text": [
      "state orthogonal to l2 mode: Quantum object: dims = [[2, 2, 2, 2, 2], [1, 1, 1, 1, 1]], shape = (32, 1), type = ket\n",
      "Qobj data =\n",
      "[[ 0.00000000e+00+0.00000000e+00j]\n",
      " [ 0.00000000e+00+0.00000000e+00j]\n",
      " [ 1.25789475e-12+1.46133588e-12j]\n",
      " [-2.63094158e-10+2.26467279e-10j]\n",
      " [ 1.25789475e-12+1.46133588e-12j]\n",
      " [-2.63094158e-10+2.26467279e-10j]\n",
      " [-5.84534340e-09+5.03157889e-09j]\n",
      " [-9.05869095e-07-1.05237661e-06j]\n",
      " [ 1.25789475e-12+1.46133588e-12j]\n",
      " [-2.63094158e-10+2.26467279e-10j]\n",
      " [-5.84534340e-09+5.03157889e-09j]\n",
      " [-9.05869095e-07-1.05237661e-06j]\n",
      " [-5.84534340e-09+5.03157889e-09j]\n",
      " [-9.05869095e-07-1.05237661e-06j]\n",
      " [-2.01263151e-05-2.33813731e-05j]\n",
      " [ 4.20950636e-03-3.62347631e-03j]\n",
      " [ 0.00000000e+00+0.00000000e+00j]\n",
      " [-1.18416862e-11+1.01931357e-11j]\n",
      " [-2.63094866e-10+2.26467887e-10j]\n",
      " [-4.07725418e-08-4.73667438e-08j]\n",
      " [-2.63094866e-10+2.26467887e-10j]\n",
      " [-4.07725418e-08-4.73667438e-08j]\n",
      " [-9.05871530e-07-1.05237944e-06j]\n",
      " [ 1.89466971e-04-1.63090164e-04j]\n",
      " [-2.63094866e-10+2.26467887e-10j]\n",
      " [-4.07725418e-08-4.73667438e-08j]\n",
      " [-9.05871530e-07-1.05237944e-06j]\n",
      " [ 1.89466971e-04-1.63090164e-04j]\n",
      " [-9.05871530e-07-1.05237944e-06j]\n",
      " [ 1.89466971e-04-1.63090164e-04j]\n",
      " [ 4.20951767e-03-3.62348605e-03j]\n",
      " [ 6.52360641e-01+7.57867869e-01j]]\n"
     ]
    }
   ],
   "source": [
    "rotation_unitary = Us(result.x)\n",
    "mpe_state = rotation_unitary*init_state#*init_state.dag()*rotation_unitary\n",
    "print(\"state orthogonal to l2 mode:\",mpe_state)"
   ]
  },
  {
   "cell_type": "code",
   "execution_count": 33,
   "metadata": {},
   "outputs": [],
   "source": [
    "# solving master equation\n",
    "final_state = qt.steadystate(hamiltonian,c_ops) # steady state solution \n",
    "\n",
    "tlist = omega*np.linspace(0, 50,5000)\n",
    "medata = qt.mesolve(hamiltonian, init_state, tlist, c_ops, []) # initial state  = |0>\n",
    "qmpedata = qt.mesolve(hamiltonian, mpe_state, tlist, c_ops, [])"
   ]
  },
  {
   "cell_type": "code",
   "execution_count": 34,
   "metadata": {},
   "outputs": [
    {
     "name": "stderr",
     "output_type": "stream",
     "text": [
      "c:\\Users\\navan\\anaconda3\\envs\\qc\\lib\\site-packages\\matplotlib\\cbook.py:1762: ComplexWarning: Casting complex values to real discards the imaginary part\n",
      "  return math.isfinite(val)\n",
      "c:\\Users\\navan\\anaconda3\\envs\\qc\\lib\\site-packages\\matplotlib\\cbook.py:1398: ComplexWarning: Casting complex values to real discards the imaginary part\n",
      "  return np.asarray(x, float)\n"
     ]
    },
    {
     "data": {
      "image/png": "[encoded data removed]",
      "text/plain": [
       "<Figure size 640x480 with 1 Axes>"
      ]
     },
     "metadata": {},
     "output_type": "display_data"
    }
   ],
   "source": [
    "# calculation of Hilbert Distances\n",
    "\n",
    "hilbert_distance = []\n",
    "qmpe_dist = []\n",
    "\n",
    "#hs_max = np.sqrt(2 *(1-1/(2**N)))\n",
    "\n",
    "for state in medata.states:\n",
    "\n",
    "  dis = (np.trace((state-final_state)**2))**(1/2)\n",
    "  #dis=qt.hilbert_dist(state,final_state)\n",
    "  hilbert_distance.append(dis)\n",
    "\n",
    "for state in qmpedata.states:\n",
    "  #dis = qt.hilbert_dist(state,final_state)\n",
    "  dis = (np.trace((state-final_state)**2))**(1/2)\n",
    "  qmpe_dist.append(dis)\n",
    "\n",
    "plt.yscale('log')\n",
    "plt.plot(tlist,hilbert_distance,label=r'$\\rho_0$')\n",
    "plt.plot(tlist,qmpe_dist,label=r'$U\\rho_0U^{\\dagger}$')\n",
    "plt.xlabel(f'$\\Omega t$')\n",
    "plt.ylabel('hilbert distance')\n",
    "plt.legend()\n",
    "plt.show()"
   ]
  },
  {
   "cell_type": "markdown",
   "metadata": {},
   "source": [
    "## Two Local Ansatz"
   ]
  },
  {
   "cell_type": "code",
   "execution_count": 134,
   "metadata": {},
   "outputs": [],
   "source": [
    "ket0 = qt.ket('0')\n",
    "ket1 = qt.ket('1')"
   ]
  },
  {
   "cell_type": "code",
   "execution_count": 170,
   "metadata": {},
   "outputs": [],
   "source": [
    "def rx(theta):\n",
    "    U =  []\n",
    "    for t in theta:\n",
    "        u = ((-1j/2)*t*sx).expm()\n",
    "        U.append(u)\n",
    "    return qt.tensor(U)\n",
    "\n",
    "def cz(N):\n",
    "    cz = qt.tensor([I,ket0,ket0.dag()])+ qt.tensor([sz,ket1,ket1.dag()])\n",
    "    ucz = qt.qeye(2**N)\n",
    "\n",
    "    for i in range(N-1):\n",
    "        gates = [I]*(N-1)\n",
    "        gates[i] = cz\n",
    "        u = qt.tensor(gates)\n",
    "        ucz.dims = [[2]*N,[2]*N]\n",
    "        u.dims = [[2]*N,[2]*N]\n",
    "        ucz = ucz*u\n",
    "    return ucz\n",
    "\n",
    "    \n",
    "depth = 3\n",
    "def two_local_unitary(params):\n",
    "\n",
    "    thetas = np.split(params,depth)\n",
    "\n",
    "    uansatz = np.eye(2**N,2**N)\n",
    "    for i in range(depth):\n",
    "        uansatz*rx(thetas[i])\n",
    "        uansatz*cz(N)\n",
    "\n",
    "    U = qt.Qobj(uansatz)\n",
    "    U.dims = rho_0.dims\n",
    "    return U\n",
    "\n",
    "\n",
    "epsilon = 1e-4\n",
    "def cost(params):\n",
    "    U = two_local_unitary(params)\n",
    "    Udag = U.dag()\n",
    "    c = abs((l2mat*U*rho_0*Udag).tr())\n",
    "    return abs(c-epsilon)"
   ]
  },
  {
   "cell_type": "code",
   "execution_count": 171,
   "metadata": {},
   "outputs": [
    {
     "name": "stdout",
     "output_type": "stream",
     "text": [
      "Optimization terminated successfully    (Exit mode 0)\n",
      "            Current function value: 0.22452664323238264\n",
      "            Iterations: 1\n",
      "            Function evaluations: 16\n",
      "            Gradient evaluations: 1\n",
      "optimized parameters: [0.64839974 0.26469731 2.20666881 1.02171503 3.14913363 3.26640868\n",
      " 2.31477228 3.1071832  5.5119682  2.42887943 3.61760287 1.92544186\n",
      " 0.83127393 2.52262502 0.36147383]\n",
      "overlap with L2 mode: 0.22452664323238264\n"
     ]
    }
   ],
   "source": [
    "initial_guess = np.random.uniform(0, 2*np.pi,depth*N)\n",
    "\n",
    "bounds = [(0, 2*np.pi)] *(depth*N)\n",
    "\n",
    "# Perform optimization\n",
    "result = minimize(\n",
    "    cost,                 # Objective function\n",
    "    initial_guess,       # Initial  # Constraints\n",
    "    bounds=bounds,\n",
    "    method='SLSQP',\n",
    "    options={'disp': True},\n",
    "    tol = 1e-16\n",
    ")\n",
    "\n",
    "print(\"optimized parameters:\",result.x)\n",
    "print(\"overlap with L2 mode:\",result.fun)"
   ]
  },
  {
   "cell_type": "code",
   "execution_count": null,
   "metadata": {},
   "outputs": [],
   "source": [
    "im"
   ]
  },
  {
   "cell_type": "markdown",
   "metadata": {},
   "source": [
    "## Old Approach"
   ]
  },
  {
   "cell_type": "code",
   "execution_count": 181,
   "metadata": {},
   "outputs": [],
   "source": [
    "def Us(theta_phi):\n",
    "    phi,theta = theta_phi\n",
    "    u = ((-1j/2)*phi*sz).expm()*((-1j/2)*theta*sy).expm()\n",
    "    U = qt.tensor([u]*N)\n",
    "    return U\n",
    "\n",
    "\n",
    "def chi(theta_phi):\n",
    "    # theta,phi = theta_phi\n",
    "    # u = ((1j/2)*phi*sz).expm()*((1j/2)*theta*sy).expm()\n",
    "    # Us = qt.tensor([u]*N)\n",
    "    U = Us(theta_phi=theta_phi)\n",
    "    Udag = U.dag()\n",
    "    # l2mat.dims = [[2]*N,[2]*N]\n",
    "    # rho_0.dims = [[2]*N,[2]*N]\n",
    "    c = abs((l2mat*U*rho_0*Udag).tr())\n",
    "    return c\n",
    "\n",
    "epsilon = 1e-4\n",
    "\n",
    "def cost(theta_phi):\n",
    "    c = chi(theta_phi)\n",
    "    return abs(c-epsilon)"
   ]
  },
  {
   "cell_type": "code",
   "execution_count": 182,
   "metadata": {},
   "outputs": [],
   "source": [
    "# Initial guess for theta and phi\n",
    "initial_guess = [np.random.uniform(0, 2*np.pi-0.001),np.random.uniform(0, np.pi)]  # Example values\n",
    "\n",
    "bounds = [(0, np.pi), (0, 2 * np.pi-0.001)] \n",
    "\n",
    "# Define constraints for scipy.optimize\n",
    "constraints = {'type': 'ineq', 'fun': cost}"
   ]
  },
  {
   "cell_type": "code",
   "execution_count": 183,
   "metadata": {},
   "outputs": [
    {
     "name": "stdout",
     "output_type": "stream",
     "text": [
      "Optimization terminated successfully    (Exit mode 0)\n",
      "            Current function value: 2.7985968577282083e-17\n",
      "            Iterations: 15\n",
      "            Function evaluations: 46\n",
      "            Gradient evaluations: 15\n"
     ]
    }
   ],
   "source": [
    "# Perform optimization\n",
    "result = minimize(\n",
    "    cost,                 # Objective function\n",
    "    initial_guess,       # Initial guess\n",
    "    constraints=constraints,  # Constraints\n",
    "    bounds=bounds,\n",
    "    method='SLSQP',\n",
    "    options={'disp': True},\n",
    "    tol = 1e-16\n",
    ")"
   ]
  },
  {
   "cell_type": "code",
   "execution_count": null,
   "metadata": {},
   "outputs": [],
   "source": [
    "def u(phi,theta):\n",
    "    u = ((1j/2)*phi*sz).expm()*((1j/2)*theta*sy).expm()\n",
    "    return(u)\n",
    "\n",
    "def Us(params):\n",
    "    phi,theta = params[:N], params[N:]\n",
    "    gates = []\n",
    "    for i in range(N):\n",
    "        gates.append(u(phi[i],theta[i]))\n",
    "    U = qt.tensor(gates)\n",
    "    return U\n",
    "\n",
    "\n",
    "def chi(params):\n",
    "    U = Us(params)\n",
    "    Udag = U.dag()\n",
    "    c = abs((l2mat*U*rho_0*Udag).tr())\n",
    "    return c\n",
    "\n",
    "epsilon = 1e-4\n",
    "def cost(params):\n",
    "    c = chi(params)\n",
    "    return c-epsilon"
   ]
  },
  {
   "cell_type": "code",
   "execution_count": null,
   "metadata": {},
   "outputs": [
    {
     "name": "stdout",
     "output_type": "stream",
     "text": [
      "Optimization terminated successfully    (Exit mode 0)\n",
      "            Current function value: 0.14389958645021964\n",
      "            Iterations: 76\n",
      "            Function evaluations: 848\n",
      "            Gradient evaluations: 76\n"
     ]
    }
   ],
   "source": [
    "initial_guess = np.concatenate([np.random.uniform(0, 2*np.pi-0.001,5),np.random.uniform(0, np.pi,5)])\n",
    "\n",
    "bounds = [(0, 2 * np.pi - 0.001)] * 5 +  [(0, np.pi)] * 5 \n",
    "\n",
    "# Perform optimization\n",
    "result = minimize(\n",
    "    chi,                 # Objective function\n",
    "    initial_guess,       # Initial  # Constraints\n",
    "    bounds=bounds,\n",
    "    method='SLSQP',\n",
    "    options={'disp': True},\n",
    "    tol = 1e-16\n",
    ")"
   ]
  }
 ],
 "metadata": {
  "kernelspec": {
   "display_name": "qc",
   "language": "python",
   "name": "python3"
  },
  "language_info": {
   "codemirror_mode": {
    "name": "ipython",
    "version": 3
   },
   "file_extension": ".py",
   "mimetype": "text/x-python",
   "name": "python",
   "nbconvert_exporter": "python",
   "pygments_lexer": "ipython3",
   "version": "3.10.12"
  }
 },
 "nbformat": 4,
 "nbformat_minor": 2
}
