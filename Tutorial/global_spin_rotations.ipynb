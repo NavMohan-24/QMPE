{
 "cells": [
  {
   "cell_type": "code",
   "execution_count": 1,
   "metadata": {},
   "outputs": [],
   "source": [
    "import qutip as qt\n",
    "from utils import *\n",
    "import numpy as np\n",
    "from IPython.display import Math,display\n",
    "from scipy.optimize import minimize\n",
    "import matplotlib.pyplot as plt\n",
    "from qutip import ket2dm"
   ]
  },
  {
   "cell_type": "code",
   "execution_count": 2,
   "metadata": {},
   "outputs": [],
   "source": [
    "\n",
    "# Pauli Operators\n",
    "sx = 0.5*qt.operators.sigmax()\n",
    "sy = 0.5*qt.operators.sigmay()\n",
    "sz = 0.5*qt.operators.sigmaz()\n",
    "I =  qt.operators.identity(2)"
   ]
  },
  {
   "cell_type": "code",
   "execution_count": 3,
   "metadata": {},
   "outputs": [],
   "source": [
    "def hamiltonian_ising(N,omega,delta,V):\n",
    "  sx = 0.5*qt.operators.sigmax()\n",
    "  #sy = 0.5*qt.operators.sigmay()\n",
    "  sz = 0.5*qt.operators.sigmaz()\n",
    "  I = qt.operators.identity(2)\n",
    "\n",
    "  ising_ham = qt.tensor([I*0]*N)\n",
    "  for i in range(N):\n",
    "    hz = qt.tensor([sz if j==i else I for j in range(N)])\n",
    "    hx = qt.tensor([sx if j==i else I for j in range(N)])\n",
    "    ising_ham += 1*delta*hz+omega*hx\n",
    "    for j in range(i + 1, N):\n",
    "        hzz = qt.tensor([sz if k == i or k == j else I for k in range(N)]) # assume obc\n",
    "        ising_ham += (V/abs(i-j))*hzz\n",
    "  \n",
    "  return(ising_ham)"
   ]
  },
  {
   "cell_type": "code",
   "execution_count": 56,
   "metadata": {},
   "outputs": [],
   "source": [
    "# Hamiltonian (of boltzmann machines)\n",
    "omega = 1\n",
    "N = 5\n",
    "delta = 0\n",
    "V =  7*omega\n",
    "hamiltonian=hamiltonian_ising(N,omega,delta,V)\n",
    "\n",
    "# jump operators \n",
    "sm = qt.operators.sigmam() # spin-lowering operators\n",
    "\n",
    "\n",
    "# collapse operator\n",
    "kappa = 1\n",
    "c_ops = [qt.tensor([sm if i==j  else I for j in range(N)]) for i in range(N)]\n",
    "c_ops = [np.sqrt(kappa/4) * c_op for c_op in c_ops]"
   ]
  },
  {
   "cell_type": "code",
   "execution_count": 57,
   "metadata": {},
   "outputs": [
    {
     "data": {
      "text/latex": [
       "Quantum object: dims = [[2, 2, 2, 2, 2], [2, 2, 2, 2, 2]], shape = (32, 32), type = oper, isherm = True $ \\\\ \\left(\\begin{matrix}11.229 & 0.500 & 0.500 & 0.0 & 0.500 & \\cdots & 0.0 & 0.0 & 0.0 & 0.0 & 0.0\\\\0.500 & 3.938 & 0.0 & 0.500 & 0.0 & \\cdots & 0.0 & 0.0 & 0.0 & 0.0 & 0.0\\\\0.500 & 0.0 & 1.312 & 0.500 & 0.0 & \\cdots & 0.0 & 0.0 & 0.0 & 0.0 & 0.0\\\\0.0 & 0.500 & 0.500 & 1.021 & 0.0 & \\cdots & 0.0 & 0.0 & 0.0 & 0.0 & 0.0\\\\0.500 & 0.0 & 0.0 & 0.0 & 0.729 & \\cdots & 0.0 & 0.0 & 0.0 & 0.0 & 0.0\\\\\\vdots & \\vdots & \\vdots & \\vdots & \\vdots & \\ddots & \\vdots & \\vdots & \\vdots & \\vdots & \\vdots\\\\0.0 & 0.0 & 0.0 & 0.0 & 0.0 & \\cdots & 0.729 & 0.0 & 0.0 & 0.0 & 0.500\\\\0.0 & 0.0 & 0.0 & 0.0 & 0.0 & \\cdots & 0.0 & 1.021 & 0.500 & 0.500 & 0.0\\\\0.0 & 0.0 & 0.0 & 0.0 & 0.0 & \\cdots & 0.0 & 0.500 & 1.312 & 0.0 & 0.500\\\\0.0 & 0.0 & 0.0 & 0.0 & 0.0 & \\cdots & 0.0 & 0.500 & 0.0 & 3.938 & 0.500\\\\0.0 & 0.0 & 0.0 & 0.0 & 0.0 & \\cdots & 0.500 & 0.0 & 0.500 & 0.500 & 11.229\\\\\\end{matrix}\\right)$"
      ],
      "text/plain": [
       "Quantum object: dims = [[2, 2, 2, 2, 2], [2, 2, 2, 2, 2]], shape = (32, 32), type = oper, isherm = True\n",
       "Qobj data =\n",
       "[[11.22916667  0.5         0.5        ...  0.          0.\n",
       "   0.        ]\n",
       " [ 0.5         3.9375      0.         ...  0.          0.\n",
       "   0.        ]\n",
       " [ 0.5         0.          1.3125     ...  0.          0.\n",
       "   0.        ]\n",
       " ...\n",
       " [ 0.          0.          0.         ...  1.3125      0.\n",
       "   0.5       ]\n",
       " [ 0.          0.          0.         ...  0.          3.9375\n",
       "   0.5       ]\n",
       " [ 0.          0.          0.         ...  0.5         0.5\n",
       "  11.22916667]]"
      ]
     },
     "execution_count": 57,
     "metadata": {},
     "output_type": "execute_result"
    }
   ],
   "source": [
    "hamiltonian"
   ]
  },
  {
   "cell_type": "code",
   "execution_count": 58,
   "metadata": {},
   "outputs": [],
   "source": [
    "# Linbladian\n",
    "L = qt.liouvillian(hamiltonian, c_ops)\n",
    "L_dag = qt.liouvillian(hamiltonian, c_ops).dag()"
   ]
  },
  {
   "cell_type": "code",
   "execution_count": 59,
   "metadata": {},
   "outputs": [
    {
     "name": "stdout",
     "output_type": "stream",
     "text": [
      "eigen values\n",
      " [-1.2415934 +0.j         -1.1106136 +7.27821515j -1.1106136 -7.27821515j\n",
      " ... -0.13142482-7.27758683j -0.13142482+7.27758683j\n",
      "  0.        +0.j        ]\n"
     ]
    }
   ],
   "source": [
    "# diagonalization using qutip\n",
    "val,mat = L_dag.eigenstates()\n",
    "tol = 1e-8\n",
    "real_vals = np.where(np.abs(val.imag)<tol,val.real,val)\n",
    "real_vals = np.where(np.abs(real_vals.real)<tol,real_vals.imag,real_vals)\n",
    "print('eigen values\\n', real_vals)\n",
    "\n",
    "l2indx = np.argsort(abs(real_vals))[1]\n",
    "l2 = mat[l2indx].full().reshape(2**N,2**N)"
   ]
  },
  {
   "cell_type": "raw",
   "metadata": {
    "vscode": {
     "languageId": "raw"
    }
   },
   "source": [
    "L2 = qt.Qobj(np.round(l2,3))\n",
    "alphas,phis = L2.eigenstates()\n",
    "\n",
    "print(alphas)"
   ]
  },
  {
   "cell_type": "code",
   "execution_count": 60,
   "metadata": {},
   "outputs": [
    {
     "data": {
      "text/latex": [
       "Quantum object: dims = [[2, 2, 2, 2, 2], [1]], shape = (32, 1), type = ket $ \\\\ \\left(\\begin{matrix}(-0.002+0.076j)\\\\(-0.175+0.215j)\\\\(0.196+0.014j)\\\\(-0.144+0.136j)\\\\(-0.006+0.183j)\\\\\\vdots\\\\(-0.071+0.227j)\\\\(-0.035+0.039j)\\\\(0.037-0.080j)\\\\(0.081+0.139j)\\\\(0.123-0.060j)\\\\\\end{matrix}\\right)$"
      ],
      "text/plain": [
       "Quantum object: dims = [[2, 2, 2, 2, 2], [1]], shape = (32, 1), type = ket\n",
       "Qobj data =\n",
       "[[-0.00170465+0.07550869j]\n",
       " [-0.17460337+0.21484629j]\n",
       " [ 0.1958695 +0.01418287j]\n",
       " [-0.14361771+0.13565332j]\n",
       " [-0.00635901+0.18258515j]\n",
       " [-0.01779381-0.17798927j]\n",
       " [ 0.18178661+0.0267768j ]\n",
       " [-0.20326362-0.07094786j]\n",
       " [ 0.11765071-0.10859979j]\n",
       " [ 0.14534946-0.15178879j]\n",
       " [-0.12771055-0.02540109j]\n",
       " [ 0.1395059 +0.04214017j]\n",
       " [ 0.0813233 -0.05966513j]\n",
       " [-0.03712268-0.1887014j ]\n",
       " [-0.0507444 +0.17388933j]\n",
       " [-0.00362397-0.00743169j]\n",
       " [-0.12634404-0.22575581j]\n",
       " [ 0.1495397 +0.10463791j]\n",
       " [ 0.05233809+0.02719233j]\n",
       " [-0.06997026-0.22814811j]\n",
       " [-0.1066348 +0.11037121j]\n",
       " [-0.01593688+0.22635615j]\n",
       " [-0.09339168-0.08873009j]\n",
       " [ 0.0570661 +0.04777061j]\n",
       " [-0.20129877+0.14755729j]\n",
       " [-0.21482843+0.05725542j]\n",
       " [ 0.00310848+0.15844167j]\n",
       " [-0.07142633+0.22686939j]\n",
       " [-0.03527929+0.03914037j]\n",
       " [ 0.03713936-0.08011883j]\n",
       " [ 0.08105001+0.13909981j]\n",
       " [ 0.12308728-0.06031687j]]"
      ]
     },
     "execution_count": 60,
     "metadata": {},
     "output_type": "execute_result"
    }
   ],
   "source": [
    "#init_state = qt.tensor([(1/np.sqrt(2))*(qt.ket('1')+qt.ket('1'))]*N)\n",
    "init_state =  qt.rand_ket(2**N)\n",
    "init_state.dims = [[2]*N,[1]]\n",
    "init_state"
   ]
  },
  {
   "cell_type": "code",
   "execution_count": 61,
   "metadata": {},
   "outputs": [
    {
     "data": {
      "text/latex": [
       "Quantum object: dims = [[2, 2, 2, 2, 2], [2, 2, 2, 2, 2]], shape = (32, 32), type = oper, isherm = True $ \\\\ \\left(\\begin{matrix}0.006 & (0.017-0.013j) & (7.370\\times10^{-04}+0.015j) & (0.010-0.011j) & (0.014-1.689\\times10^{-04}j) & \\cdots & (0.017-0.005j) & (0.003-0.003j) & (-0.006+0.003j) & (0.010+0.006j) & (-0.005+0.009j)\\\\(0.017+0.013j) & 0.077 & (-0.031+0.045j) & (0.054-0.007j) & (0.040+0.031j) & \\cdots & (0.061+0.024j) & (0.015-7.456\\times10^{-04}j) & (-0.024-0.006j) & (0.016+0.042j) & (-0.034+0.016j)\\\\(7.370\\times10^{-04}-0.015j) & (-0.031-0.045j) & 0.039 & (-0.026-0.029j) & (0.001-0.036j) & \\cdots & (-0.011-0.045j) & (-0.006-0.008j) & (0.006+0.016j) & (0.018-0.026j) & (0.023+0.014j)\\\\(0.010+0.011j) & (0.054+0.007j) & (-0.026+0.029j) & 0.039 & (0.026+0.025j) & \\cdots & (0.041+0.023j) & (0.010+8.355\\times10^{-04}j) & (-0.016-0.006j) & (0.007+0.031j) & (-0.026+0.008j)\\\\(0.014+1.689\\times10^{-04}j) & (0.040-0.031j) & (0.001+0.036j) & (0.026-0.025j) & 0.033 & \\cdots & (0.042-0.012j) & (0.007-0.006j) & (-0.015+0.006j) & (0.025+0.016j) & (-0.012+0.022j)\\\\\\vdots & \\vdots & \\vdots & \\vdots & \\vdots & \\ddots & \\vdots & \\vdots & \\vdots & \\vdots & \\vdots\\\\(0.017+0.005j) & (0.061-0.024j) & (-0.011+0.045j) & (0.041-0.023j) & (0.042+0.012j) & \\cdots & 0.057 & (0.011-0.005j) & (-0.021+0.003j) & (0.026+0.028j) & (-0.022+0.024j)\\\\(0.003+0.003j) & (0.015+7.456\\times10^{-04}j) & (-0.006+0.008j) & (0.010-8.355\\times10^{-04}j) & (0.007+0.006j) & \\cdots & (0.011+0.005j) & 0.003 & (-0.004-0.001j) & (0.003+0.008j) & (-0.007+0.003j)\\\\(-0.006-0.003j) & (-0.024+0.006j) & (0.006-0.016j) & (-0.016+0.006j) & (-0.015-0.006j) & \\cdots & (-0.021-0.003j) & (-0.004+0.001j) & 0.008 & (-0.008-0.012j) & (0.009-0.008j)\\\\(0.010-0.006j) & (0.016-0.042j) & (0.018+0.026j) & (0.007-0.031j) & (0.025-0.016j) & \\cdots & (0.026-0.028j) & (0.003-0.008j) & (-0.008+0.012j) & 0.026 & (0.002+0.022j)\\\\(-0.005-0.009j) & (-0.034-0.016j) & (0.023-0.014j) & (-0.026-0.008j) & (-0.012-0.022j) & \\cdots & (-0.022-0.024j) & (-0.007-0.003j) & (0.009+0.008j) & (0.002-0.022j) & 0.019\\\\\\end{matrix}\\right)$"
      ],
      "text/plain": [
       "Quantum object: dims = [[2, 2, 2, 2, 2], [2, 2, 2, 2, 2]], shape = (32, 32), type = oper, isherm = True\n",
       "Qobj data =\n",
       "[[ 0.00570447+0.j          0.0165204 -0.01281783j  0.00073704+0.01481403j\n",
       "  ... -0.00611298+0.00266777j  0.01036508+0.0063571j\n",
       "  -0.00476427+0.00919134j]\n",
       " [ 0.0165204 +0.01281783j  0.07664526+0.j         -0.03115234+0.04455821j\n",
       "  ... -0.02369789-0.00600976j  0.01573347+0.04170059j\n",
       "  -0.03445031+0.01591332j]\n",
       " [ 0.00073704-0.01481403j -0.03115234-0.04455821j  0.03856601+0.j\n",
       "  ...  0.00613815+0.01621958j  0.01784806-0.02609589j\n",
       "   0.02325358+0.01355997j]\n",
       " ...\n",
       " [-0.00611298-0.00266777j -0.02369789+0.00600976j  0.00613815-0.01621958j\n",
       "  ...  0.00779836+0.j         -0.00813437-0.01165971j\n",
       "   0.0094039 -0.00762148j]\n",
       " [ 0.01036508-0.0063571j   0.01573347-0.04170059j  0.01784806+0.02609589j\n",
       "  ... -0.00813437+0.01165971j  0.02591786+0.j\n",
       "   0.00158616+0.0220101j ]\n",
       " [-0.00476427-0.00919134j -0.03445031-0.01591332j  0.02325358-0.01355997j\n",
       "  ...  0.0094039 +0.00762148j  0.00158616-0.0220101j\n",
       "   0.0187886 +0.j        ]]"
      ]
     },
     "execution_count": 61,
     "metadata": {},
     "output_type": "execute_result"
    }
   ],
   "source": [
    "rho_0 = ket2dm(init_state)\n",
    "rho_0"
   ]
  },
  {
   "cell_type": "code",
   "execution_count": 62,
   "metadata": {},
   "outputs": [],
   "source": [
    "l2mat = qt.Qobj(l2)\n",
    "l2mat.dims = rho_0.dims"
   ]
  },
  {
   "cell_type": "code",
   "execution_count": 63,
   "metadata": {},
   "outputs": [
    {
     "data": {
      "text/plain": [
       "0.17611306239421678"
      ]
     },
     "execution_count": 63,
     "metadata": {},
     "output_type": "execute_result"
    }
   ],
   "source": [
    "temp = l2mat*rho_0\n",
    "abs(temp.tr())"
   ]
  },
  {
   "cell_type": "code",
   "execution_count": 80,
   "metadata": {},
   "outputs": [],
   "source": [
    "def Us(theta_phi):\n",
    "    phi,theta = theta_phi\n",
    "    u = ((-1j/2)*phi*sz).expm()*((-1j/2)*theta*sy).expm()\n",
    "    U = qt.tensor([u]*N)\n",
    "    return U\n",
    "\n",
    "\n",
    "def chi(theta_phi):\n",
    "    # theta,phi = theta_phi\n",
    "    # u = ((1j/2)*phi*sz).expm()*((1j/2)*theta*sy).expm()\n",
    "    # Us = qt.tensor([u]*N)\n",
    "    U = Us(theta_phi=theta_phi)\n",
    "    Udag = U.dag()\n",
    "    # l2mat.dims = [[2]*N,[2]*N]\n",
    "    # rho_0.dims = [[2]*N,[2]*N]\n",
    "    c = abs((l2mat*U*rho_0*Udag).tr())\n",
    "    return c\n",
    "\n",
    "epsilon = 1e-4\n",
    "\n",
    "def cost(theta_phi):\n",
    "    c = chi(theta_phi)\n",
    "    return c-epsilon"
   ]
  },
  {
   "cell_type": "code",
   "execution_count": 81,
   "metadata": {},
   "outputs": [],
   "source": [
    "# Initial guess for theta and phi\n",
    "initial_guess = [np.random.uniform(0, 2*np.pi-0.001),np.random.uniform(0, np.pi)]  # Example values\n",
    "\n",
    "bounds = [(0, np.pi), (0, 2 * np.pi-0.001)] \n",
    "\n",
    "# Define constraints for scipy.optimize\n",
    "constraints = {'type': 'ineq', 'fun': cost}"
   ]
  },
  {
   "cell_type": "code",
   "execution_count": 82,
   "metadata": {},
   "outputs": [
    {
     "name": "stdout",
     "output_type": "stream",
     "text": [
      "Optimization terminated successfully    (Exit mode 0)\n",
      "            Current function value: 0.17564657031846256\n",
      "            Iterations: 20\n",
      "            Function evaluations: 68\n",
      "            Gradient evaluations: 20\n"
     ]
    }
   ],
   "source": [
    "# Perform optimization\n",
    "result = minimize(\n",
    "    chi,                 # Objective function\n",
    "    initial_guess,       # Initial guess\n",
    "    constraints=constraints,  # Constraints\n",
    "    bounds=bounds,\n",
    "    method='SLSQP',\n",
    "    options={'disp': True},\n",
    "    tol = 1e-16\n",
    ")"
   ]
  },
  {
   "cell_type": "code",
   "execution_count": null,
   "metadata": {},
   "outputs": [],
   "source": []
  },
  {
   "cell_type": "code",
   "execution_count": 106,
   "metadata": {},
   "outputs": [],
   "source": [
    "def u(phi,theta):\n",
    "    u = ((1j/2)*phi*sz).expm()*((1j/2)*theta*sy).expm()\n",
    "    return(u)\n",
    "\n",
    "def Us(params):\n",
    "    phi,theta = params[:N], params[N:]\n",
    "    gates = []\n",
    "    for i in range(N):\n",
    "        gates.append(u(phi[i],theta[i]))\n",
    "    U = qt.tensor(gates)\n",
    "    return U\n",
    "\n",
    "\n",
    "def chi(params):\n",
    "    U = Us(params)\n",
    "    Udag = U.dag()\n",
    "    c = abs((l2mat*U*rho_0*Udag).tr())\n",
    "    return c\n",
    "\n",
    "epsilon = 1e-4\n",
    "def cost(params):\n",
    "    c = chi(params)\n",
    "    return c-epsilon"
   ]
  },
  {
   "cell_type": "code",
   "execution_count": 107,
   "metadata": {},
   "outputs": [
    {
     "name": "stdout",
     "output_type": "stream",
     "text": [
      "Optimization terminated successfully    (Exit mode 0)\n",
      "            Current function value: 0.13488505027651274\n",
      "            Iterations: 77\n",
      "            Function evaluations: 858\n",
      "            Gradient evaluations: 77\n"
     ]
    }
   ],
   "source": [
    "initial_guess = np.concatenate([np.random.uniform(0, 2*np.pi-0.001,5),np.random.uniform(0, np.pi,5)])\n",
    "\n",
    "bounds = [(0, 2 * np.pi - 0.001)] * 5 +  [(0, np.pi)] * 5 \n",
    "\n",
    "# Perform optimization\n",
    "result = minimize(\n",
    "    chi,                 # Objective function\n",
    "    initial_guess,       # Initial  # Constraints\n",
    "    bounds=bounds,\n",
    "    method='SLSQP',\n",
    "    options={'disp': True},\n",
    "    tol = 1e-16\n",
    ")"
   ]
  },
  {
   "cell_type": "code",
   "execution_count": 109,
   "metadata": {},
   "outputs": [],
   "source": [
    "def u(phi,theta,lamda):\n",
    "    u = ((1j/2)*phi*sz).expm()*((1j/2)*theta*sy).expm()*((1j/2)*lamda*sz).expm()\n",
    "    return(u)\n",
    "\n",
    "def Us(params):\n",
    "    phi,theta,lamda = params[:N], params[N:2*N],params[2*N:3*N]\n",
    "    gates = []\n",
    "    for i in range(N):\n",
    "        gates.append(u(phi[i],theta[i],lamda[i]))\n",
    "    U = qt.tensor(gates)\n",
    "    return U\n",
    "\n",
    "\n",
    "def chi(params):\n",
    "    U = Us(params)\n",
    "    Udag = U.dag()\n",
    "    c = abs((l2mat*U*rho_0*Udag).tr())\n",
    "    return c\n",
    "\n",
    "epsilon = 1e-4\n",
    "def cost(params):\n",
    "    c = chi(params)\n",
    "    return c-epsilon"
   ]
  },
  {
   "cell_type": "code",
   "execution_count": 114,
   "metadata": {},
   "outputs": [
    {
     "name": "stdout",
     "output_type": "stream",
     "text": [
      "Iteration limit reached    (Exit mode 9)\n",
      "            Current function value: 0.10814527564636446\n",
      "            Iterations: 100\n",
      "            Function evaluations: 1600\n",
      "            Gradient evaluations: 100\n"
     ]
    }
   ],
   "source": [
    "initial_guess = np.concatenate([np.random.uniform(0, np.pi,5), np.random.uniform(0, 2*np.pi-0.001,5),np.random.uniform(0, np.pi,5)])\n",
    "\n",
    "bounds = [(0, np.pi)] * 5 + [(0, 2 * np.pi - 0.001)] * 5 + [(0, 2*np.pi)] * 5\n",
    "\n",
    "# Perform optimization\n",
    "result = minimize(\n",
    "    chi,                 # Objective function\n",
    "    initial_guess,       # Initial  # Constraints\n",
    "    bounds=bounds,\n",
    "    method='SLSQP',\n",
    "    options={'disp': True},\n",
    "    tol = 1e-16\n",
    ")"
   ]
  },
  {
   "cell_type": "code",
   "execution_count": 115,
   "metadata": {},
   "outputs": [
    {
     "data": {
      "text/plain": [
       "array([3.14159265e+00, 3.14159265e+00, 2.78868374e+00, 2.63767890e+00,\n",
       "       2.27574406e+00, 2.11164689e-16, 3.02476577e+00, 6.28218531e+00,\n",
       "       4.11264384e+00, 6.66270935e-02, 3.42279189e+00, 1.85535283e+00,\n",
       "       2.81239233e-16, 5.79794899e+00, 6.55842038e-01])"
      ]
     },
     "execution_count": 115,
     "metadata": {},
     "output_type": "execute_result"
    }
   ],
   "source": [
    "result.x"
   ]
  },
  {
   "cell_type": "code",
   "execution_count": 116,
   "metadata": {},
   "outputs": [
    {
     "data": {
      "text/plain": [
       "0.10814527564636446"
      ]
     },
     "execution_count": 116,
     "metadata": {},
     "output_type": "execute_result"
    }
   ],
   "source": [
    "result.fun"
   ]
  },
  {
   "cell_type": "code",
   "execution_count": 117,
   "metadata": {},
   "outputs": [],
   "source": [
    "rotation_unitary = Us(result.x)"
   ]
  },
  {
   "cell_type": "code",
   "execution_count": 118,
   "metadata": {},
   "outputs": [
    {
     "data": {
      "text/latex": [
       "Quantum object: dims = [[2, 2, 2, 2, 2], [1]], shape = (32, 1), type = ket $ \\\\ \\left(\\begin{matrix}(-0.131-0.130j)\\\\(-0.005-0.053j)\\\\(-0.158+0.022j)\\\\(-0.061-0.271j)\\\\(0.114-0.021j)\\\\\\vdots\\\\(0.239+0.077j)\\\\(0.019-0.117j)\\\\(0.271-0.073j)\\\\(0.334+0.050j)\\\\(0.205-0.144j)\\\\\\end{matrix}\\right)$"
      ],
      "text/plain": [
       "Quantum object: dims = [[2, 2, 2, 2, 2], [1]], shape = (32, 1), type = ket\n",
       "Qobj data =\n",
       "[[-0.13136818-0.12964826j]\n",
       " [-0.00546003-0.05342071j]\n",
       " [-0.15833699+0.02190751j]\n",
       " [-0.06082396-0.27087273j]\n",
       " [ 0.11441265-0.02085684j]\n",
       " [-0.03721979-0.03750477j]\n",
       " [-0.01436498-0.00830301j]\n",
       " [ 0.06939679-0.13169547j]\n",
       " [-0.15534485-0.07927105j]\n",
       " [ 0.14857333+0.07218666j]\n",
       " [ 0.02348779-0.13170467j]\n",
       " [ 0.06570489+0.07796034j]\n",
       " [ 0.19260122-0.02959978j]\n",
       " [-0.11393216+0.10103464j]\n",
       " [ 0.1879433 -0.0178702j ]\n",
       " [ 0.34425297-0.11763033j]\n",
       " [ 0.08319545-0.09566994j]\n",
       " [-0.08284709-0.08963492j]\n",
       " [ 0.06857035+0.05182049j]\n",
       " [ 0.02279718-0.06912306j]\n",
       " [-0.11254716+0.11739039j]\n",
       " [ 0.05230909-0.12341253j]\n",
       " [-0.0505086 +0.0490954j ]\n",
       " [ 0.18621778+0.02807422j]\n",
       " [ 0.11894057-0.09269299j]\n",
       " [-0.01959583+0.00366911j]\n",
       " [-0.13787587-0.06032267j]\n",
       " [ 0.23901489+0.07669786j]\n",
       " [ 0.01920765-0.1169504j ]\n",
       " [ 0.27073728-0.07258909j]\n",
       " [ 0.33381854+0.04990364j]\n",
       " [ 0.20463401-0.14430921j]]"
      ]
     },
     "execution_count": 118,
     "metadata": {},
     "output_type": "execute_result"
    }
   ],
   "source": [
    "mpe_state = rotation_unitary*init_state\n",
    "mpe_state"
   ]
  },
  {
   "cell_type": "code",
   "execution_count": 119,
   "metadata": {},
   "outputs": [
    {
     "data": {
      "text/plain": [
       "0.10814527564636446"
      ]
     },
     "execution_count": 119,
     "metadata": {},
     "output_type": "execute_result"
    }
   ],
   "source": [
    "temp = l2mat*rotation_unitary*rho_0*rotation_unitary.dag()\n",
    "abs(temp.tr())"
   ]
  },
  {
   "cell_type": "code",
   "execution_count": 122,
   "metadata": {},
   "outputs": [],
   "source": [
    "# solving master equation\n",
    "final_state = qt.steadystate(hamiltonian,c_ops) # steady state solution \n",
    "\n",
    "tlist = np.linspace(0, 50,1000)\n",
    "medata = qt.mesolve(hamiltonian, init_state, tlist, c_ops, []) # initial state  = |0>\n",
    "qmpedata = qt.mesolve(hamiltonian, mpe_state, tlist, c_ops, []) # Mpemba unitary rotated state"
   ]
  },
  {
   "cell_type": "code",
   "execution_count": 123,
   "metadata": {},
   "outputs": [
    {
     "name": "stderr",
     "output_type": "stream",
     "text": [
      "c:\\Users\\navan\\anaconda3\\envs\\qc\\lib\\site-packages\\matplotlib\\cbook.py:1762: ComplexWarning: Casting complex values to real discards the imaginary part\n",
      "  return math.isfinite(val)\n",
      "c:\\Users\\navan\\anaconda3\\envs\\qc\\lib\\site-packages\\matplotlib\\cbook.py:1398: ComplexWarning: Casting complex values to real discards the imaginary part\n",
      "  return np.asarray(x, float)\n"
     ]
    },
    {
     "data": {
      "image/png": "[encoded data removed]",
      "text/plain": [
       "<Figure size 640x480 with 1 Axes>"
      ]
     },
     "metadata": {},
     "output_type": "display_data"
    }
   ],
   "source": [
    "# calculation of Hilbert Distances\n",
    "\n",
    "hilbert_distance = []\n",
    "qmpe_dist = []\n",
    "\n",
    "#hs_max = np.sqrt(2 *(1-1/(2**N)))\n",
    "\n",
    "for state in medata.states:\n",
    "\n",
    "  dis = (np.trace((state-final_state)**2))**(1/2)\n",
    "  #dis=qt.hilbert_dist(state,final_state)\n",
    "  hilbert_distance.append(dis)\n",
    "\n",
    "for state in qmpedata.states:\n",
    "  #dis = qt.hilbert_dist(state,final_state)\n",
    "  dis = (np.trace((state-final_state)**2))**(1/2)\n",
    "  qmpe_dist.append(dis)\n",
    "\n",
    "plt.yscale('log')\n",
    "plt.plot(tlist,hilbert_distance,label=r'$\\rho_0$')\n",
    "plt.plot(tlist,qmpe_dist,label=r'$U\\rho_0U^{\\dagger}$')\n",
    "plt.xlabel(f'$\\Omega t$')\n",
    "plt.ylabel('hilbert distance')\n",
    "plt.legend()\n",
    "plt.show()"
   ]
  },
  {
   "cell_type": "code",
   "execution_count": null,
   "metadata": {},
   "outputs": [],
   "source": []
  },
  {
   "cell_type": "code",
   "execution_count": null,
   "metadata": {},
   "outputs": [],
   "source": []
  }
 ],
 "metadata": {
  "kernelspec": {
   "display_name": "qc",
   "language": "python",
   "name": "python3"
  },
  "language_info": {
   "codemirror_mode": {
    "name": "ipython",
    "version": 3
   },
   "file_extension": ".py",
   "mimetype": "text/x-python",
   "name": "python",
   "nbconvert_exporter": "python",
   "pygments_lexer": "ipython3",
   "version": "3.10.12"
  }
 },
 "nbformat": 4,
 "nbformat_minor": 2
}
