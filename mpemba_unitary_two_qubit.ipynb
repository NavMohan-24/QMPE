{
 "cells": [
  {
   "cell_type": "code",
   "execution_count": 1,
   "metadata": {
    "id": "_7x1K4Nz1JIH"
   },
   "outputs": [],
   "source": [
    "import numpy as np\n",
    "import matplotlib.pyplot as plt\n",
    "import qutip as qt\n",
    "import scipy as sp"
   ]
  },
  {
   "cell_type": "code",
   "execution_count": 13,
   "metadata": {
    "id": "_AgdVluPNsxl"
   },
   "outputs": [],
   "source": [
    "sx = 0.5*qt.operators.sigmax()\n",
    "sy = 0.5*qt.operators.sigmay()\n",
    "sz = 0.5*qt.operators.sigmaz()\n",
    "sm = qt.operators.sigmam()\n",
    "I =  qt.operators.identity(2)"
   ]
  },
  {
   "cell_type": "code",
   "execution_count": 9,
   "metadata": {
    "id": "R-UnrIm3w-BR"
   },
   "outputs": [],
   "source": [
    "# def hamiltonian_ising(N,omega,delta,V):\n",
    "#   sx = 0.5*qt.operators.sigmax()\n",
    "#   sy = qt.operators.sigmay()\n",
    "#   sz = qt.operators.sigmaz()\n",
    "#   I = qt.operators.identity(2)\n",
    "\n",
    "#   ising_ham = qt.tensor([I*0]*N)\n",
    "#   for i in range(N):\n",
    "#     hz = qt.tensor([sz if j==i else I for j in range(N)])\n",
    "#     hx = qt.tensor([sx if j==i else I for j in range(N)])\n",
    "#     ising_ham += -1*delta*hz+omega*hx\n",
    "#     for j in range(i + 1, N):\n",
    "#         # Interaction term between qubit i and qubit j\n",
    "#         #print(i,j)\n",
    "#         hzz = qt.tensor([sz if k == i or k == j else I for k in range(N)]) # assume obc\n",
    "#         ising_ham += (V/N)*hzz\n",
    "  \n",
    "#   #print(hz,hx,hzz)\n",
    "  \n",
    "#   return(ising_ham)\n",
    "\n",
    "\n",
    "def hamiltonian_ising(N,omega,delta,V):\n",
    "  sx = 0.5*qt.operators.sigmax()\n",
    "  sy = 0.5*qt.operators.sigmay()\n",
    "  sz = 0.5*qt.operators.sigmaz()\n",
    "  I = qt.operators.identity(2)\n",
    "\n",
    "  ising_ham = qt.tensor([I*0]*N)\n",
    "  for i in range(N):\n",
    "    hz = qt.tensor([sz if j==i else I for j in range(N)])\n",
    "    hx = qt.tensor([sx if j==i else I for j in range(N)])\n",
    "    ising_ham += -1*delta*hz+omega*hx\n",
    "    for j in range(i + 1, N):\n",
    "        # Interaction term between qubit i and qubit j\n",
    "        #print(i,j)\n",
    "        hzz = qt.tensor([sz if k == i or k == j else I for k in range(N)]) # assume obc\n",
    "        ising_ham += (V/N)*hzz\n",
    "  \n",
    "  #print(hz,hx,hzz)\n",
    "  \n",
    "  return(ising_ham)"
   ]
  },
  {
   "cell_type": "code",
   "execution_count": 10,
   "metadata": {
    "id": "5FufKJvLywue"
   },
   "outputs": [],
   "source": [
    "omega = 1\n",
    "N = 2\n",
    "delta = 1\n",
    "V = 3\n",
    "hamiltonian=hamiltonian_ising(N,omega,delta,V)"
   ]
  },
  {
   "cell_type": "code",
   "execution_count": 11,
   "metadata": {},
   "outputs": [
    {
     "data": {
      "text/latex": [
       "Quantum object: dims = [[2, 2], [2, 2]], shape = (4, 4), type = oper, isherm = True $ \\\\ \\left(\\begin{matrix}-0.625 & 0.500 & 0.500 & 0.0\\\\0.500 & -0.375 & 0.0 & 0.500\\\\0.500 & 0.0 & -0.375 & 0.500\\\\0.0 & 0.500 & 0.500 & 1.375\\\\\\end{matrix}\\right)$"
      ],
      "text/plain": [
       "Quantum object: dims = [[2, 2], [2, 2]], shape = (4, 4), type = oper, isherm = True\n",
       "Qobj data =\n",
       "[[-0.625  0.5    0.5    0.   ]\n",
       " [ 0.5   -0.375  0.     0.5  ]\n",
       " [ 0.5    0.    -0.375  0.5  ]\n",
       " [ 0.     0.5    0.5    1.375]]"
      ]
     },
     "execution_count": 11,
     "metadata": {},
     "output_type": "execute_result"
    }
   ],
   "source": [
    "hamiltonian"
   ]
  },
  {
   "cell_type": "code",
   "execution_count": 16,
   "metadata": {},
   "outputs": [
    {
     "data": {
      "text/latex": [
       "Quantum object: dims = [[2, 2], [2, 2]], shape = (4, 4), type = oper, isherm = True $ \\\\ \\left(\\begin{matrix}-0.625 & 0.500 & 0.500 & 0.0\\\\0.500 & -0.375 & 0.0 & 0.500\\\\0.500 & 0.0 & -0.375 & 0.500\\\\0.0 & 0.500 & 0.500 & 1.375\\\\\\end{matrix}\\right)$"
      ],
      "text/plain": [
       "Quantum object: dims = [[2, 2], [2, 2]], shape = (4, 4), type = oper, isherm = True\n",
       "Qobj data =\n",
       "[[-0.625  0.5    0.5    0.   ]\n",
       " [ 0.5   -0.375  0.     0.5  ]\n",
       " [ 0.5    0.    -0.375  0.5  ]\n",
       " [ 0.     0.5    0.5    1.375]]"
      ]
     },
     "execution_count": 16,
     "metadata": {},
     "output_type": "execute_result"
    }
   ],
   "source": [
    "### checking 2 qubit hamiltonian\n",
    "qt.tensor(sx,I)+qt.tensor(I,sx)-(qt.tensor(sz,I)+qt.tensor(I,sz))+(3/2)*qt.tensor(sz,sz)"
   ]
  },
  {
   "cell_type": "code",
   "execution_count": 21,
   "metadata": {
    "id": "yqR1uJK43Lw1"
   },
   "outputs": [],
   "source": [
    "kappa = 1\n",
    "c_ops = [qt.tensor([sm if i==j  else I for j in range(N)]) for i in range(N)]\n",
    "c_ops = [np.sqrt(kappa) * c_op for c_op in c_ops]\n",
    "L = qt.liouvillian(hamiltonian, c_ops)\n",
    "L_dag = qt.liouvillian(hamiltonian, c_ops).dag()"
   ]
  },
  {
   "cell_type": "code",
   "execution_count": 22,
   "metadata": {},
   "outputs": [
    {
     "data": {
      "text/latex": [
       "Quantum object: dims = [[[2, 2], [2, 2]], [[2, 2], [2, 2]]], shape = (16, 16), type = super, isherm = False $ \\\\ \\left(\\begin{matrix}-2.0 & -0.500j & -0.500j & 0.0 & 0.500j & \\cdots & 0.0 & 0.0 & 0.0 & 0.0 & 0.0\\\\-0.500j & (-1.500-0.250j) & 0.0 & -0.500j & 0.0 & \\cdots & 0.0 & 0.0 & 0.0 & 0.0 & 0.0\\\\-0.500j & 0.0 & (-1.500-0.250j) & -0.500j & 0.0 & \\cdots & 0.0 & 0.0 & 0.0 & 0.0 & 0.0\\\\0.0 & -0.500j & -0.500j & (-1.0-2.0j) & 0.0 & \\cdots & 0.500j & 0.0 & 0.0 & 0.0 & 0.0\\\\0.500j & 0.0 & 0.0 & 0.0 & (-1.500+0.250j) & \\cdots & 0.0 & 0.500j & 0.0 & 0.0 & 0.0\\\\\\vdots & \\vdots & \\vdots & \\vdots & \\vdots & \\ddots & \\vdots & \\vdots & \\vdots & \\vdots & \\vdots\\\\0.0 & 1.0 & 0.0 & 0.500j & 0.0 & \\cdots & (-0.500-1.750j) & 0.0 & 0.0 & 0.0 & 0.500j\\\\0.0 & 0.0 & 0.0 & 0.0 & 0.500j & \\cdots & 0.0 & (-1.0+2.0j) & -0.500j & -0.500j & 0.0\\\\0.0 & 0.0 & 0.0 & 0.0 & 0.0 & \\cdots & 0.0 & -0.500j & (-0.500+1.750j) & 0.0 & -0.500j\\\\0.0 & 0.0 & 0.0 & 0.0 & 1.0 & \\cdots & 0.0 & -0.500j & 0.0 & (-0.500+1.750j) & -0.500j\\\\0.0 & 0.0 & 0.0 & 0.0 & 0.0 & \\cdots & 0.500j & 0.0 & -0.500j & -0.500j & 0.0\\\\\\end{matrix}\\right)$"
      ],
      "text/plain": [
       "Quantum object: dims = [[[2, 2], [2, 2]], [[2, 2], [2, 2]]], shape = (16, 16), type = super, isherm = False\n",
       "Qobj data =\n",
       "[[-2. +0.j    0. -0.5j   0. -0.5j   0. +0.j    0. +0.5j   0. +0.j\n",
       "   0. +0.j    0. +0.j    0. +0.5j   0. +0.j    0. +0.j    0. +0.j\n",
       "   0. +0.j    0. +0.j    0. +0.j    0. +0.j  ]\n",
       " [ 0. -0.5j  -1.5-0.25j  0. +0.j    0. -0.5j   0. +0.j    0. +0.5j\n",
       "   0. +0.j    0. +0.j    0. +0.j    0. +0.5j   0. +0.j    0. +0.j\n",
       "   0. +0.j    0. +0.j    0. +0.j    0. +0.j  ]\n",
       " [ 0. -0.5j   0. +0.j   -1.5-0.25j  0. -0.5j   0. +0.j    0. +0.j\n",
       "   0. +0.5j   0. +0.j    0. +0.j    0. +0.j    0. +0.5j   0. +0.j\n",
       "   0. +0.j    0. +0.j    0. +0.j    0. +0.j  ]\n",
       " [ 0. +0.j    0. -0.5j   0. -0.5j  -1. -2.j    0. +0.j    0. +0.j\n",
       "   0. +0.j    0. +0.5j   0. +0.j    0. +0.j    0. +0.j    0. +0.5j\n",
       "   0. +0.j    0. +0.j    0. +0.j    0. +0.j  ]\n",
       " [ 0. +0.5j   0. +0.j    0. +0.j    0. +0.j   -1.5+0.25j  0. -0.5j\n",
       "   0. -0.5j   0. +0.j    0. +0.j    0. +0.j    0. +0.j    0. +0.j\n",
       "   0. +0.5j   0. +0.j    0. +0.j    0. +0.j  ]\n",
       " [ 1. +0.j    0. +0.5j   0. +0.j    0. +0.j    0. -0.5j  -1. +0.j\n",
       "   0. +0.j    0. -0.5j   0. +0.j    0. +0.j    0. +0.j    0. +0.j\n",
       "   0. +0.j    0. +0.5j   0. +0.j    0. +0.j  ]\n",
       " [ 0. +0.j    0. +0.j    0. +0.5j   0. +0.j    0. -0.5j   0. +0.j\n",
       "  -1. +0.j    0. -0.5j   0. +0.j    0. +0.j    0. +0.j    0. +0.j\n",
       "   0. +0.j    0. +0.j    0. +0.5j   0. +0.j  ]\n",
       " [ 0. +0.j    0. +0.j    1. +0.j    0. +0.5j   0. +0.j    0. -0.5j\n",
       "   0. -0.5j  -0.5-1.75j  0. +0.j    0. +0.j    0. +0.j    0. +0.j\n",
       "   0. +0.j    0. +0.j    0. +0.j    0. +0.5j ]\n",
       " [ 0. +0.5j   0. +0.j    0. +0.j    0. +0.j    0. +0.j    0. +0.j\n",
       "   0. +0.j    0. +0.j   -1.5+0.25j  0. -0.5j   0. -0.5j   0. +0.j\n",
       "   0. +0.5j   0. +0.j    0. +0.j    0. +0.j  ]\n",
       " [ 0. +0.j    0. +0.5j   0. +0.j    0. +0.j    0. +0.j    0. +0.j\n",
       "   0. +0.j    0. +0.j    0. -0.5j  -1. +0.j    0. +0.j    0. -0.5j\n",
       "   0. +0.j    0. +0.5j   0. +0.j    0. +0.j  ]\n",
       " [ 1. +0.j    0. +0.j    0. +0.5j   0. +0.j    0. +0.j    0. +0.j\n",
       "   0. +0.j    0. +0.j    0. -0.5j   0. +0.j   -1. +0.j    0. -0.5j\n",
       "   0. +0.j    0. +0.j    0. +0.5j   0. +0.j  ]\n",
       " [ 0. +0.j    1. +0.j    0. +0.j    0. +0.5j   0. +0.j    0. +0.j\n",
       "   0. +0.j    0. +0.j    0. +0.j    0. -0.5j   0. -0.5j  -0.5-1.75j\n",
       "   0. +0.j    0. +0.j    0. +0.j    0. +0.5j ]\n",
       " [ 0. +0.j    0. +0.j    0. +0.j    0. +0.j    0. +0.5j   0. +0.j\n",
       "   0. +0.j    0. +0.j    0. +0.5j   0. +0.j    0. +0.j    0. +0.j\n",
       "  -1. +2.j    0. -0.5j   0. -0.5j   0. +0.j  ]\n",
       " [ 0. +0.j    0. +0.j    0. +0.j    0. +0.j    0. +0.j    0. +0.5j\n",
       "   0. +0.j    0. +0.j    1. +0.j    0. +0.5j   0. +0.j    0. +0.j\n",
       "   0. -0.5j  -0.5+1.75j  0. +0.j    0. -0.5j ]\n",
       " [ 0. +0.j    0. +0.j    0. +0.j    0. +0.j    1. +0.j    0. +0.j\n",
       "   0. +0.5j   0. +0.j    0. +0.j    0. +0.j    0. +0.5j   0. +0.j\n",
       "   0. -0.5j   0. +0.j   -0.5+1.75j  0. -0.5j ]\n",
       " [ 0. +0.j    0. +0.j    0. +0.j    0. +0.j    0. +0.j    1. +0.j\n",
       "   0. +0.j    0. +0.5j   0. +0.j    0. +0.j    1. +0.j    0. +0.5j\n",
       "   0. +0.j    0. -0.5j   0. -0.5j   0. +0.j  ]]"
      ]
     },
     "execution_count": 22,
     "metadata": {},
     "output_type": "execute_result"
    }
   ],
   "source": [
    "L"
   ]
  },
  {
   "cell_type": "code",
   "execution_count": 24,
   "metadata": {},
   "outputs": [],
   "source": [
    "eigvals,eigmats = L.eigenstates()"
   ]
  },
  {
   "cell_type": "code",
   "execution_count": 27,
   "metadata": {},
   "outputs": [
    {
     "data": {
      "text/plain": [
       "array([-1.57399404e+00+1.32326328e+00j, -1.57399404e+00-1.32326328e+00j,\n",
       "       -1.50049854e+00+9.45111551e-16j, -1.24888595e+00-9.16394509e-01j,\n",
       "       -1.24888595e+00+9.16394509e-01j, -1.18347982e+00+2.20752899e-01j,\n",
       "       -1.18347982e+00-2.20752899e-01j, -1.17891216e+00+7.24831116e-16j,\n",
       "       -1.04150755e+00+2.86857516e+00j, -1.04150755e+00-2.86857516e+00j,\n",
       "       -7.73323335e-01+3.01198657e-16j, -6.58131392e-01+1.66140372e+00j,\n",
       "       -6.58131392e-01-1.66140372e+00j, -5.67634222e-01-2.00475397e+00j,\n",
       "       -5.67634222e-01+2.00475397e+00j,  1.24866554e-15+3.03839937e-16j])"
      ]
     },
     "execution_count": 27,
     "metadata": {},
     "output_type": "execute_result"
    }
   ],
   "source": [
    "eigvals"
   ]
  },
  {
   "cell_type": "code",
   "execution_count": 26,
   "metadata": {},
   "outputs": [
    {
     "data": {
      "text/plain": [
       "array([15, 10,  7,  6,  5,  2,  4,  3, 11, 12,  1,  0, 14, 13,  9,  8],\n",
       "      dtype=int64)"
      ]
     },
     "execution_count": 26,
     "metadata": {},
     "output_type": "execute_result"
    }
   ],
   "source": [
    "idx = np.argsort(abs(eigvals))\n",
    "idx"
   ]
  },
  {
   "cell_type": "code",
   "execution_count": 67,
   "metadata": {},
   "outputs": [
    {
     "data": {
      "text/plain": [
       "(1.0148740878189795+0j)"
      ]
     },
     "execution_count": 67,
     "metadata": {},
     "output_type": "execute_result"
    }
   ],
   "source": [
    "rho_00 = eigmats[15].full().reshape(2**N,2**N)\n",
    "np.trace(rho_00)"
   ]
  },
  {
   "cell_type": "code",
   "execution_count": 35,
   "metadata": {
    "id": "pOJx1yqVA_1N"
   },
   "outputs": [
    {
     "name": "stdout",
     "output_type": "stream",
     "text": [
      "eigenvalues [-1.57399404e+00-1.32326328e+00j -1.57399404e+00+1.32326328e+00j\n",
      " -1.50049854e+00+5.60946366e-16j -1.24888595e+00+9.16394509e-01j\n",
      " -1.24888595e+00-9.16394509e-01j -1.18347982e+00-2.20752899e-01j\n",
      " -1.18347982e+00+2.20752899e-01j -1.17891216e+00-1.50983118e-17j\n",
      " -1.04150755e+00-2.86857516e+00j -1.04150755e+00+2.86857516e+00j\n",
      " -7.73323335e-01-8.63534685e-16j -6.58131392e-01-1.66140372e+00j\n",
      " -6.58131392e-01+1.66140372e+00j -5.67634222e-01-2.00475397e+00j\n",
      " -5.67634222e-01+2.00475397e+00j -5.25510634e-17+1.90565975e-16j]\n",
      "eigenamtrices [Quantum object: dims = [[[2, 2], [2, 2]], [1]], shape = (16, 1), type = operator-ket\n",
      " Qobj data =\n",
      " [[ 0.6255625 +0.j        ]\n",
      "  [-0.29953934-0.14327031j]\n",
      "  [-0.29953934-0.14327031j]\n",
      "  [ 0.07904894+0.07653094j]\n",
      "  [ 0.17892948+0.22441543j]\n",
      "  [-0.0505962 -0.17465753j]\n",
      "  [-0.07712612-0.16946595j]\n",
      "  [ 0.00708941+0.06568852j]\n",
      "  [ 0.17892948+0.22441543j]\n",
      "  [-0.07712612-0.16946595j]\n",
      "  [-0.0505962 -0.17465753j]\n",
      "  [ 0.00708941+0.06568852j]\n",
      "  [-0.18916114-0.06268328j]\n",
      "  [ 0.08689702+0.07341799j]\n",
      "  [ 0.08689702+0.07341799j]\n",
      "  [-0.02209784-0.03212614j]]\n",
      " Quantum object: dims = [[[2, 2], [2, 2]], [1]], shape = (16, 1), type = operator-ket\n",
      " Qobj data =\n",
      " [[ 0.6255625 +0.j        ]\n",
      "  [ 0.17892948-0.22441543j]\n",
      "  [ 0.17892948-0.22441543j]\n",
      "  [-0.18916114+0.06268328j]\n",
      "  [-0.29953934+0.14327031j]\n",
      "  [-0.0505962 +0.17465753j]\n",
      "  [-0.07712612+0.16946595j]\n",
      "  [ 0.08689702-0.07341799j]\n",
      "  [-0.29953934+0.14327031j]\n",
      "  [-0.07712612+0.16946595j]\n",
      "  [-0.0505962 +0.17465753j]\n",
      "  [ 0.08689702-0.07341799j]\n",
      "  [ 0.07904894-0.07653094j]\n",
      "  [ 0.00708941-0.06568852j]\n",
      "  [ 0.00708941-0.06568852j]\n",
      "  [-0.02209784+0.03212614j]]\n",
      " Quantum object: dims = [[[2, 2], [2, 2]], [1]], shape = (16, 1), type = operator-ket\n",
      " Qobj data =\n",
      " [[ 0.09283055+0.01265648j]\n",
      "  [ 0.46178225+0.j        ]\n",
      "  [ 0.46178225+0.j        ]\n",
      "  [-0.22834701-0.07714307j]\n",
      "  [ 0.44492789+0.12362048j]\n",
      "  [-0.03862574-0.00526622j]\n",
      "  [ 0.05400282+0.00736272j]\n",
      "  [-0.03352176-0.03999879j]\n",
      "  [ 0.44492789+0.12362048j]\n",
      "  [ 0.05400282+0.00736272j]\n",
      "  [-0.03862574-0.00526622j]\n",
      "  [-0.03352176-0.03999879j]\n",
      "  [-0.24066411+0.01319829j]\n",
      "  [-0.04300606+0.02956502j]\n",
      "  [-0.04300606+0.02956502j]\n",
      "  [ 0.04636046+0.00632077j]]\n",
      " Quantum object: dims = [[[2, 2], [2, 2]], [1]], shape = (16, 1), type = operator-ket\n",
      " Qobj data =\n",
      " [[ 0.        +0.j        ]\n",
      "  [-0.50870062+0.j        ]\n",
      "  [ 0.50870062+0.j        ]\n",
      "  [ 0.        +0.j        ]\n",
      "  [-0.06942201-0.11830513j]\n",
      "  [ 0.25434532-0.14783078j]\n",
      "  [-0.33583956+0.08877379j]\n",
      "  [ 0.00943958+0.04390286j]\n",
      "  [ 0.06942201+0.11830513j]\n",
      "  [ 0.33583956-0.08877379j]\n",
      "  [-0.25434532+0.14783078j]\n",
      "  [-0.00943958-0.04390286j]\n",
      "  [ 0.        +0.j        ]\n",
      "  [-0.09102912+0.06993441j]\n",
      "  [ 0.09102912-0.06993441j]\n",
      "  [ 0.        +0.j        ]]\n",
      " Quantum object: dims = [[[2, 2], [2, 2]], [1]], shape = (16, 1), type = operator-ket\n",
      " Qobj data =\n",
      " [[ 0.        +0.j        ]\n",
      "  [-0.06942201+0.11830513j]\n",
      "  [ 0.06942201-0.11830513j]\n",
      "  [ 0.        +0.j        ]\n",
      "  [-0.50870062+0.j        ]\n",
      "  [ 0.25434532+0.14783078j]\n",
      "  [ 0.33583956+0.08877379j]\n",
      "  [-0.09102912-0.06993441j]\n",
      "  [ 0.50870062+0.j        ]\n",
      "  [-0.33583956-0.08877379j]\n",
      "  [-0.25434532-0.14783078j]\n",
      "  [ 0.09102912+0.06993441j]\n",
      "  [ 0.        +0.j        ]\n",
      "  [ 0.00943958-0.04390286j]\n",
      "  [-0.00943958+0.04390286j]\n",
      "  [ 0.        +0.j        ]]\n",
      " Quantum object: dims = [[[2, 2], [2, 2]], [1]], shape = (16, 1), type = operator-ket\n",
      " Qobj data =\n",
      " [[ 0.        +0.j        ]\n",
      "  [-0.1898057 +0.31456551j]\n",
      "  [ 0.1898057 -0.31456551j]\n",
      "  [ 0.        +0.j        ]\n",
      "  [ 0.07370318-0.09321817j]\n",
      "  [-0.45652512+0.j        ]\n",
      "  [ 0.1070656 -0.28891149j]\n",
      "  [ 0.05645046+0.09287745j]\n",
      "  [-0.07370318+0.09321817j]\n",
      "  [-0.1070656 +0.28891149j]\n",
      "  [ 0.45652512+0.j        ]\n",
      "  [-0.05645046-0.09287745j]\n",
      "  [ 0.        +0.j        ]\n",
      "  [ 0.11840084-0.14737993j]\n",
      "  [-0.11840084+0.14737993j]\n",
      "  [ 0.        +0.j        ]]\n",
      " Quantum object: dims = [[[2, 2], [2, 2]], [1]], shape = (16, 1), type = operator-ket\n",
      " Qobj data =\n",
      " [[ 0.        +0.j        ]\n",
      "  [-0.07370318-0.09321817j]\n",
      "  [ 0.07370318+0.09321817j]\n",
      "  [ 0.        +0.j        ]\n",
      "  [ 0.1898057 +0.31456551j]\n",
      "  [ 0.45652512+0.j        ]\n",
      "  [ 0.1070656 +0.28891149j]\n",
      "  [-0.11840084-0.14737993j]\n",
      "  [-0.1898057 -0.31456551j]\n",
      "  [-0.1070656 -0.28891149j]\n",
      "  [-0.45652512+0.j        ]\n",
      "  [ 0.11840084+0.14737993j]\n",
      "  [ 0.        +0.j        ]\n",
      "  [-0.05645046+0.09287745j]\n",
      "  [ 0.05645046-0.09287745j]\n",
      "  [ 0.        +0.j        ]]\n",
      " Quantum object: dims = [[[2, 2], [2, 2]], [1]], shape = (16, 1), type = operator-ket\n",
      " Qobj data =\n",
      " [[ 0.5356847 +0.j        ]\n",
      "  [-0.28442604-0.08960192j]\n",
      "  [-0.28442604-0.08960192j]\n",
      "  [ 0.09188882+0.04072975j]\n",
      "  [-0.28442604+0.08960192j]\n",
      "  [ 0.13032018+0.j        ]\n",
      "  [ 0.36341561+0.j        ]\n",
      "  [-0.09336135-0.02458245j]\n",
      "  [-0.28442604+0.08960192j]\n",
      "  [ 0.36341561+0.j        ]\n",
      "  [ 0.13032018+0.j        ]\n",
      "  [-0.09336135-0.02458245j]\n",
      "  [ 0.09188882-0.04072975j]\n",
      "  [-0.09336135+0.02458245j]\n",
      "  [-0.09336135+0.02458245j]\n",
      "  [ 0.04170361+0.j        ]]\n",
      " Quantum object: dims = [[[2, 2], [2, 2]], [1]], shape = (16, 1), type = operator-ket\n",
      " Qobj data =\n",
      " [[-0.01328051-0.19015532j]\n",
      "  [-0.03459025+0.05842305j]\n",
      "  [-0.03459025+0.05842305j]\n",
      "  [ 0.01502217-0.01014223j]\n",
      "  [ 0.19848093-0.21274823j]\n",
      "  [-0.1435164 +0.04445244j]\n",
      "  [-0.10721699+0.01167396j]\n",
      "  [ 0.03812533+0.00842129j]\n",
      "  [ 0.19848093-0.21274823j]\n",
      "  [-0.10721699+0.01167396j]\n",
      "  [-0.1435164 +0.04445244j]\n",
      "  [ 0.03812533+0.00842129j]\n",
      "  [ 0.62336033+0.j        ]\n",
      "  [-0.34295437-0.18687408j]\n",
      "  [-0.34295437-0.18687408j]\n",
      "  [ 0.09553421+0.10276703j]]\n",
      " Quantum object: dims = [[[2, 2], [2, 2]], [1]], shape = (16, 1), type = operator-ket\n",
      " Qobj data =\n",
      " [[-0.01328051+0.19015532j]\n",
      "  [ 0.19848093+0.21274823j]\n",
      "  [ 0.19848093+0.21274823j]\n",
      "  [ 0.62336033+0.j        ]\n",
      "  [-0.03459025-0.05842305j]\n",
      "  [-0.1435164 -0.04445244j]\n",
      "  [-0.10721699-0.01167396j]\n",
      "  [-0.34295437+0.18687408j]\n",
      "  [-0.03459025-0.05842305j]\n",
      "  [-0.10721699-0.01167396j]\n",
      "  [-0.1435164 -0.04445244j]\n",
      "  [-0.34295437+0.18687408j]\n",
      "  [ 0.01502217+0.01014223j]\n",
      "  [ 0.03812533-0.00842129j]\n",
      "  [ 0.03812533-0.00842129j]\n",
      "  [ 0.09553421-0.10276703j]]\n",
      " Quantum object: dims = [[[2, 2], [2, 2]], [1]], shape = (16, 1), type = operator-ket\n",
      " Qobj data =\n",
      " [[ 0.66485877+0.j        ]\n",
      "  [-0.16621047+0.00473373j]\n",
      "  [-0.16621047+0.00473373j]\n",
      "  [ 0.01723936-0.01669781j]\n",
      "  [-0.16621047-0.00473373j]\n",
      "  [ 0.4125171 +0.j        ]\n",
      "  [ 0.13008776+0.j        ]\n",
      "  [-0.12794674-0.02475413j]\n",
      "  [-0.16621047-0.00473373j]\n",
      "  [ 0.13008776+0.j        ]\n",
      "  [ 0.4125171 +0.j        ]\n",
      "  [-0.12794674-0.02475413j]\n",
      "  [ 0.01723936+0.01669781j]\n",
      "  [-0.12794674+0.02475413j]\n",
      "  [-0.12794674+0.02475413j]\n",
      "  [ 0.06402014+0.j        ]]\n",
      " Quantum object: dims = [[[2, 2], [2, 2]], [1]], shape = (16, 1), type = operator-ket\n",
      " Qobj data =\n",
      " [[ 0.33977229-0.16914248j]\n",
      "  [-0.09525332+0.00229696j]\n",
      "  [-0.09525332+0.00229696j]\n",
      "  [ 0.01583498+0.0038605j ]\n",
      "  [ 0.30760025+0.12702367j]\n",
      "  [ 0.02509456-0.19430618j]\n",
      "  [ 0.00620074-0.04538683j]\n",
      "  [-0.03859484+0.0218453j ]\n",
      "  [ 0.30760025+0.12702367j]\n",
      "  [ 0.00620074-0.04538683j]\n",
      "  [ 0.02509456-0.19430618j]\n",
      "  [-0.03859484+0.0218453j ]\n",
      "  [ 0.34594481-0.0258597j ]\n",
      "  [ 0.41589526+0.j        ]\n",
      "  [ 0.41589526+0.j        ]\n",
      "  [-0.24095597-0.08230112j]]\n",
      " Quantum object: dims = [[[2, 2], [2, 2]], [1]], shape = (16, 1), type = operator-ket\n",
      " Qobj data =\n",
      " [[ 0.33977229+0.16914248j]\n",
      "  [ 0.30760025-0.12702367j]\n",
      "  [ 0.30760025-0.12702367j]\n",
      "  [ 0.34594481+0.0258597j ]\n",
      "  [-0.09525332-0.00229696j]\n",
      "  [ 0.02509456+0.19430618j]\n",
      "  [ 0.00620074+0.04538683j]\n",
      "  [ 0.41589526+0.j        ]\n",
      "  [-0.09525332-0.00229696j]\n",
      "  [ 0.00620074+0.04538683j]\n",
      "  [ 0.02509456+0.19430618j]\n",
      "  [ 0.41589526+0.j        ]\n",
      "  [ 0.01583498-0.0038605j ]\n",
      "  [-0.03859484-0.0218453j ]\n",
      "  [-0.03859484-0.0218453j ]\n",
      "  [-0.24095597+0.08230112j]]\n",
      " Quantum object: dims = [[[2, 2], [2, 2]], [1]], shape = (16, 1), type = operator-ket\n",
      " Qobj data =\n",
      " [[ 0.        +0.j        ]\n",
      "  [ 0.04613611-0.02937419j]\n",
      "  [-0.04613611+0.02937419j]\n",
      "  [ 0.        +0.j        ]\n",
      "  [-0.17680576-0.26788729j]\n",
      "  [ 0.2075392 +0.01862869j]\n",
      "  [-0.08657588+0.09671283j]\n",
      "  [-0.01582622-0.01564447j]\n",
      "  [ 0.17680576+0.26788729j]\n",
      "  [ 0.08657588-0.09671283j]\n",
      "  [-0.2075392 -0.01862869j]\n",
      "  [ 0.01582622+0.01564447j]\n",
      "  [ 0.        +0.j        ]\n",
      "  [ 0.57725317+0.j        ]\n",
      "  [-0.57725317+0.j        ]\n",
      "  [ 0.        +0.j        ]]\n",
      " Quantum object: dims = [[[2, 2], [2, 2]], [1]], shape = (16, 1), type = operator-ket\n",
      " Qobj data =\n",
      " [[ 0.        +0.j        ]\n",
      "  [-0.17680576+0.26788729j]\n",
      "  [ 0.17680576-0.26788729j]\n",
      "  [ 0.        +0.j        ]\n",
      "  [ 0.04613611+0.02937419j]\n",
      "  [ 0.2075392 -0.01862869j]\n",
      "  [ 0.08657588+0.09671283j]\n",
      "  [ 0.57725317+0.j        ]\n",
      "  [-0.04613611-0.02937419j]\n",
      "  [-0.08657588-0.09671283j]\n",
      "  [-0.2075392 +0.01862869j]\n",
      "  [-0.57725317+0.j        ]\n",
      "  [ 0.        +0.j        ]\n",
      "  [-0.01582622+0.01564447j]\n",
      "  [ 0.01582622-0.01564447j]\n",
      "  [ 0.        +0.j        ]]\n",
      " Quantum object: dims = [[[2, 2], [2, 2]], [1]], shape = (16, 1), type = operator-ket\n",
      " Qobj data =\n",
      " [[0.5]\n",
      "  [0. ]\n",
      "  [0. ]\n",
      "  [0. ]\n",
      "  [0. ]\n",
      "  [0.5]\n",
      "  [0. ]\n",
      "  [0. ]\n",
      "  [0. ]\n",
      "  [0. ]\n",
      "  [0.5]\n",
      "  [0. ]\n",
      "  [0. ]\n",
      "  [0. ]\n",
      "  [0. ]\n",
      "  [0.5]]                                                                             ]\n"
     ]
    }
   ],
   "source": [
    "# diagonalization using qutip\n",
    "val,mat = L_dag.eigenstates()\n",
    "\n",
    "print('eigenvalues',val)\n",
    "print('eigenamtrices',mat)"
   ]
  },
  {
   "cell_type": "code",
   "execution_count": 52,
   "metadata": {},
   "outputs": [
    {
     "name": "stdout",
     "output_type": "stream",
     "text": [
      "[-1.57399404-1.32326328j -1.57399404+1.32326328j -1.50049854+0.j\n",
      " -1.24888595+0.91639451j -1.24888595-0.91639451j -1.18347982-0.2207529j\n",
      " -1.18347982+0.2207529j  -1.17891216+0.j         -1.04150755-2.86857516j\n",
      " -1.04150755+2.86857516j -0.77332333+0.j         -0.65813139-1.66140372j\n",
      " -0.65813139+1.66140372j -0.56763422-2.00475397j -0.56763422+2.00475397j\n",
      "  0.        +0.j        ]\n"
     ]
    }
   ],
   "source": [
    "tol = 1e-8\n",
    "real_vals = np.where(np.abs(val.imag)<tol,val.real,val)\n",
    "real_vals = np.where(np.abs(real_vals.real)<tol,real_vals.imag,real_vals)\n",
    "print(real_vals)"
   ]
  },
  {
   "cell_type": "code",
   "execution_count": 74,
   "metadata": {},
   "outputs": [
    {
     "name": "stdout",
     "output_type": "stream",
     "text": [
      "10\n",
      "[[ 0.665+0.j    -0.166+0.005j -0.166+0.005j  0.017-0.017j]\n",
      " [-0.166-0.005j  0.413+0.j     0.13 +0.j    -0.128-0.025j]\n",
      " [-0.166-0.005j  0.13 +0.j     0.413+0.j    -0.128-0.025j]\n",
      " [ 0.017+0.017j -0.128+0.025j -0.128+0.025j  0.064+0.j   ]]\n"
     ]
    }
   ],
   "source": [
    "l2indx = np.argsort(abs(real_vals))[1]\n",
    "print(l2indx)\n",
    "\n",
    "l2 = mat[l2indx].full().reshape(2**N,2**N)\n",
    "print(np.round(l2,3))"
   ]
  },
  {
   "cell_type": "code",
   "execution_count": null,
   "metadata": {},
   "outputs": [
    {
     "data": {
      "text/plain": [
       "(0.118273+0j)"
      ]
     },
     "execution_count": 76,
     "metadata": {},
     "output_type": "execute_result"
    }
   ],
   "source": [
    "# checking\n",
    "np.trace(np.round(l2,3)*np.round(rho_00,3)) # close to zero"
   ]
  },
  {
   "cell_type": "code",
   "execution_count": 82,
   "metadata": {},
   "outputs": [],
   "source": [
    "L2 = qt.Qobj(np.round(l2,3))\n",
    "alphas,phis = L2.eigenstates()"
   ]
  },
  {
   "cell_type": "code",
   "execution_count": 83,
   "metadata": {},
   "outputs": [
    {
     "name": "stdout",
     "output_type": "stream",
     "text": [
      "[-0.00600969  0.283       0.41097469  0.867035  ]\n"
     ]
    }
   ],
   "source": [
    "print(alphas)"
   ]
  },
  {
   "cell_type": "code",
   "execution_count": 84,
   "metadata": {},
   "outputs": [
    {
     "name": "stdout",
     "output_type": "stream",
     "text": [
      "[Quantum object: dims = [[4], [1]], shape = (4, 1), type = ket\n",
      " Qobj data =\n",
      " [[-0.11016269+0.j        ]\n",
      "  [-0.24612353+0.05612746j]\n",
      "  [-0.24612353+0.05612746j]\n",
      "  [-0.83314878+0.40776603j]]\n",
      " Quantum object: dims = [[4], [1]], shape = (4, 1), type = ket\n",
      " Qobj data =\n",
      " [[ 0.        +0.j        ]\n",
      "  [-0.70708259+0.00584891j]\n",
      "  [ 0.70708259-0.00584891j]\n",
      "  [ 0.        +0.j        ]]\n",
      " Quantum object: dims = [[4], [1]], shape = (4, 1), type = ket\n",
      " Qobj data =\n",
      " [[-0.64789567+0.j        ]\n",
      "  [-0.48168685-0.03519083j]\n",
      "  [-0.48168685-0.03519083j]\n",
      "  [ 0.32871893-0.07519199j]]\n",
      " Quantum object: dims = [[4], [1]], shape = (4, 1), type = ket\n",
      " Qobj data =\n",
      " [[ 0.75372103+0.j       ]\n",
      "  [-0.45002918-0.0220464j]\n",
      "  [-0.45002918-0.0220464j]\n",
      "  [ 0.1607938 -0.0050363j]]                                   ]\n"
     ]
    }
   ],
   "source": [
    "print(phis)"
   ]
  },
  {
   "cell_type": "code",
   "execution_count": null,
   "metadata": {},
   "outputs": [
    {
     "data": {
      "text/latex": [
       "Quantum object: dims = [[2, 2], [1, 1]], shape = (4, 1), type = ket $ \\\\ \\left(\\begin{matrix}1.0\\\\0.0\\\\0.0\\\\0.0\\\\\\end{matrix}\\right)$"
      ],
      "text/plain": [
       "Quantum object: dims = [[2, 2], [1, 1]], shape = (4, 1), type = ket\n",
       "Qobj data =\n",
       "[[1.]\n",
       " [0.]\n",
       " [0.]\n",
       " [0.]]"
      ]
     },
     "execution_count": 89,
     "metadata": {},
     "output_type": "execute_result"
    }
   ],
   "source": [
    "init_state = qt.tensor([qt.ket('0')]*N)"
   ]
  },
  {
   "cell_type": "code",
   "execution_count": 114,
   "metadata": {},
   "outputs": [
    {
     "data": {
      "text/plain": [
       "array([[-0.11016269+0.j        ],\n",
       "       [-0.24612353+0.05612746j],\n",
       "       [-0.24612353+0.05612746j],\n",
       "       [-0.83314878+0.40776603j]])"
      ]
     },
     "execution_count": 114,
     "metadata": {},
     "output_type": "execute_result"
    }
   ],
   "source": [
    "phi_0 = phis[0]\n",
    "phi_0.full()"
   ]
  },
  {
   "cell_type": "code",
   "execution_count": 128,
   "metadata": {},
   "outputs": [
    {
     "data": {
      "text/latex": [
       "Quantum object: dims = [[2, 2], [1, 1]], shape = (4, 1), type = ket $ \\\\ \\left(\\begin{matrix}-0.110\\\\(-0.246+0.056j)\\\\(-0.246+0.056j)\\\\(-0.833+0.408j)\\\\\\end{matrix}\\right)$"
      ],
      "text/plain": [
       "Quantum object: dims = [[2, 2], [1, 1]], shape = (4, 1), type = ket\n",
       "Qobj data =\n",
       "[[-0.11016269+0.j        ]\n",
       " [-0.24612353+0.05612746j]\n",
       " [-0.24612353+0.05612746j]\n",
       " [-0.83314878+0.40776603j]]"
      ]
     },
     "execution_count": 128,
     "metadata": {},
     "output_type": "execute_result"
    }
   ],
   "source": [
    "phi0 = qt.Qobj(phi_0)\n",
    "phi0.dims = [[2,2],[1,1]]\n",
    "phi0"
   ]
  },
  {
   "cell_type": "code",
   "execution_count": 121,
   "metadata": {},
   "outputs": [
    {
     "name": "stdout",
     "output_type": "stream",
     "text": [
      "[[-0.11016269+0.j          0.        +0.j          0.        +0.j\n",
      "   0.        +0.j        ]\n",
      " [-0.24612353+0.05612746j  0.        +0.j          0.        +0.j\n",
      "   0.        +0.j        ]\n",
      " [-0.24612353+0.05612746j  0.        +0.j          0.        +0.j\n",
      "   0.        +0.j        ]\n",
      " [-0.83314878+0.40776603j  0.        +0.j          0.        +0.j\n",
      "   0.        +0.j        ]]\n"
     ]
    }
   ],
   "source": [
    "U=np.zeros((2**N,2**N),dtype=complex)\n",
    "U[:,0]+=phi_0.full().flatten()\n",
    "print(U)"
   ]
  },
  {
   "cell_type": "code",
   "execution_count": 122,
   "metadata": {},
   "outputs": [
    {
     "data": {
      "text/plain": [
       "array([[-0.11016269+0.j        ],\n",
       "       [-0.24612353+0.05612746j],\n",
       "       [-0.24612353+0.05612746j],\n",
       "       [-0.83314878+0.40776603j]])"
      ]
     },
     "execution_count": 122,
     "metadata": {},
     "output_type": "execute_result"
    }
   ],
   "source": [
    "U*init_state"
   ]
  },
  {
   "cell_type": "code",
   "execution_count": 130,
   "metadata": {},
   "outputs": [],
   "source": [
    "# Solving master equation and state dissipation\n",
    "\n",
    "#psi0 = qt.tensor(qt.basis(2,0),qt.basis(2,1))\n",
    "final_state = qt.steadystate(hamiltonian,c_ops)\n",
    "#final_state.full() # density matrix corresponding to zero eigen value\n",
    "\n",
    "tlist = omega*np.linspace(0, 10, 100)\n",
    "medata = qt.mesolve(hamiltonian, init_state, tlist, c_ops, [])\n",
    "qmpedata = qt.mesolve(hamiltonian, phi0, tlist, c_ops, [])"
   ]
  },
  {
   "cell_type": "code",
   "execution_count": 138,
   "metadata": {},
   "outputs": [
    {
     "data": {
      "image/png": "[encoded data removed]",
      "text/plain": [
       "<Figure size 640x480 with 1 Axes>"
      ]
     },
     "metadata": {},
     "output_type": "display_data"
    }
   ],
   "source": [
    "# calculation of Hilbert Distances\n",
    "\n",
    "hilbert_distance = []\n",
    "\n",
    "qmpe_dist = []\n",
    "\n",
    "for state in medata.states:\n",
    "  dis = qt.hilbert_dist(state,final_state)\n",
    "  hilbert_distance.append(dis)\n",
    "\n",
    "for state in qmpedata.states:\n",
    "  dis = qt.hilbert_dist(state,final_state)\n",
    "  qmpe_dist.append(dis)\n",
    "\n",
    "plt.plot(tlist,hilbert_distance,label=r'|00> state')\n",
    "plt.plot(tlist,qmpe_dist,label='rotated state')\n",
    "plt.xlabel('time')\n",
    "plt.ylabel('hilbert distance')\n",
    "plt.legend()\n",
    "plt.show()"
   ]
  },
  {
   "cell_type": "code",
   "execution_count": null,
   "metadata": {},
   "outputs": [],
   "source": []
  }
 ],
 "metadata": {
  "colab": {
   "provenance": []
  },
  "kernelspec": {
   "display_name": "qc",
   "language": "python",
   "name": "python3"
  },
  "language_info": {
   "codemirror_mode": {
    "name": "ipython",
    "version": 3
   },
   "file_extension": ".py",
   "mimetype": "text/x-python",
   "name": "python",
   "nbconvert_exporter": "python",
   "pygments_lexer": "ipython3",
   "version": "3.10.12"
  }
 },
 "nbformat": 4,
 "nbformat_minor": 0
}
