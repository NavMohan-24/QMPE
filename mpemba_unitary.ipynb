{
  "cells": [
    {
      "cell_type": "code",
      "execution_count": 1,
      "metadata": {
        "id": "_7x1K4Nz1JIH"
      },
      "outputs": [],
      "source": [
        "import numpy as np\n",
        "import matplotlib.pyplot as plt\n",
        "import qutip as qt\n",
        "import scipy as sp"
      ]
    },
    {
      "cell_type": "code",
      "execution_count": 17,
      "metadata": {
        "id": "_AgdVluPNsxl"
      },
      "outputs": [],
      "source": [
        "sx = qt.operators.sigmax()\n",
        "sy = qt.operators.sigmay()\n",
        "sz = qt.operators.sigmaz()"
      ]
    },
    {
      "cell_type": "code",
      "execution_count": 54,
      "metadata": {
        "id": "R-UnrIm3w-BR"
      },
      "outputs": [],
      "source": [
        "def hamiltonian_ising(N,omega,delta,V):\n",
        "  sx = qt.operators.sigmax()\n",
        "  sy = qt.operators.sigmay()\n",
        "  sz = qt.operators.sigmaz()\n",
        "  I = qt.operators.identity(2)\n",
        "\n",
        "  ising_ham = qt.tensor([I*0]*N)\n",
        "  for i in range(N):\n",
        "    hz = qt.tensor([sz if j==i else I for j in range(N)])\n",
        "    hx = qt.tensor([sx if j==i else I for j in range(N)])\n",
        "    ising_ham += -1*delta*hz+omega*hx\n",
        "    for j in range(i + 1, N):\n",
        "        # Interaction term between qubit i and qubit j\n",
        "        #print(i,j)\n",
        "        hzz = qt.tensor([sz if k == i or k == j else I for k in range(N)]) # assume obc\n",
        "        ising_ham += (V/N)*hzz\n",
        "  \n",
        "  #print(hz,hx,hzz)\n",
        "  \n",
        "  return(ising_ham)"
      ]
    },
    {
      "cell_type": "code",
      "execution_count": 72,
      "metadata": {
        "id": "5FufKJvLywue"
      },
      "outputs": [],
      "source": [
        "omega = 1\n",
        "N = 2\n",
        "delta = 1\n",
        "V = 3\n",
        "hamiltonian=hamiltonian_ising(N,omega,delta,V)"
      ]
    },
    {
      "cell_type": "code",
      "execution_count": 73,
      "metadata": {},
      "outputs": [
        {
          "data": {
            "text/latex": [
              "Quantum object: dims = [[2, 2], [2, 2]], shape = (4, 4), type = oper, isherm = True $ \\\\ \\left(\\begin{matrix}-0.500 & 1.0 & 1.0 & 0.0\\\\1.0 & -1.500 & 0.0 & 1.0\\\\1.0 & 0.0 & -1.500 & 1.0\\\\0.0 & 1.0 & 1.0 & 3.500\\\\\\end{matrix}\\right)$"
            ],
            "text/plain": [
              "Quantum object: dims = [[2, 2], [2, 2]], shape = (4, 4), type = oper, isherm = True\n",
              "Qobj data =\n",
              "[[-0.5  1.   1.   0. ]\n",
              " [ 1.  -1.5  0.   1. ]\n",
              " [ 1.   0.  -1.5  1. ]\n",
              " [ 0.   1.   1.   3.5]]"
            ]
          },
          "execution_count": 73,
          "metadata": {},
          "output_type": "execute_result"
        }
      ],
      "source": [
        "hamiltonian"
      ]
    },
    {
      "cell_type": "raw",
      "metadata": {},
      "source": [
        "### checking 2 qubit hamiltonian\n",
        "qt.tensor(sx,I)+qt.tensor(I,sx)-(qt.tensor(sz,I)+qt.tensor(I,sz))+(3/2)*qt.tensor(sz,sz)"
      ]
    },
    {
      "cell_type": "code",
      "execution_count": 75,
      "metadata": {
        "id": "yqR1uJK43Lw1"
      },
      "outputs": [],
      "source": [
        "sm = qt.operators.sigmam()\n",
        "I = qt.operators.identity(2)\n",
        "kappa = 1\n",
        "c_ops = [qt.tensor([sm if i==j  else I for j in range(N)]) for i in range(N)]\n",
        "c_ops = [np.sqrt(kappa) * c_op for c_op in c_ops]\n",
        "#L = qt.liouvillian(hamiltonian, c_ops).full()\n",
        "L_dag = qt.liouvillian(hamiltonian, c_ops).dag().full()"
      ]
    },
    {
      "cell_type": "code",
      "execution_count": 76,
      "metadata": {},
      "outputs": [
        {
          "data": {
            "text/plain": [
              "[Quantum object: dims = [[2, 2], [2, 2]], shape = (4, 4), type = oper, isherm = False\n",
              " Qobj data =\n",
              " [[0. 0. 0. 0.]\n",
              "  [0. 0. 0. 0.]\n",
              "  [1. 0. 0. 0.]\n",
              "  [0. 1. 0. 0.]],\n",
              " Quantum object: dims = [[2, 2], [2, 2]], shape = (4, 4), type = oper, isherm = False\n",
              " Qobj data =\n",
              " [[0. 0. 0. 0.]\n",
              "  [1. 0. 0. 0.]\n",
              "  [0. 0. 0. 0.]\n",
              "  [0. 0. 1. 0.]]]"
            ]
          },
          "execution_count": 76,
          "metadata": {},
          "output_type": "execute_result"
        }
      ],
      "source": [
        "c_ops"
      ]
    },
    {
      "cell_type": "code",
      "execution_count": 82,
      "metadata": {
        "id": "pOJx1yqVA_1N"
      },
      "outputs": [],
      "source": [
        "# diagonalization using scipy eigsh\n",
        "val,vec = sp.sparse.linalg.eigsh(L_dag,2,which='SM')\n",
        "l2 = vec[:,1]"
      ]
    },
    {
      "cell_type": "code",
      "execution_count": 87,
      "metadata": {},
      "outputs": [],
      "source": [
        "# evd using numpy\n",
        "val,mat = np.linalg.eig(L_dag)\n",
        "np.argsort(abs(val.real))[1]"
      ]
    },
    {
      "cell_type": "code",
      "execution_count": 123,
      "metadata": {},
      "outputs": [
        {
          "data": {
            "text/plain": [
              "array([-1.69694508e-16-1.38386355e-16j,  5.74861396e-01+1.55039023e-01j,\n",
              "       -5.74861396e-01-1.55039023e-01j,  3.04343329e-16-1.32933495e-15j,\n",
              "        1.30276646e-01-2.89926915e-01j,  4.45548388e-02-7.49227037e-01j,\n",
              "        2.58583595e-01-6.70934899e-01j,  3.63940487e-01-3.61194550e+00j,\n",
              "       -1.30276646e-01+2.89926915e-01j, -2.58583595e-01+6.70934899e-01j,\n",
              "       -4.45548388e-02+7.49227037e-01j, -3.63940487e-01+3.61194550e+00j,\n",
              "       -3.55944949e-16-5.01657679e-16j,  2.06158283e-02+7.44285344e-03j,\n",
              "       -2.06158283e-02-7.44285344e-03j, -2.13886771e-16-2.12915141e-16j])"
            ]
          },
          "execution_count": 123,
          "metadata": {},
          "output_type": "execute_result"
        }
      ],
      "source": [
        "# checking the eigen value equation l.H.S\n",
        "val[10]*mat[:,10]"
      ]
    },
    {
      "cell_type": "code",
      "execution_count": 124,
      "metadata": {},
      "outputs": [
        {
          "data": {
            "text/plain": [
              "array([-1.66533454e-16-5.89805982e-17j,  5.74861396e-01+1.55039023e-01j,\n",
              "       -5.74861396e-01-1.55039023e-01j,  5.68989300e-16-1.36349265e-15j,\n",
              "        1.30276646e-01-2.89926915e-01j,  4.45548388e-02-7.49227037e-01j,\n",
              "        2.58583595e-01-6.70934899e-01j,  3.63940487e-01-3.61194550e+00j,\n",
              "       -1.30276646e-01+2.89926915e-01j, -2.58583595e-01+6.70934899e-01j,\n",
              "       -4.45548388e-02+7.49227037e-01j, -3.63940487e-01+3.61194550e+00j,\n",
              "        3.66894015e-16+5.98479599e-17j,  2.06158283e-02+7.44285344e-03j,\n",
              "       -2.06158283e-02-7.44285344e-03j,  1.67400815e-16-5.88938620e-16j])"
            ]
          },
          "execution_count": 124,
          "metadata": {},
          "output_type": "execute_result"
        }
      ],
      "source": [
        "# Checking the eigen value equation R.H.S\n",
        "np.matmul(L_dag,mat[:,10])"
      ]
    },
    {
      "cell_type": "code",
      "execution_count": 149,
      "metadata": {},
      "outputs": [],
      "source": [
        "# left eigen matrice of second lowest eigenvalue\n",
        "l = mat[:,10]\n",
        "l= np.matrix(l.reshape(4,4))"
      ]
    },
    {
      "cell_type": "code",
      "execution_count": 152,
      "metadata": {},
      "outputs": [],
      "source": [
        "l[abs(l) < 1e-8] = 0"
      ]
    },
    {
      "cell_type": "code",
      "execution_count": 153,
      "metadata": {},
      "outputs": [
        {
          "data": {
            "text/plain": [
              "matrix([[ 0.        +0.00000000e+00j,  0.01781156-1.08297757e-01j,\n",
              "         -0.01781156+1.08297757e-01j,  0.        +0.00000000e+00j],\n",
              "        [-0.05558165-1.85355918e-02j, -0.1382356 +5.67409409e-03j,\n",
              "         -0.12783165-3.50267557e-02j, -0.66917565+1.94289029e-16j],\n",
              "        [ 0.05558165+1.85355918e-02j,  0.12783165+3.50267557e-02j,\n",
              "          0.1382356 -5.67409409e-03j,  0.66917565+0.00000000e+00j],\n",
              "        [ 0.        +0.00000000e+00j,  0.00098408-3.91859638e-03j,\n",
              "         -0.00098408+3.91859638e-03j,  0.        +0.00000000e+00j]])"
            ]
          },
          "execution_count": 153,
          "metadata": {},
          "output_type": "execute_result"
        }
      ],
      "source": [
        "l"
      ]
    },
    {
      "cell_type": "code",
      "execution_count": null,
      "metadata": {
        "id": "9CO41ETa43Fr"
      },
      "outputs": [],
      "source": [
        "# Solving master equation and state dissipation\n",
        "\n",
        "psi0 = qt.tensor(qt.basis(2,0),qt.basis(2,1))\n",
        "final_state = qt.steadystate(hamiltonian,c_ops)\n",
        "#final_state.full() # density matrix corresponding to zero eigen value\n",
        "\n",
        "tlist = omega*np.linspace(0, 10, 100)\n",
        "medata = qt.mesolve(hamiltonian, psi0, tlist, c_ops, [])"
      ]
    },
    {
      "cell_type": "code",
      "execution_count": null,
      "metadata": {
        "id": "M8vw-ZrK-_d4"
      },
      "outputs": [],
      "source": [
        "# calculation of Hilbert Distances\n",
        "\n",
        "hilbert_distance = []\n",
        "\n",
        "for state in medata.states:\n",
        "  dis = qt.hilbert_dist(state,final_state)\n",
        "  hilbert_distance.append(dis)\n",
        "\n",
        "plt.plot(tlist,hilbert_distance)\n",
        "plt.xlabel('time')\n",
        "plt.ylabel('hilbert distance')\n",
        "plt.show()"
      ]
    },
    {
      "cell_type": "code",
      "execution_count": null,
      "metadata": {
        "id": "0DAFO6MJAhVd"
      },
      "outputs": [],
      "source": []
    }
  ],
  "metadata": {
    "colab": {
      "provenance": []
    },
    "kernelspec": {
      "display_name": "nqs",
      "language": "python",
      "name": "python3"
    },
    "language_info": {
      "codemirror_mode": {
        "name": "ipython",
        "version": 3
      },
      "file_extension": ".py",
      "mimetype": "text/x-python",
      "name": "python",
      "nbconvert_exporter": "python",
      "pygments_lexer": "ipython3",
      "version": "3.11.7"
    }
  },
  "nbformat": 4,
  "nbformat_minor": 0
}
