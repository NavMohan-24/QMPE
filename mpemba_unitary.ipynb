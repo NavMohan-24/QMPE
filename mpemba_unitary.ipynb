{
  "cells": [
    {
      "cell_type": "code",
      "execution_count": 1,
      "metadata": {
        "id": "_7x1K4Nz1JIH"
      },
      "outputs": [],
      "source": [
        "import numpy as np\n",
        "import matplotlib.pyplot as plt\n",
        "import qutip as qt\n",
        "import scipy as sp"
      ]
    },
    {
      "cell_type": "code",
      "execution_count": 2,
      "metadata": {
        "id": "_AgdVluPNsxl"
      },
      "outputs": [],
      "source": [
        "sx = qt.operators.sigmax()\n",
        "sy = qt.operators.sigmay()"
      ]
    },
    {
      "cell_type": "code",
      "execution_count": 3,
      "metadata": {
        "colab": {
          "base_uri": "https://localhost:8080/",
          "height": 35
        },
        "id": "0EFyxP2bNIuz",
        "outputId": "981d0df5-55be-4353-94fa-97c8a2be8c0e"
      },
      "outputs": [
        {
          "data": {
            "text/latex": [
              "Quantum object: dims = [[2], [2]], shape = (2, 2), type = oper, isherm = False $ \\\\ \\left(\\begin{matrix}0.0 & 0.0\\\\2.0 & 0.0\\\\\\end{matrix}\\right)$"
            ],
            "text/plain": [
              "Quantum object: dims = [[2], [2]], shape = (2, 2), type = oper, isherm = False\n",
              "Qobj data =\n",
              "[[0. 0.]\n",
              " [2. 0.]]"
            ]
          },
          "execution_count": 3,
          "metadata": {},
          "output_type": "execute_result"
        }
      ],
      "source": [
        "sx-1j*sy"
      ]
    },
    {
      "cell_type": "code",
      "execution_count": 5,
      "metadata": {
        "id": "R-UnrIm3w-BR"
      },
      "outputs": [],
      "source": [
        "def hamiltonian_ising(N,omega,delta,V):\n",
        "  sx = qt.operators.sigmax()\n",
        "  sy = qt.operators.sigmay()\n",
        "  sz = qt.operators.sigmaz()\n",
        "  I = qt.operators.identity(2)\n",
        "\n",
        "  ising_ham = qt.tensor([I]*N)\n",
        "  for i in range(N):\n",
        "    hz = qt.tensor([sz if j==i else I for j in range(N)])\n",
        "    hx = qt.tensor([sx if j==i else I for j in range(N)])\n",
        "    for j in range(i + 1, N):\n",
        "        # Interaction term between qubit i and qubit j\n",
        "        hzz = qt.tensor([sz if k == i or k == j else I for k in range(N)]) # assume obc\n",
        "    ising_ham += -1*delta*hz+omega*hx+(V/N)*hzz\n",
        "    return(ising_ham)"
      ]
    },
    {
      "cell_type": "code",
      "execution_count": 6,
      "metadata": {
        "id": "5FufKJvLywue"
      },
      "outputs": [],
      "source": [
        "omega = 1\n",
        "N = 6\n",
        "delta = 1\n",
        "V = 3\n",
        "hamiltonian=hamiltonian_ising(N,omega,delta,V)"
      ]
    },
    {
      "cell_type": "code",
      "execution_count": 7,
      "metadata": {
        "id": "yqR1uJK43Lw1"
      },
      "outputs": [],
      "source": [
        "sm = qt.operators.sigmam()\n",
        "I = qt.operators.identity(2)\n",
        "kappa = 1\n",
        "c_ops = [qt.tensor([sm if i==j  else I for j in range(N)]) for i in range(N)]\n",
        "c_ops = [np.sqrt(kappa) * c_op for c_op in c_ops]\n",
        "#L = qt.liouvillian(hamiltonian, c_ops).full()\n",
        "L_dag = qt.liouvillian(hamiltonian, c_ops).dag().full()"
      ]
    },
    {
      "cell_type": "code",
      "execution_count": 8,
      "metadata": {
        "colab": {
          "base_uri": "https://localhost:8080/"
        },
        "id": "bEVldfFEEkpU",
        "outputId": "60763831-0a6f-4352-cfef-c5c643750361"
      },
      "outputs": [
        {
          "data": {
            "text/plain": [
              "(array([ 1.15669953e-15, -5.00000000e-01, -5.00000000e-01, -5.00000000e-01]),\n",
              " array([[ 8.98895871e-02-8.68611658e-02j,  6.12533686e-16-1.27713709e-15j,\n",
              "          9.36951808e-16+2.32998690e-17j,  1.16802362e-16-6.40576699e-17j],\n",
              "        [ 5.84669708e-16+3.32404431e-16j,  5.23326781e-16+7.28618273e-17j,\n",
              "          5.01916602e-16-2.62170347e-16j,  6.89422884e-17+8.65298617e-17j],\n",
              "        [-2.42890327e-16-1.09415076e-16j,  5.54363359e-02+4.69528317e-04j,\n",
              "          2.11867953e-02+1.00707408e-02j,  4.47568894e-02-3.32939094e-02j],\n",
              "        ...,\n",
              "        [ 3.06807440e-16-2.13305932e-16j, -3.23727916e-02+6.35739007e-02j,\n",
              "          6.75641749e-02-8.05840913e-02j,  5.53474195e-02+5.89814511e-03j],\n",
              "        [ 3.21580039e-16-6.90270687e-17j,  2.18612493e-16+1.32015460e-16j,\n",
              "          1.17897297e-17+3.20410507e-17j,  1.56109837e-16-3.33093389e-17j],\n",
              "        [ 8.98895871e-02-8.68611658e-02j,  1.84680185e-16-2.85700535e-16j,\n",
              "          2.91238876e-16-1.03736839e-16j,  4.50515897e-17-4.31845673e-17j]]))"
            ]
          },
          "execution_count": 8,
          "metadata": {},
          "output_type": "execute_result"
        }
      ],
      "source": [
        "sp.sparse.linalg.eigsh(L_dag,4,which='SM')"
      ]
    },
    {
      "cell_type": "code",
      "execution_count": 9,
      "metadata": {
        "id": "pOJx1yqVA_1N"
      },
      "outputs": [],
      "source": [
        "val,vec = sp.sparse.linalg.eigsh(L_dag,2,which='SM')\n",
        "l2 = vec[:,1]"
      ]
    },
    {
      "cell_type": "code",
      "execution_count": 10,
      "metadata": {
        "colab": {
          "base_uri": "https://localhost:8080/"
        },
        "id": "mRBpGHPfQA6d",
        "outputId": "58f28c8f-dfcb-4907-f9bb-4c9cff61e9a6"
      },
      "outputs": [
        {
          "data": {
            "text/plain": [
              "matrix([[ 1.61221601e-02+0.00000000e+00j,\n",
              "          2.01162926e-18+1.41526487e-19j,\n",
              "         -2.06635439e-18+5.61330212e-17j, ...,\n",
              "         -2.08300252e-19-6.01724807e-21j,\n",
              "          9.51085526e-21-7.42781118e-19j,\n",
              "          3.10446849e-19+1.28910234e-19j],\n",
              "        [ 2.01162926e-18-1.41526487e-19j,\n",
              "          1.61221601e-02+0.00000000e+00j,\n",
              "         -2.71458906e-17-1.81567731e-17j, ...,\n",
              "         -1.45167434e-18-5.33802090e-18j,\n",
              "          2.75524899e-19-1.04269158e-19j,\n",
              "          1.36115401e-18-1.09681791e-18j],\n",
              "        [-2.06635439e-18-5.61330212e-17j,\n",
              "         -2.71458906e-17+1.81567731e-17j,\n",
              "          2.03372459e-02+0.00000000e+00j, ...,\n",
              "         -7.51048530e-20-8.03934840e-20j,\n",
              "          5.30553182e-19-3.08864482e-18j,\n",
              "          1.67540556e-19-3.64984282e-20j],\n",
              "        ...,\n",
              "        [-2.08300252e-19+6.01724807e-21j,\n",
              "         -1.45167434e-18+5.33802090e-18j,\n",
              "         -7.51048530e-20+8.03934840e-20j, ...,\n",
              "          1.09127541e-02+0.00000000e+00j,\n",
              "         -4.75222888e-17+2.01905898e-17j,\n",
              "         -7.49671945e-18+5.62008235e-18j],\n",
              "        [ 9.51085526e-21+7.42781118e-19j,\n",
              "          2.75524899e-19+1.04269158e-19j,\n",
              "          5.30553182e-19+3.08864482e-18j, ...,\n",
              "         -4.75222888e-17-2.01905898e-17j,\n",
              "          1.51278399e-02+0.00000000e+00j,\n",
              "          9.25697440e-19-1.38565479e-18j],\n",
              "        [ 3.10446849e-19-1.28910234e-19j,\n",
              "          1.36115401e-18+1.09681791e-18j,\n",
              "          1.67540556e-19+3.64984282e-20j, ...,\n",
              "         -7.49671945e-18-5.62008235e-18j,\n",
              "          9.25697440e-19+1.38565479e-18j,\n",
              "          1.51278399e-02+0.00000000e+00j]])"
            ]
          },
          "execution_count": 10,
          "metadata": {},
          "output_type": "execute_result"
        }
      ],
      "source": [
        "l2 = np.matrix(l2.reshape(2**N,2**N))\n",
        "l2d = l2.H\n",
        "\n",
        "l2*l2d"
      ]
    },
    {
      "cell_type": "code",
      "execution_count": 11,
      "metadata": {
        "colab": {
          "base_uri": "https://localhost:8080/"
        },
        "id": "MuIWSVRrEwxA",
        "outputId": "3af1421b-44cd-4d0f-e36c-d008ec145f5c"
      },
      "outputs": [
        {
          "data": {
            "text/plain": [
              "EigResult(eigenvalues=array([ 0.13465347-0.15836682j, -0.13465347+0.15836682j,\n",
              "       -0.13465347+0.15836682j, -0.13465347+0.15836682j,\n",
              "        0.13465347-0.15836682j,  0.13465347-0.15836682j,\n",
              "        0.13465347-0.15836682j, -0.13465347+0.15836682j,\n",
              "        0.02035905-0.13686046j,  0.02035905-0.13686046j,\n",
              "        0.02035905-0.13686046j,  0.02035905-0.13686046j,\n",
              "       -0.02035905+0.13686046j, -0.02035905+0.13686046j,\n",
              "       -0.02035905+0.13686046j, -0.02035905+0.13686046j,\n",
              "        0.09949589+0.05993148j,  0.09949589+0.05993148j,\n",
              "        0.09949589+0.05993148j,  0.09949589+0.05993148j,\n",
              "       -0.09949589-0.05993148j, -0.09949589-0.05993148j,\n",
              "       -0.09949589-0.05993148j, -0.09949589-0.05993148j,\n",
              "        0.11869186-0.05298587j,  0.11869186-0.05298587j,\n",
              "        0.11869186-0.05298587j,  0.11869186-0.05298587j,\n",
              "        0.1154575 -0.04544946j,  0.1154575 -0.04544946j,\n",
              "        0.1154575 -0.04544946j,  0.1154575 -0.04544946j,\n",
              "       -0.11869186+0.05298587j, -0.11869186+0.05298587j,\n",
              "       -0.11869186+0.05298587j, -0.11869186+0.05298587j,\n",
              "       -0.1154575 +0.04544946j, -0.1154575 +0.04544946j,\n",
              "       -0.1154575 +0.04544946j, -0.1154575 +0.04544946j,\n",
              "        0.01479852-0.08143784j,  0.01479852-0.08143784j,\n",
              "        0.01479852-0.08143784j,  0.01479852-0.08143784j,\n",
              "       -0.01479852+0.08143784j, -0.01479852+0.08143784j,\n",
              "       -0.01479852+0.08143784j, -0.01479852+0.08143784j,\n",
              "        0.00439745-0.03147952j,  0.00439745-0.03147952j,\n",
              "        0.00439745-0.03147952j,  0.00439745-0.03147952j,\n",
              "        0.00116308-0.02394311j,  0.00116308-0.02394311j,\n",
              "        0.00116308-0.02394311j,  0.00116308-0.02394311j,\n",
              "       -0.00439745+0.03147952j, -0.00439745+0.03147952j,\n",
              "       -0.00439745+0.03147952j, -0.00439745+0.03147952j,\n",
              "       -0.00116308+0.02394311j, -0.00116308+0.02394311j,\n",
              "       -0.00116308+0.02394311j, -0.00116308+0.02394311j]), eigenvectors=matrix([[ 0.1663568 +0.15524659j, -0.13338375-0.12447566j,\n",
              "         -0.01108729-0.05202368j, ..., -0.04861925+0.04348111j,\n",
              "         -0.09899363-0.11957054j, -0.04424132-0.13553998j],\n",
              "        [-0.05428214-0.0155942j ,  0.08160037+0.06864127j,\n",
              "         -0.14386551-0.05076383j, ..., -0.00601639-0.00824046j,\n",
              "         -0.12782877-0.11929167j, -0.10480066-0.0978015j ],\n",
              "        [ 0.32077781+0.j        ,  0.25719747+0.j        ,\n",
              "          0.06146503+0.04295469j, ...,  0.00828862-0.0915776j ,\n",
              "          0.21703504+0.02802185j,  0.17596385+0.09714319j],\n",
              "        ...,\n",
              "        [-0.00501703-0.02291328j, -0.02076527-0.05707161j,\n",
              "         -0.09824371-0.05418245j, ..., -0.11095596-0.06119339j,\n",
              "         -0.00126773+0.02627551j, -0.06938577+0.00763622j],\n",
              "        [-0.00800016+0.01979841j,  0.0122589 -0.06948903j,\n",
              "          0.0699099 -0.04203102j, ..., -0.07632338-0.12895462j,\n",
              "         -0.00704936+0.02087379j,  0.0622346 +0.05192217j],\n",
              "        [-0.02720948-0.01879029j,  0.07629499+0.03884885j,\n",
              "          0.15337007-0.03864978j, ...,  0.1732154 -0.04365087j,\n",
              "         -0.0239659 -0.02830046j,  0.06416845-0.07460748j]]))"
            ]
          },
          "execution_count": 11,
          "metadata": {},
          "output_type": "execute_result"
        }
      ],
      "source": [
        "np.linalg.eig(l2.reshape(2**N,2**N))"
      ]
    },
    {
      "cell_type": "code",
      "execution_count": null,
      "metadata": {
        "id": "9CO41ETa43Fr"
      },
      "outputs": [],
      "source": [
        "psi0 = qt.tensor(qt.basis(2,0),qt.basis(2,1))\n",
        "final_state = qt.steadystate(hamiltonian,c_ops)\n",
        "#final_state.full() # density matrix corresponding to zero eigen value\n",
        "\n",
        "tlist = omega*np.linspace(0, 10, 100)\n",
        "medata = qt.mesolve(hamiltonian, psi0, tlist, c_ops, [])"
      ]
    },
    {
      "cell_type": "code",
      "execution_count": null,
      "metadata": {
        "id": "M8vw-ZrK-_d4"
      },
      "outputs": [],
      "source": [
        "hilbert_distance = []\n",
        "\n",
        "for state in medata.states:\n",
        "  dis = qt.hilbert_dist(state,final_state)\n",
        "  hilbert_distance.append(dis)\n",
        "\n",
        "plt.plot(tlist,hilbert_distance)\n",
        "plt.xlabel('time')\n",
        "plt.ylabel('hilbert distance')\n",
        "plt.show()"
      ]
    },
    {
      "cell_type": "code",
      "execution_count": null,
      "metadata": {
        "id": "0DAFO6MJAhVd"
      },
      "outputs": [],
      "source": []
    }
  ],
  "metadata": {
    "colab": {
      "provenance": []
    },
    "kernelspec": {
      "display_name": "Python 3",
      "name": "python3"
    },
    "language_info": {
      "codemirror_mode": {
        "name": "ipython",
        "version": 3
      },
      "file_extension": ".py",
      "mimetype": "text/x-python",
      "name": "python",
      "nbconvert_exporter": "python",
      "pygments_lexer": "ipython3",
      "version": "3.11.7"
    }
  },
  "nbformat": 4,
  "nbformat_minor": 0
}
