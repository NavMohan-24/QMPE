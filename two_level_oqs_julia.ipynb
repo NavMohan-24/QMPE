{
 "cells": [
  {
   "cell_type": "code",
   "execution_count": 1,
   "metadata": {},
   "outputs": [],
   "source": [
    "using LinearAlgebra\n",
    "using QuantumOptics;"
   ]
  },
  {
   "cell_type": "code",
   "execution_count": 2,
   "metadata": {},
   "outputs": [],
   "source": [
    "delta = -1\n",
    "epsilon = 1\n",
    "gamma = 1;"
   ]
  },
  {
   "cell_type": "code",
   "execution_count": 4,
   "metadata": {},
   "outputs": [
    {
     "data": {
      "text/plain": [
       "2×2 Diagonal{Bool, Vector{Bool}}:\n",
       " 1  ⋅\n",
       " ⋅  1"
      ]
     },
     "metadata": {},
     "output_type": "display_data"
    }
   ],
   "source": [
    "I(2)"
   ]
  },
  {
   "cell_type": "code",
   "execution_count": 26,
   "metadata": {},
   "outputs": [
    {
     "data": {
      "text/plain": [
       "Operator(dim=2x2)\n",
       "  basis: Spin(1/2)sparse([2], [1], ComplexF64[1.0 + 0.0im], 2, 2)"
      ]
     },
     "metadata": {},
     "output_type": "display_data"
    }
   ],
   "source": [
    "b = SpinBasis(1/2)\n",
    "sx = 0.5*sigmax(b)\n",
    "sz = 0.5*sigmaz(b)\n",
    "sm = sigmam(b)\n"
   ]
  },
  {
   "cell_type": "code",
   "execution_count": 27,
   "metadata": {},
   "outputs": [
    {
     "data": {
      "text/plain": [
       "Operator(dim=2x2)\n",
       "  basis: Spin(1/2)sparse([2], [1], ComplexF64[1.0 + 0.0im], 2, 2)"
      ]
     },
     "metadata": {},
     "output_type": "display_data"
    }
   ],
   "source": [
    "Ham = delta*sz+epsilon*sx\n",
    "c_ops = sqrt(gamma)*sm"
   ]
  },
  {
   "cell_type": "code",
   "execution_count": 28,
   "metadata": {},
   "outputs": [
    {
     "data": {
      "text/plain": [
       "Operator(dim=2x2)\n",
       "  basis: Spin(1/2)\n",
       "Eye(2)"
      ]
     },
     "metadata": {},
     "output_type": "display_data"
    }
   ],
   "source": [
    "id=identityoperator(b)"
   ]
  },
  {
   "cell_type": "code",
   "execution_count": 50,
   "metadata": {},
   "outputs": [
    {
     "data": {
      "text/plain": [
       "Operator(dim=4x4)\n",
       "  basis: [Spin(1/2) ⊗ Spin(1/2)]\n",
       "  0.0+0.0im  -0.0-0.5im   0.0+0.5im   0.0+0.0im\n",
       " -0.0-0.5im  -0.0-1.0im   0.0+0.0im   0.0+0.5im\n",
       "  0.0+0.5im   0.0+0.0im   0.0+1.0im  -0.0-0.5im\n",
       "  0.0+0.0im   0.0+0.5im  -0.0-0.5im   0.0+0.0im"
      ]
     },
     "metadata": {},
     "output_type": "display_data"
    }
   ],
   "source": [
    "coherent = im*(tensor(id,Ham)-tensor(Ham',id))\n",
    "dense(coherent)"
   ]
  },
  {
   "cell_type": "code",
   "execution_count": 51,
   "metadata": {},
   "outputs": [
    {
     "data": {
      "text/plain": [
       "Operator(dim=4x4)\n",
       "  basis: [Spin(1/2) ⊗ Spin(1/2)]\n",
       " -1.0+0.0im   0.0+0.0im   0.0+0.0im  0.0+0.0im\n",
       "  0.0+0.0im  -0.5+0.0im   0.0+0.0im  0.0+0.0im\n",
       "  0.0+0.0im   0.0+0.0im  -0.5+0.0im  0.0+0.0im\n",
       "  1.0+0.0im   0.0+0.0im   0.0+0.0im  0.0+0.0im"
      ]
     },
     "metadata": {},
     "output_type": "display_data"
    }
   ],
   "source": [
    "dissipative = tensor((c_ops')',c_ops)-0.5(tensor(id,c_ops'*c_ops)+tensor((c_ops'*c_ops)',id))\n",
    "\n",
    "dense(dissipative)"
   ]
  },
  {
   "cell_type": "code",
   "execution_count": 52,
   "metadata": {},
   "outputs": [
    {
     "data": {
      "text/plain": [
       "Operator(dim=4x4)\n",
       "  basis: [Spin(1/2) ⊗ Spin(1/2)]sparse([1, 2, 3, 4, 1, 2, 4, 1, 3, 4, 2, 3], [1, 1, 1, 1, 2, 2, 2, 3, 3, 3, 4, 4], ComplexF64[-1.0 + 0.0im, 0.0 - 0.5im, 0.0 + 0.5im, 1.0 + 0.0im, 0.0 - 0.5im, -0.5 - 1.0im, 0.0 + 0.5im, 0.0 + 0.5im, -0.5 + 1.0im, 0.0 - 0.5im, 0.0 + 0.5im, 0.0 - 0.5im], 4, 4)"
      ]
     },
     "metadata": {},
     "output_type": "display_data"
    }
   ],
   "source": [
    "linb = coherent+dissipative"
   ]
  },
  {
   "cell_type": "code",
   "execution_count": 53,
   "metadata": {},
   "outputs": [
    {
     "data": {
      "text/plain": [
       "Operator(dim=4x4)\n",
       "  basis: [Spin(1/2) ⊗ Spin(1/2)]\n",
       " -1.0+0.0im   0.0-0.5im   0.0+0.5im  0.0+0.0im\n",
       "  0.0-0.5im  -0.5-1.0im   0.0+0.0im  0.0+0.5im\n",
       "  0.0+0.5im   0.0+0.0im  -0.5+1.0im  0.0-0.5im\n",
       "  1.0+0.0im   0.0+0.5im   0.0-0.5im  0.0+0.0im"
      ]
     },
     "metadata": {},
     "output_type": "display_data"
    }
   ],
   "source": [
    "dense(linb)"
   ]
  },
  {
   "cell_type": "code",
   "execution_count": 54,
   "metadata": {},
   "outputs": [
    {
     "name": "stderr",
     "output_type": "stream",
     "text": [
      "┌ Warning: The given operator is not hermitian. If this is due to a numerical error make the operator hermitian first by calculating (x+dagger(x))/2 first.\n",
      "└ @ QuantumOptics C:\\Users\\navan\\.julia\\packages\\QuantumOptics\\ItxYh\\src\\spectralanalysis.jl:138\n"
     ]
    },
    {
     "data": {
      "text/plain": [
       "(ComplexF64[-0.7580558724784723 - 1.8695182834100262e-16im, -0.6209720637607636 - 1.3866977525296753im, -0.620972063760763 + 1.3866977525296744im, 2.731351152464545e-16 + 1.4792483108324518e-17im], Ket{CompositeBasis{Vector{Int64}, Tuple{SpinBasis{1//2, Int64}, SpinBasis{1//2, Int64}}}, Vector{ComplexF64}}[Ket(dim=4)\n",
       "  basis: [Spin(1/2) ⊗ Spin(1/2)]\n",
       "  0.5079920004079521 + 0.0im\n",
       " -0.4762754675806507 + 0.12290568132661751im\n",
       " -0.4762754675806504 - 0.12290568132661754im\n",
       " -0.5079920004079518 + 1.4e-16im, Ket(dim=4)\n",
       "  basis: [Spin(1/2) ⊗ Spin(1/2)]\n",
       "   0.3319465030898676 - 0.10384403135073415im\n",
       "   0.8584133238901985 + 0.0im\n",
       " -0.14092519348667215 + 0.0363665737594006im\n",
       "  -0.3319465030898674 + 0.10384403135073426im, Ket(dim=4)\n",
       "  basis: [Spin(1/2) ⊗ Spin(1/2)]\n",
       "    0.331946503089867 + 0.10384403135073374im\n",
       " -0.14092519348667232 - 0.03636657375940064im\n",
       "   0.8584133238901984 + 0.0im\n",
       " -0.33194650308986795 - 0.1038440313507343im, Ket(dim=4)\n",
       "  basis: [Spin(1/2) ⊗ Spin(1/2)]\n",
       " 0.14586499149789459 + 2.2e-16im\n",
       " 0.29172998299578917 + 0.14586499149789428im\n",
       "  0.2917299829957891 - 0.1458649914978946im\n",
       "  0.8751899489873673 + 0.0im])"
      ]
     },
     "metadata": {},
     "output_type": "display_data"
    }
   ],
   "source": [
    "eigenstates(dense(linb))"
   ]
  },
  {
   "cell_type": "code",
   "execution_count": null,
   "metadata": {},
   "outputs": [],
   "source": []
  }
 ],
 "metadata": {
  "kernelspec": {
   "display_name": "Julia 1.10.0",
   "language": "julia",
   "name": "julia-1.10"
  },
  "language_info": {
   "file_extension": ".jl",
   "mimetype": "application/julia",
   "name": "julia",
   "version": "1.10.0"
  }
 },
 "nbformat": 4,
 "nbformat_minor": 2
}
