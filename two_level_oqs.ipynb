{
 "cells": [
  {
   "cell_type": "code",
   "execution_count": 55,
   "metadata": {},
   "outputs": [],
   "source": [
    "import qutip as qt\n",
    "import numpy as np\n",
    "import scipy as sp"
   ]
  },
  {
   "cell_type": "code",
   "execution_count": 154,
   "metadata": {},
   "outputs": [],
   "source": [
    "sx = 0.5*qt.operators.sigmax()\n",
    "sz = 0.5*qt.operators.sigmaz()\n",
    "I = qt.operators.identity(2)\n",
    "sm = qt.operators.sigmam()"
   ]
  },
  {
   "cell_type": "code",
   "execution_count": 155,
   "metadata": {},
   "outputs": [],
   "source": [
    "def hamiltonian_two_level(N,omega,delta):\n",
    "  sx = 0.5*qt.operators.sigmax()\n",
    "  sz = 0.5*qt.operators.sigmaz()\n",
    "  I = qt.operators.identity(2)\n",
    "\n",
    "  ham = qt.tensor([I*0]*N)\n",
    "  for i in range(N):\n",
    "    hz = qt.tensor([sz if j==i else I for j in range(N)])\n",
    "    hx = qt.tensor([sx if j==i else I for j in range(N)])\n",
    "    ham += delta*hz+omega*hx\n",
    "    \n",
    "  \n",
    "  return(ham)"
   ]
  },
  {
   "cell_type": "code",
   "execution_count": 156,
   "metadata": {},
   "outputs": [
    {
     "data": {
      "text/latex": [
       "Quantum object: dims = [[2], [2]], shape = (2, 2), type = oper, isherm = True $ \\\\ \\left(\\begin{matrix}-0.500 & 0.500\\\\0.500 & 0.500\\\\\\end{matrix}\\right)$"
      ],
      "text/plain": [
       "Quantum object: dims = [[2], [2]], shape = (2, 2), type = oper, isherm = True\n",
       "Qobj data =\n",
       "[[-0.5  0.5]\n",
       " [ 0.5  0.5]]"
      ]
     },
     "execution_count": 156,
     "metadata": {},
     "output_type": "execute_result"
    }
   ],
   "source": [
    "# one spin ising Hamiltonian\n",
    "N = 1\n",
    "omega = 1\n",
    "delta = -1\n",
    "\n",
    "ham = hamiltonian_two_level(N,omega,delta)\n",
    "ham"
   ]
  },
  {
   "cell_type": "raw",
   "metadata": {
    "vscode": {
     "languageId": "raw"
    }
   },
   "source": [
    "#validation\n",
    "ham = delta*sz+omega*sx\n",
    "ham"
   ]
  },
  {
   "cell_type": "code",
   "execution_count": 157,
   "metadata": {},
   "outputs": [
    {
     "data": {
      "text/latex": [
       "Quantum object: dims = [[2, 2], [2, 2]], shape = (4, 4), type = oper, isherm = False $ \\\\ \\left(\\begin{matrix}0.0 & -0.500j & 0.500j & 0.0\\\\-0.500j & -1.0j & 0.0 & 0.500j\\\\0.500j & 0.0 & 1.0j & -0.500j\\\\0.0 & 0.500j & -0.500j & 0.0\\\\\\end{matrix}\\right)$"
      ],
      "text/plain": [
       "Quantum object: dims = [[2, 2], [2, 2]], shape = (4, 4), type = oper, isherm = False\n",
       "Qobj data =\n",
       "[[0.+0.j  0.-0.5j 0.+0.5j 0.+0.j ]\n",
       " [0.-0.5j 0.-1.j  0.+0.j  0.+0.5j]\n",
       " [0.+0.5j 0.+0.j  0.+1.j  0.-0.5j]\n",
       " [0.+0.j  0.+0.5j 0.-0.5j 0.+0.j ]]"
      ]
     },
     "execution_count": 157,
     "metadata": {},
     "output_type": "execute_result"
    }
   ],
   "source": [
    "# coherent part\n",
    "I = qt.operators.identity(2)\n",
    "Id = qt.tensor([I]*N)\n",
    "coherent = -1j*(qt.tensor(Id,ham)-qt.tensor(ham.trans(),Id))\n",
    "coherent"
   ]
  },
  {
   "cell_type": "code",
   "execution_count": 158,
   "metadata": {},
   "outputs": [
    {
     "data": {
      "text/latex": [
       "Quantum object: dims = [[2, 2], [2, 2]], shape = (4, 4), type = oper, isherm = False $ \\\\ \\left(\\begin{matrix}-1.0 & 0.0 & 0.0 & 0.0\\\\0.0 & -0.500 & 0.0 & 0.0\\\\0.0 & 0.0 & -0.500 & 0.0\\\\1.0 & 0.0 & 0.0 & 0.0\\\\\\end{matrix}\\right)$"
      ],
      "text/plain": [
       "Quantum object: dims = [[2, 2], [2, 2]], shape = (4, 4), type = oper, isherm = False\n",
       "Qobj data =\n",
       "[[-1.   0.   0.   0. ]\n",
       " [ 0.  -0.5  0.   0. ]\n",
       " [ 0.   0.  -0.5  0. ]\n",
       " [ 1.   0.   0.   0. ]]"
      ]
     },
     "execution_count": 158,
     "metadata": {},
     "output_type": "execute_result"
    }
   ],
   "source": [
    "# dissipative part\n",
    "kappa = 1\n",
    "c_ops = [qt.tensor([sm if i==j  else I for j in range(N)]) for i in range(N)]\n",
    "c_ops = [np.sqrt(kappa) * c_op for c_op in c_ops]\n",
    "c_tops = [c.dag() for c in c_ops]\n",
    "dissipative_part = sum([qt.tensor(Ad.trans(),A)-0.5*qt.tensor(Id,Ad*A)-0.5*qt.tensor((Ad*A).trans(),Id) for Ad,A in zip(c_tops,c_ops)])\n",
    "dissipative_part"
   ]
  },
  {
   "cell_type": "code",
   "execution_count": 159,
   "metadata": {},
   "outputs": [
    {
     "data": {
      "text/latex": [
       "Quantum object: dims = [[2, 2], [2, 2]], shape = (4, 4), type = oper, isherm = False $ \\\\ \\left(\\begin{matrix}-1.0 & -0.500j & 0.500j & 0.0\\\\-0.500j & (-0.500-1.0j) & 0.0 & 0.500j\\\\0.500j & 0.0 & (-0.500+1.0j) & -0.500j\\\\1.0 & 0.500j & -0.500j & 0.0\\\\\\end{matrix}\\right)$"
      ],
      "text/plain": [
       "Quantum object: dims = [[2, 2], [2, 2]], shape = (4, 4), type = oper, isherm = False\n",
       "Qobj data =\n",
       "[[-1. +0.j   0. -0.5j  0. +0.5j  0. +0.j ]\n",
       " [ 0. -0.5j -0.5-1.j   0. +0.j   0. +0.5j]\n",
       " [ 0. +0.5j  0. +0.j  -0.5+1.j   0. -0.5j]\n",
       " [ 1. +0.j   0. +0.5j  0. -0.5j  0. +0.j ]]"
      ]
     },
     "execution_count": 159,
     "metadata": {},
     "output_type": "execute_result"
    }
   ],
   "source": [
    "Linbladian = coherent+dissipative_part\n",
    "Linbladian"
   ]
  },
  {
   "cell_type": "raw",
   "metadata": {
    "vscode": {
     "languageId": "raw"
    }
   },
   "source": [
    "# validation\n",
    "l= qt.liouvillian(ham,c_ops)\n",
    "l"
   ]
  },
  {
   "cell_type": "code",
   "execution_count": 160,
   "metadata": {},
   "outputs": [],
   "source": [
    "eigvals, eigmat = Linbladian.eigenstates()"
   ]
  },
  {
   "cell_type": "code",
   "execution_count": null,
   "metadata": {},
   "outputs": [
    {
     "name": "stdout",
     "output_type": "stream",
     "text": [
      "3\n",
      "[[0.14586499+0.j         0.29172998-0.14586499j]\n",
      " [0.29172998+0.14586499j 0.87518995+0.j        ]]\n"
     ]
    }
   ],
   "source": [
    "idx = np.argsort(abs(eigvals))[0] # minimum eigen value is zero which corresponds to steady state solutions\n",
    "print(idx)\n",
    "\n",
    "rho_00 = eigmat[idx].full().reshape(2**N,2**N)\n",
    "print(rho_00)"
   ]
  },
  {
   "cell_type": "code",
   "execution_count": 180,
   "metadata": {},
   "outputs": [
    {
     "data": {
      "text/plain": [
       "array([[-1.38777878e-16-2.77555756e-17j],\n",
       "       [-3.05311332e-16+5.55111512e-17j],\n",
       "       [ 5.55111512e-17+5.55111512e-17j],\n",
       "       [ 1.38777878e-16+2.77555756e-17j]])"
      ]
     },
     "execution_count": 180,
     "metadata": {},
     "output_type": "execute_result"
    }
   ],
   "source": [
    "# checking the eigen value equation\n",
    "\n",
    "Linbladian*rho_00.reshape(2**N*2**N,1) # zero vector"
   ]
  },
  {
   "cell_type": "code",
   "execution_count": null,
   "metadata": {},
   "outputs": [
    {
     "data": {
      "text/latex": [
       "Quantum object: dims = [[2], [2]], shape = (2, 2), type = oper, isherm = True $ \\\\ \\left(\\begin{matrix}0.143 & (0.286-0.143j)\\\\(0.286+0.143j) & 0.857\\\\\\end{matrix}\\right)$"
      ],
      "text/plain": [
       "Quantum object: dims = [[2], [2]], shape = (2, 2), type = oper, isherm = True\n",
       "Qobj data =\n",
       "[[0.14285714+0.j         0.28571429-0.14285714j]\n",
       " [0.28571429+0.14285714j 0.85714286+0.j        ]]"
      ]
     },
     "execution_count": 139,
     "metadata": {},
     "output_type": "execute_result"
    }
   ],
   "source": [
    "# checking the steady state solution\n",
    "qt.steadystate(ham,c_ops) # why the off-diagonal elements are interchanged? - the result is the transposed version of what i got"
   ]
  },
  {
   "cell_type": "markdown",
   "metadata": {},
   "source": [
    "# EVD using Numpy"
   ]
  },
  {
   "cell_type": "code",
   "execution_count": 172,
   "metadata": {},
   "outputs": [],
   "source": [
    "val,mat = np.linalg.eig(Linbladian)"
   ]
  },
  {
   "cell_type": "code",
   "execution_count": 176,
   "metadata": {},
   "outputs": [
    {
     "name": "stdout",
     "output_type": "stream",
     "text": [
      "2\n",
      "[[-0.14092519+0.03636657j  0.85841332+0.j        ]\n",
      " [ 0.29172998-0.14586499j -0.47627547-0.12290568j]]\n"
     ]
    }
   ],
   "source": [
    "indx = np.argsort(abs(val))[0]\n",
    "print(indx)\n",
    "\n",
    "print(mat[indx].reshape(2**N,2**N))"
   ]
  },
  {
   "cell_type": "markdown",
   "metadata": {},
   "source": [
    "The matrix is not physical, the trace of the matrix is not equal to one and matrix is not hermitian"
   ]
  },
  {
   "cell_type": "code",
   "execution_count": null,
   "metadata": {},
   "outputs": [
    {
     "data": {
      "text/plain": [
       "array([[ 0.22832962-0.j        , -0.9317418 -0.11816659j],\n",
       "       [-0.9317418 +0.11816659j,  0.77167038-0.j        ]])"
      ]
     },
     "execution_count": 177,
     "metadata": {},
     "output_type": "execute_result"
    }
   ],
   "source": [
    "# enforcing Hermicity and trace preservation\n",
    "\n",
    "m = mat[indx].reshape(2**N,2**N)\n",
    "rho = (m+(m.conj()).T)/2\n",
    "rho_0 = rho/np.trace(rho)\n",
    "rho_0"
   ]
  },
  {
   "cell_type": "markdown",
   "metadata": {},
   "source": [
    "Not same as the steady state we got"
   ]
  },
  {
   "cell_type": "code",
   "execution_count": 178,
   "metadata": {},
   "outputs": [
    {
     "name": "stdout",
     "output_type": "stream",
     "text": [
      "[[-0.34649621+0.j        ]\n",
      " [ 0.34770431+1.26249547j]\n",
      " [ 0.34770431-1.26249547j]\n",
      " [ 0.34649621+0.j        ]]\n"
     ]
    }
   ],
   "source": [
    "# Checking the eigen value equation\n",
    "\n",
    "print(Linbladian*rho_0.reshape(4,1))"
   ]
  },
  {
   "cell_type": "markdown",
   "metadata": {},
   "source": [
    "The reseult should be a zero vector ideally"
   ]
  },
  {
   "cell_type": "code",
   "execution_count": 181,
   "metadata": {},
   "outputs": [
    {
     "data": {
      "text/plain": [
       "array([[ 6.23648376e-17+3.37756207e-18j],\n",
       "       [-2.52743426e-16-4.60582192e-17j],\n",
       "       [-2.56239381e-16+1.84926696e-17j],\n",
       "       [ 2.10770278e-16+1.14149210e-17j]])"
      ]
     },
     "execution_count": 181,
     "metadata": {},
     "output_type": "execute_result"
    }
   ],
   "source": [
    "val[indx]*rho_0.reshape(4,1)"
   ]
  },
  {
   "cell_type": "markdown",
   "metadata": {},
   "source": [
    "## Checking diagonalization using Scipy"
   ]
  },
  {
   "cell_type": "code",
   "execution_count": 182,
   "metadata": {},
   "outputs": [],
   "source": [
    "import scipy as sp"
   ]
  },
  {
   "cell_type": "code",
   "execution_count": 183,
   "metadata": {},
   "outputs": [
    {
     "data": {
      "text/plain": [
       "(array([ 2.39414570e-17, -7.58055872e-01]),\n",
       " array([[-0.04927787-0.13728906j,  0.17136662-0.47821476j],\n",
       "        [ 0.03873333-0.323856j  , -0.04496608+0.48981852j],\n",
       "        [-0.2358448 -0.22530026j, -0.27636858+0.40689622j],\n",
       "        [-0.29566722-0.82373439j, -0.17136662+0.47821476j]]))"
      ]
     },
     "execution_count": 183,
     "metadata": {},
     "output_type": "execute_result"
    }
   ],
   "source": [
    "sp.sparse.linalg.eigsh(Linbladian.full(),k=2, which='SM') # works only with Hermitian matrix"
   ]
  },
  {
   "cell_type": "code",
   "execution_count": 184,
   "metadata": {},
   "outputs": [
    {
     "data": {
      "text/plain": [
       "(array([-6.20972064e-01-1.38669775e+00j, -6.20972064e-01+1.38669775e+00j,\n",
       "         2.73135115e-16+1.47924831e-17j, -7.58055872e-01-1.86951828e-16j]),\n",
       " array([[ 0.3319465 -1.03844031e-01j,  0.3319465 +1.03844031e-01j,\n",
       "          0.14586499+2.18575158e-16j,  0.507992  +0.00000000e+00j],\n",
       "        [ 0.85841332+0.00000000e+00j, -0.14092519-3.63665738e-02j,\n",
       "          0.29172998+1.45864991e-01j, -0.47627547+1.22905681e-01j],\n",
       "        [-0.14092519+3.63665738e-02j,  0.85841332+0.00000000e+00j,\n",
       "          0.29172998-1.45864991e-01j, -0.47627547-1.22905681e-01j],\n",
       "        [-0.3319465 +1.03844031e-01j, -0.3319465 -1.03844031e-01j,\n",
       "          0.87518995+0.00000000e+00j, -0.507992  +1.38777878e-16j]]))"
      ]
     },
     "execution_count": 184,
     "metadata": {},
     "output_type": "execute_result"
    }
   ],
   "source": [
    "sp.linalg.eig(Linbladian.full())"
   ]
  },
  {
   "cell_type": "markdown",
   "metadata": {},
   "source": [
    "same problem as Numpy"
   ]
  },
  {
   "cell_type": "markdown",
   "metadata": {},
   "source": [
    "### Checking the Diagonalization of Linbladian"
   ]
  },
  {
   "cell_type": "code",
   "execution_count": 196,
   "metadata": {},
   "outputs": [],
   "source": [
    "import sympy as sp"
   ]
  },
  {
   "cell_type": "code",
   "execution_count": 197,
   "metadata": {},
   "outputs": [],
   "source": [
    "e = sp.symbols('\\epsilon')\n",
    "d = sp.symbols('\\Delta')\n",
    "g = sp.symbols('\\gamma')"
   ]
  },
  {
   "cell_type": "code",
   "execution_count": 198,
   "metadata": {},
   "outputs": [],
   "source": [
    "# Hardcoding Linbladian\n",
    "\n",
    "L = sp.Matrix([[-g,-1j*e/2,1j*e/2,0],\n",
    "               [-1j*e/2, -0.5*g+1j*d,0,1j*e/2],\n",
    "               [1j*e/2,0,-0.5*g-1j*d,-1j*e/2],\n",
    "\n",
    "               [g,1j*e/2,-1j*e/2,0]])"
   ]
  },
  {
   "cell_type": "code",
   "execution_count": 199,
   "metadata": {},
   "outputs": [
    {
     "data": {
      "text/plain": [
       "{-0.666666666666667*\\gamma - 0.139991227766097*(-3.0*\\Delta**2 - 3.0*\\epsilon**2 + 0.25*\\gamma**2)/(\\Delta**2*\\gamma + 0.5*\\epsilon**2*\\gamma + 0.842592592592593*\\gamma**3 - 0.666666666666667*\\gamma*(1.0*\\Delta**2 + 1.0*\\epsilon**2 + 1.25*\\gamma**2) + sqrt(-0.148148148148148*(-\\Delta**2 - \\epsilon**2 + 0.0833333333333333*\\gamma**2)**3 + (\\Delta**2*\\gamma + 0.5*\\epsilon**2*\\gamma + 0.842592592592593*\\gamma**3 - 0.666666666666667*\\gamma*(1.0*\\Delta**2 + 1.0*\\epsilon**2 + 1.25*\\gamma**2))**2))**(1/3) - 0.7937005259841*(\\Delta**2*\\gamma + 0.5*\\epsilon**2*\\gamma + 0.842592592592593*\\gamma**3 - 0.666666666666667*\\gamma*(1.0*\\Delta**2 + 1.0*\\epsilon**2 + 1.25*\\gamma**2) + sqrt(-0.148148148148148*(-\\Delta**2 - \\epsilon**2 + 0.0833333333333333*\\gamma**2)**3 + (\\Delta**2*\\gamma + 0.5*\\epsilon**2*\\gamma + 0.842592592592593*\\gamma**3 - 0.666666666666667*\\gamma*(1.0*\\Delta**2 + 1.0*\\epsilon**2 + 1.25*\\gamma**2))**2))**(1/3): 1,\n",
       " -0.666666666666667*\\gamma - 0.139991227766097*(-3.0*\\Delta**2 - 3.0*\\epsilon**2 + 0.25*\\gamma**2)/((-1/2 + sqrt(3)*I/2)*(\\Delta**2*\\gamma + 0.5*\\epsilon**2*\\gamma + 0.842592592592593*\\gamma**3 - 0.666666666666667*\\gamma*(1.0*\\Delta**2 + 1.0*\\epsilon**2 + 1.25*\\gamma**2) + sqrt(-0.148148148148148*(-\\Delta**2 - \\epsilon**2 + 0.0833333333333333*\\gamma**2)**3 + (\\Delta**2*\\gamma + 0.5*\\epsilon**2*\\gamma + 0.842592592592593*\\gamma**3 - 0.666666666666667*\\gamma*(1.0*\\Delta**2 + 1.0*\\epsilon**2 + 1.25*\\gamma**2))**2))**(1/3)) - 0.7937005259841*(-1/2 + sqrt(3)*I/2)*(\\Delta**2*\\gamma + 0.5*\\epsilon**2*\\gamma + 0.842592592592593*\\gamma**3 - 0.666666666666667*\\gamma*(1.0*\\Delta**2 + 1.0*\\epsilon**2 + 1.25*\\gamma**2) + sqrt(-0.148148148148148*(-\\Delta**2 - \\epsilon**2 + 0.0833333333333333*\\gamma**2)**3 + (\\Delta**2*\\gamma + 0.5*\\epsilon**2*\\gamma + 0.842592592592593*\\gamma**3 - 0.666666666666667*\\gamma*(1.0*\\Delta**2 + 1.0*\\epsilon**2 + 1.25*\\gamma**2))**2))**(1/3): 1,\n",
       " -0.666666666666667*\\gamma - 0.139991227766097*(-3.0*\\Delta**2 - 3.0*\\epsilon**2 + 0.25*\\gamma**2)/((-1/2 - sqrt(3)*I/2)*(\\Delta**2*\\gamma + 0.5*\\epsilon**2*\\gamma + 0.842592592592593*\\gamma**3 - 0.666666666666667*\\gamma*(1.0*\\Delta**2 + 1.0*\\epsilon**2 + 1.25*\\gamma**2) + sqrt(-0.148148148148148*(-\\Delta**2 - \\epsilon**2 + 0.0833333333333333*\\gamma**2)**3 + (\\Delta**2*\\gamma + 0.5*\\epsilon**2*\\gamma + 0.842592592592593*\\gamma**3 - 0.666666666666667*\\gamma*(1.0*\\Delta**2 + 1.0*\\epsilon**2 + 1.25*\\gamma**2))**2))**(1/3)) - 0.7937005259841*(-1/2 - sqrt(3)*I/2)*(\\Delta**2*\\gamma + 0.5*\\epsilon**2*\\gamma + 0.842592592592593*\\gamma**3 - 0.666666666666667*\\gamma*(1.0*\\Delta**2 + 1.0*\\epsilon**2 + 1.25*\\gamma**2) + sqrt(-0.148148148148148*(-\\Delta**2 - \\epsilon**2 + 0.0833333333333333*\\gamma**2)**3 + (\\Delta**2*\\gamma + 0.5*\\epsilon**2*\\gamma + 0.842592592592593*\\gamma**3 - 0.666666666666667*\\gamma*(1.0*\\Delta**2 + 1.0*\\epsilon**2 + 1.25*\\gamma**2))**2))**(1/3): 1,\n",
       " 0: 1}"
      ]
     },
     "execution_count": 199,
     "metadata": {},
     "output_type": "execute_result"
    }
   ],
   "source": [
    "vals = L.eigenvals()\n",
    "vals"
   ]
  },
  {
   "cell_type": "code",
   "execution_count": 200,
   "metadata": {},
   "outputs": [],
   "source": [
    "eig_vals = [keys.subs({d:-1,g:1,e:1}) for keys in vals.keys()] # substiuting values"
   ]
  },
  {
   "cell_type": "code",
   "execution_count": 201,
   "metadata": {},
   "outputs": [],
   "source": [
    "eig_mat = L.eigenvects()"
   ]
  },
  {
   "cell_type": "code",
   "execution_count": 202,
   "metadata": {},
   "outputs": [
    {
     "data": {
      "text/plain": [
       "[(0,\n",
       "  1,\n",
       "  [Matrix([\n",
       "   [                               \\epsilon**2/(4.0*\\Delta**2 + \\epsilon**2 + \\gamma**2)],\n",
       "   [(-2.0*\\Delta*\\epsilon + I*\\epsilon*\\gamma)/(4.0*\\Delta**2 + \\epsilon**2 + \\gamma**2)],\n",
       "   [(-2.0*\\Delta*\\epsilon - I*\\epsilon*\\gamma)/(4.0*\\Delta**2 + \\epsilon**2 + \\gamma**2)],\n",
       "   [                                                                                 1.0]])]),\n",
       " (-0.666666666666667*\\gamma - 0.139991227766097*(-3.0*\\Delta**2 - 3.0*\\epsilon**2 + 0.25*\\gamma**2)/(\\Delta**2*\\gamma + 0.5*\\epsilon**2*\\gamma + 0.842592592592593*\\gamma**3 - 0.666666666666667*\\gamma*(\\Delta**2 + \\epsilon**2 + 1.25*\\gamma**2) + (-0.148148148148148*(-\\Delta**2 - \\epsilon**2 + 0.0833333333333333*\\gamma**2)**3 + (\\Delta**2*\\gamma + 0.5*\\epsilon**2*\\gamma + 0.842592592592593*\\gamma**3 - 0.666666666666667*\\gamma*(\\Delta**2 + \\epsilon**2 + 1.25*\\gamma**2))**2)**0.5)**0.333333333333333 - 0.7937005259841*(\\Delta**2*\\gamma + 0.5*\\epsilon**2*\\gamma + 0.842592592592593*\\gamma**3 - 0.666666666666667*\\gamma*(\\Delta**2 + \\epsilon**2 + 1.25*\\gamma**2) + (-0.148148148148148*(-\\Delta**2 - \\epsilon**2 + 0.0833333333333333*\\gamma**2)**3 + (\\Delta**2*\\gamma + 0.5*\\epsilon**2*\\gamma + 0.842592592592593*\\gamma**3 - 0.666666666666667*\\gamma*(\\Delta**2 + \\epsilon**2 + 1.25*\\gamma**2))**2)**0.5)**0.333333333333333,\n",
       "  1,\n",
       "  [Matrix([\n",
       "   [                                                                                                                                                                                                                                                                                                                                                                                                                                                                                                                                                                                                                                                                                                                                                                                                                                                                                                                                                                                                                                                                                                                                                                                                                                                                                                                                                                                                                                                                                                                                                                                                                                                                                                                                                                                                                                                                                                                                                                                                                                                                    -1.0],\n",
       "   [0.5*(-2.0*I*\\Delta - 3.0*\\gamma)*(-0.666666666666667*\\gamma - 0.139991227766097*(-3.0*\\Delta**2 - 3.0*\\epsilon**2 + 0.25*\\gamma**2)/(\\Delta**2*\\gamma + 0.5*\\epsilon**2*\\gamma + 0.842592592592593*\\gamma**3 - 0.666666666666667*\\gamma*(\\Delta**2 + \\epsilon**2 + 1.25*\\gamma**2) + (-0.148148148148148*(-\\Delta**2 - \\epsilon**2 + 0.0833333333333333*\\gamma**2)**3 + (\\Delta**2*\\gamma + 0.5*\\epsilon**2*\\gamma + 0.842592592592593*\\gamma**3 - 0.666666666666667*\\gamma*(\\Delta**2 + \\epsilon**2 + 1.25*\\gamma**2))**2)**0.5)**0.333333333333333 - 0.7937005259841*(\\Delta**2*\\gamma + 0.5*\\epsilon**2*\\gamma + 0.842592592592593*\\gamma**3 - 0.666666666666667*\\gamma*(\\Delta**2 + \\epsilon**2 + 1.25*\\gamma**2) + (-0.148148148148148*(-\\Delta**2 - \\epsilon**2 + 0.0833333333333333*\\gamma**2)**3 + (\\Delta**2*\\gamma + 0.5*\\epsilon**2*\\gamma + 0.842592592592593*\\gamma**3 - 0.666666666666667*\\gamma*(\\Delta**2 + \\epsilon**2 + 1.25*\\gamma**2))**2)**0.5)**0.333333333333333)/(\\Delta*\\epsilon) - 0.629960524947436*(-0.839947366596582*\\gamma - 0.176377894663133*(-3.0*\\Delta**2 - 3.0*\\epsilon**2 + 0.25*\\gamma**2)/(\\Delta**2*\\gamma + 0.5*\\epsilon**2*\\gamma + 0.842592592592593*\\gamma**3 - 0.666666666666667*\\gamma*(\\Delta**2 + \\epsilon**2 + 1.25*\\gamma**2) + (-0.148148148148148*(-\\Delta**2 - \\epsilon**2 + 0.0833333333333333*\\gamma**2)**3 + (\\Delta**2*\\gamma + 0.5*\\epsilon**2*\\gamma + 0.842592592592593*\\gamma**3 - 0.666666666666667*\\gamma*(\\Delta**2 + \\epsilon**2 + 1.25*\\gamma**2))**2)**0.5)**0.333333333333333 - (\\Delta**2*\\gamma + 0.5*\\epsilon**2*\\gamma + 0.842592592592593*\\gamma**3 - 0.666666666666667*\\gamma*(\\Delta**2 + \\epsilon**2 + 1.25*\\gamma**2) + (-0.148148148148148*(-\\Delta**2 - \\epsilon**2 + 0.0833333333333333*\\gamma**2)**3 + (\\Delta**2*\\gamma + 0.5*\\epsilon**2*\\gamma + 0.842592592592593*\\gamma**3 - 0.666666666666667*\\gamma*(\\Delta**2 + \\epsilon**2 + 1.25*\\gamma**2))**2)**0.5)**0.333333333333333)**2/(\\Delta*\\epsilon) + 0.5*(-2.0*I*\\Delta*\\gamma - 2.0*\\epsilon**2 - \\gamma**2)/(\\Delta*\\epsilon)],\n",
       "   [  0.5*(2.0*I*\\Delta - 3.0*\\gamma)*(-0.666666666666667*\\gamma - 0.139991227766097*(-3.0*\\Delta**2 - 3.0*\\epsilon**2 + 0.25*\\gamma**2)/(\\Delta**2*\\gamma + 0.5*\\epsilon**2*\\gamma + 0.842592592592593*\\gamma**3 - 0.666666666666667*\\gamma*(\\Delta**2 + \\epsilon**2 + 1.25*\\gamma**2) + (-0.148148148148148*(-\\Delta**2 - \\epsilon**2 + 0.0833333333333333*\\gamma**2)**3 + (\\Delta**2*\\gamma + 0.5*\\epsilon**2*\\gamma + 0.842592592592593*\\gamma**3 - 0.666666666666667*\\gamma*(\\Delta**2 + \\epsilon**2 + 1.25*\\gamma**2))**2)**0.5)**0.333333333333333 - 0.7937005259841*(\\Delta**2*\\gamma + 0.5*\\epsilon**2*\\gamma + 0.842592592592593*\\gamma**3 - 0.666666666666667*\\gamma*(\\Delta**2 + \\epsilon**2 + 1.25*\\gamma**2) + (-0.148148148148148*(-\\Delta**2 - \\epsilon**2 + 0.0833333333333333*\\gamma**2)**3 + (\\Delta**2*\\gamma + 0.5*\\epsilon**2*\\gamma + 0.842592592592593*\\gamma**3 - 0.666666666666667*\\gamma*(\\Delta**2 + \\epsilon**2 + 1.25*\\gamma**2))**2)**0.5)**0.333333333333333)/(\\Delta*\\epsilon) - 0.629960524947436*(-0.839947366596582*\\gamma - 0.176377894663133*(-3.0*\\Delta**2 - 3.0*\\epsilon**2 + 0.25*\\gamma**2)/(\\Delta**2*\\gamma + 0.5*\\epsilon**2*\\gamma + 0.842592592592593*\\gamma**3 - 0.666666666666667*\\gamma*(\\Delta**2 + \\epsilon**2 + 1.25*\\gamma**2) + (-0.148148148148148*(-\\Delta**2 - \\epsilon**2 + 0.0833333333333333*\\gamma**2)**3 + (\\Delta**2*\\gamma + 0.5*\\epsilon**2*\\gamma + 0.842592592592593*\\gamma**3 - 0.666666666666667*\\gamma*(\\Delta**2 + \\epsilon**2 + 1.25*\\gamma**2))**2)**0.5)**0.333333333333333 - (\\Delta**2*\\gamma + 0.5*\\epsilon**2*\\gamma + 0.842592592592593*\\gamma**3 - 0.666666666666667*\\gamma*(\\Delta**2 + \\epsilon**2 + 1.25*\\gamma**2) + (-0.148148148148148*(-\\Delta**2 - \\epsilon**2 + 0.0833333333333333*\\gamma**2)**3 + (\\Delta**2*\\gamma + 0.5*\\epsilon**2*\\gamma + 0.842592592592593*\\gamma**3 - 0.666666666666667*\\gamma*(\\Delta**2 + \\epsilon**2 + 1.25*\\gamma**2))**2)**0.5)**0.333333333333333)**2/(\\Delta*\\epsilon) + 0.5*(2.0*I*\\Delta*\\gamma - 2.0*\\epsilon**2 - \\gamma**2)/(\\Delta*\\epsilon)],\n",
       "   [                                                                                                                                                                                                                                                                                                                                                                                                                                                                                                                                                                                                                                                                                                                                                                                                                                                                                                                                                                                                                                                                                                                                                                                                                                                                                                                                                                                                                                                                                                                                                                                                                                                                                                                                                                                                                                                                                                                                                                                                                                                                     1.0]])]),\n",
       " (-0.666666666666667*\\gamma + 0.419973683298291*(0.166666666666667 - 0.288675134594813*I)*(-3.0*\\Delta**2 - 3.0*\\epsilon**2 + 0.25*\\gamma**2)/(\\Delta**2*\\gamma + 0.5*\\epsilon**2*\\gamma + 0.842592592592593*\\gamma**3 - 0.666666666666667*\\gamma*(\\Delta**2 + \\epsilon**2 + 1.25*\\gamma**2) + (-0.148148148148148*(-\\Delta**2 - \\epsilon**2 + 0.0833333333333333*\\gamma**2)**3 + (\\Delta**2*\\gamma + 0.5*\\epsilon**2*\\gamma + 0.842592592592593*\\gamma**3 - 0.666666666666667*\\gamma*(\\Delta**2 + \\epsilon**2 + 1.25*\\gamma**2))**2)**0.5)**0.333333333333333 + 2.3811015779523*(0.166666666666667 + 0.288675134594813*I)*(\\Delta**2*\\gamma + 0.5*\\epsilon**2*\\gamma + 0.842592592592593*\\gamma**3 - 0.666666666666667*\\gamma*(\\Delta**2 + \\epsilon**2 + 1.25*\\gamma**2) + (-0.148148148148148*(-\\Delta**2 - \\epsilon**2 + 0.0833333333333333*\\gamma**2)**3 + (\\Delta**2*\\gamma + 0.5*\\epsilon**2*\\gamma + 0.842592592592593*\\gamma**3 - 0.666666666666667*\\gamma*(\\Delta**2 + \\epsilon**2 + 1.25*\\gamma**2))**2)**0.5)**0.333333333333333,\n",
       "  1,\n",
       "  [Matrix([\n",
       "   [                                                                                                                                                                                                                                                                                                                                                                                                                                                                                                                                                                                                                                                                                                                                                                                                                                                                                                                                                                                                                                                                                                                                                                                                                                                                                                                                                                                                                                                                                                                                                                                                                                                                                                                                                                                                                                                                                                                                                                                                                                                                                                                                                                                                                                           -1.0],\n",
       "   [0.5*(-2.0*I*\\Delta - 3.0*\\gamma)*(-0.666666666666667*\\gamma + 0.419973683298291*(0.166666666666667 - 0.288675134594813*I)*(-3.0*\\Delta**2 - 3.0*\\epsilon**2 + 0.25*\\gamma**2)/(\\Delta**2*\\gamma + 0.5*\\epsilon**2*\\gamma + 0.842592592592593*\\gamma**3 - 0.666666666666667*\\gamma*(\\Delta**2 + \\epsilon**2 + 1.25*\\gamma**2) + (-0.148148148148148*(-\\Delta**2 - \\epsilon**2 + 0.0833333333333333*\\gamma**2)**3 + (\\Delta**2*\\gamma + 0.5*\\epsilon**2*\\gamma + 0.842592592592593*\\gamma**3 - 0.666666666666667*\\gamma*(\\Delta**2 + \\epsilon**2 + 1.25*\\gamma**2))**2)**0.5)**0.333333333333333 + 2.3811015779523*(0.166666666666667 + 0.288675134594813*I)*(\\Delta**2*\\gamma + 0.5*\\epsilon**2*\\gamma + 0.842592592592593*\\gamma**3 - 0.666666666666667*\\gamma*(\\Delta**2 + \\epsilon**2 + 1.25*\\gamma**2) + (-0.148148148148148*(-\\Delta**2 - \\epsilon**2 + 0.0833333333333333*\\gamma**2)**3 + (\\Delta**2*\\gamma + 0.5*\\epsilon**2*\\gamma + 0.842592592592593*\\gamma**3 - 0.666666666666667*\\gamma*(\\Delta**2 + \\epsilon**2 + 1.25*\\gamma**2))**2)**0.5)**0.333333333333333)/(\\Delta*\\epsilon) - 5.66964472452693*(-0.279982455532194*\\gamma + 0.176377894663133*(0.166666666666667 - 0.288675134594813*I)*(-3.0*\\Delta**2 - 3.0*\\epsilon**2 + 0.25*\\gamma**2)/(\\Delta**2*\\gamma + 0.5*\\epsilon**2*\\gamma + 0.842592592592593*\\gamma**3 - 0.666666666666667*\\gamma*(\\Delta**2 + \\epsilon**2 + 1.25*\\gamma**2) + (-0.148148148148148*(-\\Delta**2 - \\epsilon**2 + 0.0833333333333333*\\gamma**2)**3 + (\\Delta**2*\\gamma + 0.5*\\epsilon**2*\\gamma + 0.842592592592593*\\gamma**3 - 0.666666666666667*\\gamma*(\\Delta**2 + \\epsilon**2 + 1.25*\\gamma**2))**2)**0.5)**0.333333333333333 + (0.166666666666667 + 0.288675134594813*I)*(\\Delta**2*\\gamma + 0.5*\\epsilon**2*\\gamma + 0.842592592592593*\\gamma**3 - 0.666666666666667*\\gamma*(\\Delta**2 + \\epsilon**2 + 1.25*\\gamma**2) + (-0.148148148148148*(-\\Delta**2 - \\epsilon**2 + 0.0833333333333333*\\gamma**2)**3 + (\\Delta**2*\\gamma + 0.5*\\epsilon**2*\\gamma + 0.842592592592593*\\gamma**3 - 0.666666666666667*\\gamma*(\\Delta**2 + \\epsilon**2 + 1.25*\\gamma**2))**2)**0.5)**0.333333333333333)**2/(\\Delta*\\epsilon) + 0.5*(-2.0*I*\\Delta*\\gamma - 2.0*\\epsilon**2 - \\gamma**2)/(\\Delta*\\epsilon)],\n",
       "   [  0.5*(2.0*I*\\Delta - 3.0*\\gamma)*(-0.666666666666667*\\gamma + 0.419973683298291*(0.166666666666667 - 0.288675134594813*I)*(-3.0*\\Delta**2 - 3.0*\\epsilon**2 + 0.25*\\gamma**2)/(\\Delta**2*\\gamma + 0.5*\\epsilon**2*\\gamma + 0.842592592592593*\\gamma**3 - 0.666666666666667*\\gamma*(\\Delta**2 + \\epsilon**2 + 1.25*\\gamma**2) + (-0.148148148148148*(-\\Delta**2 - \\epsilon**2 + 0.0833333333333333*\\gamma**2)**3 + (\\Delta**2*\\gamma + 0.5*\\epsilon**2*\\gamma + 0.842592592592593*\\gamma**3 - 0.666666666666667*\\gamma*(\\Delta**2 + \\epsilon**2 + 1.25*\\gamma**2))**2)**0.5)**0.333333333333333 + 2.3811015779523*(0.166666666666667 + 0.288675134594813*I)*(\\Delta**2*\\gamma + 0.5*\\epsilon**2*\\gamma + 0.842592592592593*\\gamma**3 - 0.666666666666667*\\gamma*(\\Delta**2 + \\epsilon**2 + 1.25*\\gamma**2) + (-0.148148148148148*(-\\Delta**2 - \\epsilon**2 + 0.0833333333333333*\\gamma**2)**3 + (\\Delta**2*\\gamma + 0.5*\\epsilon**2*\\gamma + 0.842592592592593*\\gamma**3 - 0.666666666666667*\\gamma*(\\Delta**2 + \\epsilon**2 + 1.25*\\gamma**2))**2)**0.5)**0.333333333333333)/(\\Delta*\\epsilon) - 5.66964472452693*(-0.279982455532194*\\gamma + 0.176377894663133*(0.166666666666667 - 0.288675134594813*I)*(-3.0*\\Delta**2 - 3.0*\\epsilon**2 + 0.25*\\gamma**2)/(\\Delta**2*\\gamma + 0.5*\\epsilon**2*\\gamma + 0.842592592592593*\\gamma**3 - 0.666666666666667*\\gamma*(\\Delta**2 + \\epsilon**2 + 1.25*\\gamma**2) + (-0.148148148148148*(-\\Delta**2 - \\epsilon**2 + 0.0833333333333333*\\gamma**2)**3 + (\\Delta**2*\\gamma + 0.5*\\epsilon**2*\\gamma + 0.842592592592593*\\gamma**3 - 0.666666666666667*\\gamma*(\\Delta**2 + \\epsilon**2 + 1.25*\\gamma**2))**2)**0.5)**0.333333333333333 + (0.166666666666667 + 0.288675134594813*I)*(\\Delta**2*\\gamma + 0.5*\\epsilon**2*\\gamma + 0.842592592592593*\\gamma**3 - 0.666666666666667*\\gamma*(\\Delta**2 + \\epsilon**2 + 1.25*\\gamma**2) + (-0.148148148148148*(-\\Delta**2 - \\epsilon**2 + 0.0833333333333333*\\gamma**2)**3 + (\\Delta**2*\\gamma + 0.5*\\epsilon**2*\\gamma + 0.842592592592593*\\gamma**3 - 0.666666666666667*\\gamma*(\\Delta**2 + \\epsilon**2 + 1.25*\\gamma**2))**2)**0.5)**0.333333333333333)**2/(\\Delta*\\epsilon) + 0.5*(2.0*I*\\Delta*\\gamma - 2.0*\\epsilon**2 - \\gamma**2)/(\\Delta*\\epsilon)],\n",
       "   [                                                                                                                                                                                                                                                                                                                                                                                                                                                                                                                                                                                                                                                                                                                                                                                                                                                                                                                                                                                                                                                                                                                                                                                                                                                                                                                                                                                                                                                                                                                                                                                                                                                                                                                                                                                                                                                                                                                                                                                                                                                                                                                                                                                                                                            1.0]])]),\n",
       " (-0.666666666666667*\\gamma + 0.419973683298291*(0.166666666666667 + 0.288675134594813*I)*(-3.0*\\Delta**2 - 3.0*\\epsilon**2 + 0.25*\\gamma**2)/(\\Delta**2*\\gamma + 0.5*\\epsilon**2*\\gamma + 0.842592592592593*\\gamma**3 - 0.666666666666667*\\gamma*(\\Delta**2 + \\epsilon**2 + 1.25*\\gamma**2) + (-0.148148148148148*(-\\Delta**2 - \\epsilon**2 + 0.0833333333333333*\\gamma**2)**3 + (\\Delta**2*\\gamma + 0.5*\\epsilon**2*\\gamma + 0.842592592592593*\\gamma**3 - 0.666666666666667*\\gamma*(\\Delta**2 + \\epsilon**2 + 1.25*\\gamma**2))**2)**0.5)**0.333333333333333 + 2.3811015779523*(0.166666666666667 - 0.288675134594813*I)*(\\Delta**2*\\gamma + 0.5*\\epsilon**2*\\gamma + 0.842592592592593*\\gamma**3 - 0.666666666666667*\\gamma*(\\Delta**2 + \\epsilon**2 + 1.25*\\gamma**2) + (-0.148148148148148*(-\\Delta**2 - \\epsilon**2 + 0.0833333333333333*\\gamma**2)**3 + (\\Delta**2*\\gamma + 0.5*\\epsilon**2*\\gamma + 0.842592592592593*\\gamma**3 - 0.666666666666667*\\gamma*(\\Delta**2 + \\epsilon**2 + 1.25*\\gamma**2))**2)**0.5)**0.333333333333333,\n",
       "  1,\n",
       "  [Matrix([\n",
       "   [                                                                                                                                                                                                                                                                                                                                                                                                                                                                                                                                                                                                                                                                                                                                                                                                                                                                                                                                                                                                                                                                                                                                                                                                                                                                                                                                                                                                                                                                                                                                                                                                                                                                                                                                                                                                                                                                                                                                                                                                                                                                                                                                                                                                                                           -1.0],\n",
       "   [0.5*(-2.0*I*\\Delta - 3.0*\\gamma)*(-0.666666666666667*\\gamma + 0.419973683298291*(0.166666666666667 + 0.288675134594813*I)*(-3.0*\\Delta**2 - 3.0*\\epsilon**2 + 0.25*\\gamma**2)/(\\Delta**2*\\gamma + 0.5*\\epsilon**2*\\gamma + 0.842592592592593*\\gamma**3 - 0.666666666666667*\\gamma*(\\Delta**2 + \\epsilon**2 + 1.25*\\gamma**2) + (-0.148148148148148*(-\\Delta**2 - \\epsilon**2 + 0.0833333333333333*\\gamma**2)**3 + (\\Delta**2*\\gamma + 0.5*\\epsilon**2*\\gamma + 0.842592592592593*\\gamma**3 - 0.666666666666667*\\gamma*(\\Delta**2 + \\epsilon**2 + 1.25*\\gamma**2))**2)**0.5)**0.333333333333333 + 2.3811015779523*(0.166666666666667 - 0.288675134594813*I)*(\\Delta**2*\\gamma + 0.5*\\epsilon**2*\\gamma + 0.842592592592593*\\gamma**3 - 0.666666666666667*\\gamma*(\\Delta**2 + \\epsilon**2 + 1.25*\\gamma**2) + (-0.148148148148148*(-\\Delta**2 - \\epsilon**2 + 0.0833333333333333*\\gamma**2)**3 + (\\Delta**2*\\gamma + 0.5*\\epsilon**2*\\gamma + 0.842592592592593*\\gamma**3 - 0.666666666666667*\\gamma*(\\Delta**2 + \\epsilon**2 + 1.25*\\gamma**2))**2)**0.5)**0.333333333333333)/(\\Delta*\\epsilon) - 5.66964472452693*(-0.279982455532194*\\gamma + 0.176377894663133*(0.166666666666667 + 0.288675134594813*I)*(-3.0*\\Delta**2 - 3.0*\\epsilon**2 + 0.25*\\gamma**2)/(\\Delta**2*\\gamma + 0.5*\\epsilon**2*\\gamma + 0.842592592592593*\\gamma**3 - 0.666666666666667*\\gamma*(\\Delta**2 + \\epsilon**2 + 1.25*\\gamma**2) + (-0.148148148148148*(-\\Delta**2 - \\epsilon**2 + 0.0833333333333333*\\gamma**2)**3 + (\\Delta**2*\\gamma + 0.5*\\epsilon**2*\\gamma + 0.842592592592593*\\gamma**3 - 0.666666666666667*\\gamma*(\\Delta**2 + \\epsilon**2 + 1.25*\\gamma**2))**2)**0.5)**0.333333333333333 + (0.166666666666667 - 0.288675134594813*I)*(\\Delta**2*\\gamma + 0.5*\\epsilon**2*\\gamma + 0.842592592592593*\\gamma**3 - 0.666666666666667*\\gamma*(\\Delta**2 + \\epsilon**2 + 1.25*\\gamma**2) + (-0.148148148148148*(-\\Delta**2 - \\epsilon**2 + 0.0833333333333333*\\gamma**2)**3 + (\\Delta**2*\\gamma + 0.5*\\epsilon**2*\\gamma + 0.842592592592593*\\gamma**3 - 0.666666666666667*\\gamma*(\\Delta**2 + \\epsilon**2 + 1.25*\\gamma**2))**2)**0.5)**0.333333333333333)**2/(\\Delta*\\epsilon) + 0.5*(-2.0*I*\\Delta*\\gamma - 2.0*\\epsilon**2 - \\gamma**2)/(\\Delta*\\epsilon)],\n",
       "   [  0.5*(2.0*I*\\Delta - 3.0*\\gamma)*(-0.666666666666667*\\gamma + 0.419973683298291*(0.166666666666667 + 0.288675134594813*I)*(-3.0*\\Delta**2 - 3.0*\\epsilon**2 + 0.25*\\gamma**2)/(\\Delta**2*\\gamma + 0.5*\\epsilon**2*\\gamma + 0.842592592592593*\\gamma**3 - 0.666666666666667*\\gamma*(\\Delta**2 + \\epsilon**2 + 1.25*\\gamma**2) + (-0.148148148148148*(-\\Delta**2 - \\epsilon**2 + 0.0833333333333333*\\gamma**2)**3 + (\\Delta**2*\\gamma + 0.5*\\epsilon**2*\\gamma + 0.842592592592593*\\gamma**3 - 0.666666666666667*\\gamma*(\\Delta**2 + \\epsilon**2 + 1.25*\\gamma**2))**2)**0.5)**0.333333333333333 + 2.3811015779523*(0.166666666666667 - 0.288675134594813*I)*(\\Delta**2*\\gamma + 0.5*\\epsilon**2*\\gamma + 0.842592592592593*\\gamma**3 - 0.666666666666667*\\gamma*(\\Delta**2 + \\epsilon**2 + 1.25*\\gamma**2) + (-0.148148148148148*(-\\Delta**2 - \\epsilon**2 + 0.0833333333333333*\\gamma**2)**3 + (\\Delta**2*\\gamma + 0.5*\\epsilon**2*\\gamma + 0.842592592592593*\\gamma**3 - 0.666666666666667*\\gamma*(\\Delta**2 + \\epsilon**2 + 1.25*\\gamma**2))**2)**0.5)**0.333333333333333)/(\\Delta*\\epsilon) - 5.66964472452693*(-0.279982455532194*\\gamma + 0.176377894663133*(0.166666666666667 + 0.288675134594813*I)*(-3.0*\\Delta**2 - 3.0*\\epsilon**2 + 0.25*\\gamma**2)/(\\Delta**2*\\gamma + 0.5*\\epsilon**2*\\gamma + 0.842592592592593*\\gamma**3 - 0.666666666666667*\\gamma*(\\Delta**2 + \\epsilon**2 + 1.25*\\gamma**2) + (-0.148148148148148*(-\\Delta**2 - \\epsilon**2 + 0.0833333333333333*\\gamma**2)**3 + (\\Delta**2*\\gamma + 0.5*\\epsilon**2*\\gamma + 0.842592592592593*\\gamma**3 - 0.666666666666667*\\gamma*(\\Delta**2 + \\epsilon**2 + 1.25*\\gamma**2))**2)**0.5)**0.333333333333333 + (0.166666666666667 - 0.288675134594813*I)*(\\Delta**2*\\gamma + 0.5*\\epsilon**2*\\gamma + 0.842592592592593*\\gamma**3 - 0.666666666666667*\\gamma*(\\Delta**2 + \\epsilon**2 + 1.25*\\gamma**2) + (-0.148148148148148*(-\\Delta**2 - \\epsilon**2 + 0.0833333333333333*\\gamma**2)**3 + (\\Delta**2*\\gamma + 0.5*\\epsilon**2*\\gamma + 0.842592592592593*\\gamma**3 - 0.666666666666667*\\gamma*(\\Delta**2 + \\epsilon**2 + 1.25*\\gamma**2))**2)**0.5)**0.333333333333333)**2/(\\Delta*\\epsilon) + 0.5*(2.0*I*\\Delta*\\gamma - 2.0*\\epsilon**2 - \\gamma**2)/(\\Delta*\\epsilon)],\n",
       "   [                                                                                                                                                                                                                                                                                                                                                                                                                                                                                                                                                                                                                                                                                                                                                                                                                                                                                                                                                                                                                                                                                                                                                                                                                                                                                                                                                                                                                                                                                                                                                                                                                                                                                                                                                                                                                                                                                                                                                                                                                                                                                                                                                                                                                                            1.0]])])]"
      ]
     },
     "execution_count": 202,
     "metadata": {},
     "output_type": "execute_result"
    }
   ],
   "source": [
    "eig_mat\n"
   ]
  },
  {
   "cell_type": "code",
   "execution_count": 203,
   "metadata": {},
   "outputs": [
    {
     "name": "stdout",
     "output_type": "stream",
     "text": [
      "rho_ss Matrix([[0.166666666666667, 0.333333333333333 + 0.166666666666667*I], [0.333333333333333 - 0.166666666666667*I, 1.00000000000000]])\n"
     ]
    }
   ],
   "source": [
    "print('rho_ss',eig_mat[0][2][0].subs({d:-1,g:1,e:1}).reshape(2,2))"
   ]
  },
  {
   "cell_type": "markdown",
   "metadata": {},
   "source": [
    "# Conclusion\n",
    "\n",
    "- EigenMatrices given by np.linalg.eig and scipy.eig is not correct \n",
    "- validated the consistency of qutip results with quatumoptics.jl package"
   ]
  }
 ],
 "metadata": {
  "kernelspec": {
   "display_name": "qc",
   "language": "python",
   "name": "python3"
  },
  "language_info": {
   "codemirror_mode": {
    "name": "ipython",
    "version": 3
   },
   "file_extension": ".py",
   "mimetype": "text/x-python",
   "name": "python",
   "nbconvert_exporter": "python",
   "pygments_lexer": "ipython3",
   "version": "3.10.12"
  }
 },
 "nbformat": 4,
 "nbformat_minor": 2
}
