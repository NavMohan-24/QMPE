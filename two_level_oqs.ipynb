{
 "cells": [
  {
   "cell_type": "code",
   "execution_count": 1,
   "metadata": {},
   "outputs": [],
   "source": [
    "import qutip as qt\n",
    "import numpy as np\n",
    "import scipy as sp"
   ]
  },
  {
   "cell_type": "code",
   "execution_count": 2,
   "metadata": {},
   "outputs": [],
   "source": [
    "sx = 0.5*qt.operators.sigmax()\n",
    "sz = 0.5*qt.operators.sigmaz()\n",
    "I = qt.operators.identity(2)\n",
    "sm = qt.operators.sigmam()"
   ]
  },
  {
   "cell_type": "code",
   "execution_count": 22,
   "metadata": {},
   "outputs": [],
   "source": [
    "def hamiltonian_two_level(N,omega,delta):\n",
    "  sx = 0.5*qt.operators.sigmax()\n",
    "  sz = 0.5*qt.operators.sigmaz()\n",
    "  I = qt.operators.identity(2)\n",
    "\n",
    "  ham = qt.tensor([I*0]*N)\n",
    "  for i in range(N):\n",
    "    hz = qt.tensor([sz if j==i else I for j in range(N)])\n",
    "    hx = qt.tensor([sx if j==i else I for j in range(N)])\n",
    "    ham += delta*hz+omega*hx\n",
    "    \n",
    "  \n",
    "  return(ham)"
   ]
  },
  {
   "cell_type": "code",
   "execution_count": 23,
   "metadata": {},
   "outputs": [
    {
     "data": {
      "text/latex": [
       "Quantum object: dims = [[2], [2]], shape = (2, 2), type = oper, isherm = True $ \\\\ \\left(\\begin{matrix}-0.500 & 0.500\\\\0.500 & 0.500\\\\\\end{matrix}\\right)$"
      ],
      "text/plain": [
       "Quantum object: dims = [[2], [2]], shape = (2, 2), type = oper, isherm = True\n",
       "Qobj data =\n",
       "[[-0.5  0.5]\n",
       " [ 0.5  0.5]]"
      ]
     },
     "execution_count": 23,
     "metadata": {},
     "output_type": "execute_result"
    }
   ],
   "source": [
    "N = 1\n",
    "omega = 1\n",
    "delta = -1\n",
    "\n",
    "ham = hamiltonian_two_level(N,omega,delta)\n",
    "ham"
   ]
  },
  {
   "cell_type": "raw",
   "metadata": {
    "vscode": {
     "languageId": "raw"
    }
   },
   "source": [
    "#validation\n",
    "ham = delta*sz+omega*sx\n",
    "ham"
   ]
  },
  {
   "cell_type": "code",
   "execution_count": 24,
   "metadata": {},
   "outputs": [],
   "source": [
    "I = qt.operators.identity(2)\n",
    "Id = qt.tensor([I]*N)"
   ]
  },
  {
   "cell_type": "code",
   "execution_count": 36,
   "metadata": {},
   "outputs": [
    {
     "data": {
      "text/latex": [
       "Quantum object: dims = [[2, 2], [2, 2]], shape = (4, 4), type = oper, isherm = False $ \\\\ \\left(\\begin{matrix}0.0 & -0.500j & 0.500j & 0.0\\\\-0.500j & -1.0j & 0.0 & 0.500j\\\\0.500j & 0.0 & 1.0j & -0.500j\\\\0.0 & 0.500j & -0.500j & 0.0\\\\\\end{matrix}\\right)$"
      ],
      "text/plain": [
       "Quantum object: dims = [[2, 2], [2, 2]], shape = (4, 4), type = oper, isherm = False\n",
       "Qobj data =\n",
       "[[0.+0.j  0.-0.5j 0.+0.5j 0.+0.j ]\n",
       " [0.-0.5j 0.-1.j  0.+0.j  0.+0.5j]\n",
       " [0.+0.5j 0.+0.j  0.+1.j  0.-0.5j]\n",
       " [0.+0.j  0.+0.5j 0.-0.5j 0.+0.j ]]"
      ]
     },
     "execution_count": 36,
     "metadata": {},
     "output_type": "execute_result"
    }
   ],
   "source": [
    "coherent = -1j*(qt.tensor(Id,ham)-qt.tensor(ham.trans(),Id))\n",
    "coherent"
   ]
  },
  {
   "cell_type": "code",
   "execution_count": 38,
   "metadata": {},
   "outputs": [],
   "source": [
    "kappa = 1\n",
    "c_ops = [qt.tensor([sm if i==j  else I for j in range(N)]) for i in range(N)]\n",
    "c_ops = [np.sqrt(kappa) * c_op for c_op in c_ops]\n",
    "c_tops = [c.dag() for c in c_ops]"
   ]
  },
  {
   "cell_type": "code",
   "execution_count": 39,
   "metadata": {},
   "outputs": [
    {
     "data": {
      "text/latex": [
       "Quantum object: dims = [[2, 2], [2, 2]], shape = (4, 4), type = oper, isherm = False $ \\\\ \\left(\\begin{matrix}-1.0 & 0.0 & 0.0 & 0.0\\\\0.0 & -0.500 & 0.0 & 0.0\\\\0.0 & 0.0 & -0.500 & 0.0\\\\1.0 & 0.0 & 0.0 & 0.0\\\\\\end{matrix}\\right)$"
      ],
      "text/plain": [
       "Quantum object: dims = [[2, 2], [2, 2]], shape = (4, 4), type = oper, isherm = False\n",
       "Qobj data =\n",
       "[[-1.   0.   0.   0. ]\n",
       " [ 0.  -0.5  0.   0. ]\n",
       " [ 0.   0.  -0.5  0. ]\n",
       " [ 1.   0.   0.   0. ]]"
      ]
     },
     "execution_count": 39,
     "metadata": {},
     "output_type": "execute_result"
    }
   ],
   "source": [
    "dissipative_part = sum([qt.tensor(Ad.trans(),A)-0.5*qt.tensor(Id,Ad*A)-0.5*qt.tensor((Ad*A).trans(),Id) for Ad,A in zip(c_tops,c_ops)])\n",
    "dissipative_part"
   ]
  },
  {
   "cell_type": "code",
   "execution_count": 40,
   "metadata": {},
   "outputs": [
    {
     "data": {
      "text/latex": [
       "Quantum object: dims = [[2, 2], [2, 2]], shape = (4, 4), type = oper, isherm = False $ \\\\ \\left(\\begin{matrix}-1.0 & -0.500j & 0.500j & 0.0\\\\-0.500j & (-0.500-1.0j) & 0.0 & 0.500j\\\\0.500j & 0.0 & (-0.500+1.0j) & -0.500j\\\\1.0 & 0.500j & -0.500j & 0.0\\\\\\end{matrix}\\right)$"
      ],
      "text/plain": [
       "Quantum object: dims = [[2, 2], [2, 2]], shape = (4, 4), type = oper, isherm = False\n",
       "Qobj data =\n",
       "[[-1. +0.j   0. -0.5j  0. +0.5j  0. +0.j ]\n",
       " [ 0. -0.5j -0.5-1.j   0. +0.j   0. +0.5j]\n",
       " [ 0. +0.5j  0. +0.j  -0.5+1.j   0. -0.5j]\n",
       " [ 1. +0.j   0. +0.5j  0. -0.5j  0. +0.j ]]"
      ]
     },
     "execution_count": 40,
     "metadata": {},
     "output_type": "execute_result"
    }
   ],
   "source": [
    "Linbladian = coherent+dissipative_part\n",
    "Linbladian"
   ]
  },
  {
   "cell_type": "code",
   "execution_count": 41,
   "metadata": {},
   "outputs": [],
   "source": [
    "val,mat = np.linalg.eig(Linbladian)"
   ]
  },
  {
   "cell_type": "code",
   "execution_count": 42,
   "metadata": {},
   "outputs": [
    {
     "data": {
      "text/plain": [
       "array([-6.20972064e-01-1.38669775e+00j, -6.20972064e-01+1.38669775e+00j,\n",
       "        2.73135115e-16+1.47924831e-17j, -7.58055872e-01-1.86951828e-16j])"
      ]
     },
     "execution_count": 42,
     "metadata": {},
     "output_type": "execute_result"
    }
   ],
   "source": [
    "val"
   ]
  },
  {
   "cell_type": "code",
   "execution_count": 43,
   "metadata": {},
   "outputs": [
    {
     "data": {
      "text/plain": [
       "matrix([[-0.14092519+0.03636657j,  0.85841332+0.j        ],\n",
       "        [ 0.29172998-0.14586499j, -0.47627547-0.12290568j]])"
      ]
     },
     "execution_count": 43,
     "metadata": {},
     "output_type": "execute_result"
    }
   ],
   "source": [
    "np.matrix(mat[2].reshape(2,2))"
   ]
  },
  {
   "cell_type": "code",
   "execution_count": null,
   "metadata": {},
   "outputs": [],
   "source": []
  }
 ],
 "metadata": {
  "kernelspec": {
   "display_name": "nqs",
   "language": "python",
   "name": "python3"
  },
  "language_info": {
   "codemirror_mode": {
    "name": "ipython",
    "version": 3
   },
   "file_extension": ".py",
   "mimetype": "text/x-python",
   "name": "python",
   "nbconvert_exporter": "python",
   "pygments_lexer": "ipython3",
   "version": "3.11.7"
  }
 },
 "nbformat": 4,
 "nbformat_minor": 2
}
