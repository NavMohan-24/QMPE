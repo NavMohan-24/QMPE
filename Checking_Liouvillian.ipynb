{
 "cells": [
  {
   "cell_type": "code",
   "execution_count": 25,
   "metadata": {},
   "outputs": [],
   "source": [
    "import numpy as np\n",
    "import qutip as qt\n",
    "import sympy as sp\n",
    "\n"
   ]
  },
  {
   "cell_type": "markdown",
   "metadata": {},
   "source": [
    "## Numerical Calculation Linbladian"
   ]
  },
  {
   "cell_type": "code",
   "execution_count": 39,
   "metadata": {},
   "outputs": [],
   "source": [
    "p,q,r,s = sp.symbols('\\\\rho_{11} \\\\rho_{12} \\\\rho_{21} \\\\rho_{22}')\n",
    "d,o,k = sp.symbols('\\Delta \\Omega \\gamma')\n",
    "w,x,y,z = sp.symbols('c_{11} c_{12} c_{21} c_{22}')\n",
    "\n",
    "j = sp.Symbol('j')"
   ]
  },
  {
   "cell_type": "code",
   "execution_count": 42,
   "metadata": {},
   "outputs": [
    {
     "data": {
      "text/latex": [
       "$\\displaystyle \\left[\\begin{matrix}\\overline{c_{11}} & \\overline{c_{21}}\\\\\\overline{c_{12}} & \\overline{c_{22}}\\end{matrix}\\right]$"
      ],
      "text/plain": [
       "Matrix([\n",
       "[conjugate(c_{11}), conjugate(c_{21})],\n",
       "[conjugate(c_{12}), conjugate(c_{22})]])"
      ]
     },
     "execution_count": 42,
     "metadata": {},
     "output_type": "execute_result"
    }
   ],
   "source": [
    "rho = sp.Matrix([[p,q],[r,s]])\n",
    "ham = sp.Matrix([[-d,o],[o,d]])\n",
    "c = sp.Matrix([[w,x],[y,z]])\n",
    "cdag = c.H"
   ]
  },
  {
   "cell_type": "code",
   "execution_count": 45,
   "metadata": {},
   "outputs": [
    {
     "data": {
      "text/latex": [
       "$\\displaystyle \\left[\\begin{matrix}0 & -1\\\\1 & 0\\end{matrix}\\right]$"
      ],
      "text/plain": [
       "Matrix([\n",
       "[0, -1],\n",
       "[1,  0]])"
      ]
     },
     "execution_count": 45,
     "metadata": {},
     "output_type": "execute_result"
    }
   ],
   "source": [
    "coherent_term = ham*rho-rho*ham\n",
    "coherent_term.subs({p:1,q:0,r:0,s:0,o:1})"
   ]
  },
  {
   "cell_type": "code",
   "execution_count": 55,
   "metadata": {},
   "outputs": [
    {
     "data": {
      "text/latex": [
       "$\\displaystyle \\left[\\begin{matrix}-1.0 & 0\\\\0 & 1.0\\end{matrix}\\right]$"
      ],
      "text/plain": [
       "Matrix([\n",
       "[-1.0,   0],\n",
       "[   0, 1.0]])"
      ]
     },
     "execution_count": 55,
     "metadata": {},
     "output_type": "execute_result"
    }
   ],
   "source": [
    "dis_1 = 2*c*rho*cdag\n",
    "dis_2 = rho*cdag*c\n",
    "dis_3 = cdag*c*rho\n",
    "dissipator = 0.5*(dis_1-dis_2-dis_3)\n",
    "\n",
    "dissipator.subs({p:1,q:0,r:0,s:0,w:0,x:0,y:1,z:0})"
   ]
  },
  {
   "cell_type": "code",
   "execution_count": 56,
   "metadata": {},
   "outputs": [
    {
     "data": {
      "text/latex": [
       "$\\displaystyle \\left[\\begin{matrix}-1.0 & - j\\\\j & 1.0\\end{matrix}\\right]$"
      ],
      "text/plain": [
       "Matrix([\n",
       "[-1.0,  -j],\n",
       "[   j, 1.0]])"
      ]
     },
     "execution_count": 56,
     "metadata": {},
     "output_type": "execute_result"
    }
   ],
   "source": [
    "# Linbladian?\n",
    "j*coherent_term.subs({p:1,q:0,r:0,s:0,o:1})+k.subs({k:1})*dissipator.subs({p:1,q:0,r:0,s:0,w:0,x:0,y:1,z:0})"
   ]
  },
  {
   "cell_type": "markdown",
   "metadata": {},
   "source": [
    "# Liouvillian fron Qutip"
   ]
  },
  {
   "cell_type": "code",
   "execution_count": 73,
   "metadata": {},
   "outputs": [],
   "source": [
    "def hamiltonian_ising(N,omega,delta,V):\n",
    "  sx = qt.operators.sigmax()\n",
    "  sy = qt.operators.sigmay()\n",
    "  sz = qt.operators.sigmaz()\n",
    "  I = qt.operators.identity(2)\n",
    "\n",
    "  ising_ham = qt.tensor([I*0]*N)\n",
    "  for i in range(N):\n",
    "    hz = qt.tensor([sz if j==i else I for j in range(N)])\n",
    "    hx = qt.tensor([sx if j==i else I for j in range(N)])\n",
    "    ising_ham += -1*delta*hz+omega*hx\n",
    "    for j in range(i + 1, N):\n",
    "        # Interaction term between qubit i and qubit j\n",
    "        #print(i,j)\n",
    "        hzz = qt.tensor([sz if k == i or k == j else I for k in range(N)]) # assume obc\n",
    "        ising_ham += (V/N)*hzz\n",
    "  \n",
    "  #print(hz,hx,hzz)\n",
    "  \n",
    "  return(ising_ham)"
   ]
  },
  {
   "cell_type": "code",
   "execution_count": 75,
   "metadata": {},
   "outputs": [
    {
     "data": {
      "text/latex": [
       "Quantum object: dims = [[2], [2]], shape = (2, 2), type = oper, isherm = True $ \\\\ \\left(\\begin{matrix}-1.0 & 1.0\\\\1.0 & 1.0\\\\\\end{matrix}\\right)$"
      ],
      "text/plain": [
       "Quantum object: dims = [[2], [2]], shape = (2, 2), type = oper, isherm = True\n",
       "Qobj data =\n",
       "[[-1.  1.]\n",
       " [ 1.  1.]]"
      ]
     },
     "execution_count": 75,
     "metadata": {},
     "output_type": "execute_result"
    }
   ],
   "source": [
    "ham = hamiltonian_ising(1,1,1,3)\n",
    "ham"
   ]
  },
  {
   "cell_type": "code",
   "execution_count": 77,
   "metadata": {},
   "outputs": [],
   "source": [
    "psi0 = qt.tensor(qt.basis(2,0),qt.basis(2,1))\n",
    "sm = qt.operators.sigmam()\n",
    "I = qt.operators.identity(2)\n",
    "kappa = 1\n",
    "N=1\n",
    "c_ops = [qt.tensor([sm if i==j  else I for j in range(N)]) for i in range(N)]\n",
    "c_ops = [np.sqrt(kappa) * c_op for c_op in c_ops]\n",
    "L = qt.liouvillian(ham, c_ops).full()"
   ]
  },
  {
   "cell_type": "code",
   "execution_count": 81,
   "metadata": {},
   "outputs": [
    {
     "data": {
      "text/plain": [
       "[Quantum object: dims = [[2], [2]], shape = (2, 2), type = oper, isherm = False\n",
       " Qobj data =\n",
       " [[0. 0.]\n",
       "  [1. 0.]]]"
      ]
     },
     "execution_count": 81,
     "metadata": {},
     "output_type": "execute_result"
    }
   ],
   "source": [
    "c_ops"
   ]
  },
  {
   "cell_type": "code",
   "execution_count": 78,
   "metadata": {},
   "outputs": [
    {
     "data": {
      "text/plain": [
       "array([[-1. +0.j,  0. -1.j,  0. +1.j,  0. +0.j],\n",
       "       [ 0. -1.j, -0.5-2.j,  0. +0.j,  0. +1.j],\n",
       "       [ 0. +1.j,  0. +0.j, -0.5+2.j,  0. -1.j],\n",
       "       [ 1. +0.j,  0. +1.j,  0. -1.j,  0. +0.j]])"
      ]
     },
     "execution_count": 78,
     "metadata": {},
     "output_type": "execute_result"
    }
   ],
   "source": [
    "L"
   ]
  },
  {
   "cell_type": "code",
   "execution_count": 80,
   "metadata": {},
   "outputs": [
    {
     "data": {
      "text/latex": [
       "Quantum object: dims = [[2, 2], [2, 2]], shape = (4, 4), type = oper, isherm = True $ \\\\ \\left(\\begin{matrix}0.0 & 0.0 & 0.0 & 0.0\\\\0.0 & 1.0 & 0.0 & 0.0\\\\0.0 & 0.0 & 0.0 & 0.0\\\\0.0 & 0.0 & 0.0 & 0.0\\\\\\end{matrix}\\right)$"
      ],
      "text/plain": [
       "Quantum object: dims = [[2, 2], [2, 2]], shape = (4, 4), type = oper, isherm = True\n",
       "Qobj data =\n",
       "[[0. 0. 0. 0.]\n",
       " [0. 1. 0. 0.]\n",
       " [0. 0. 0. 0.]\n",
       " [0. 0. 0. 0.]]"
      ]
     },
     "execution_count": 80,
     "metadata": {},
     "output_type": "execute_result"
    }
   ],
   "source": [
    "psi0*psi0.dag()"
   ]
  },
  {
   "cell_type": "code",
   "execution_count": null,
   "metadata": {},
   "outputs": [],
   "source": []
  }
 ],
 "metadata": {
  "kernelspec": {
   "display_name": "nqs",
   "language": "python",
   "name": "python3"
  },
  "language_info": {
   "codemirror_mode": {
    "name": "ipython",
    "version": 3
   },
   "file_extension": ".py",
   "mimetype": "text/x-python",
   "name": "python",
   "nbconvert_exporter": "python",
   "pygments_lexer": "ipython3",
   "version": "3.11.7"
  }
 },
 "nbformat": 4,
 "nbformat_minor": 2
}
